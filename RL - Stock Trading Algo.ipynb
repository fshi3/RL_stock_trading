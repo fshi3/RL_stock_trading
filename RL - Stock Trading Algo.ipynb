{
 "cells": [
  {
   "cell_type": "markdown",
   "id": "b2bb87f7",
   "metadata": {},
   "source": [
    "<h1>Reinforcement Learning Final Project - Stock Trading Algorithm</h1>\n",
    "    \n",
    "<br>\n",
    "Implementation using the \n",
    "\"anytrading\" environment in OpenAIGym\n",
    "<br>\n",
    "https://github.com/AminHP/gym-anytrading"
   ]
  },
  {
   "cell_type": "code",
   "execution_count": 125,
   "id": "3780bdab",
   "metadata": {
    "scrolled": true
   },
   "outputs": [
    {
     "name": "stdout",
     "output_type": "stream",
     "text": [
      "Requirement already satisfied: gym-anytrading in /Users/forestshi/opt/anaconda3/lib/python3.7/site-packages (1.2.0)\n",
      "Requirement already satisfied: numpy>=1.16.4 in /Users/forestshi/opt/anaconda3/lib/python3.7/site-packages (from gym-anytrading) (1.21.5)\n",
      "Requirement already satisfied: gym>=0.12.5 in /Users/forestshi/opt/anaconda3/lib/python3.7/site-packages (from gym-anytrading) (0.21.0)\n",
      "Requirement already satisfied: matplotlib>=3.1.1 in /Users/forestshi/opt/anaconda3/lib/python3.7/site-packages (from gym-anytrading) (3.1.3)\n",
      "Requirement already satisfied: pandas>=0.24.2 in /Users/forestshi/opt/anaconda3/lib/python3.7/site-packages (from gym-anytrading) (1.0.1)\n",
      "Requirement already satisfied: cloudpickle>=1.2.0 in /Users/forestshi/opt/anaconda3/lib/python3.7/site-packages (from gym>=0.12.5->gym-anytrading) (2.0.0)\n",
      "Requirement already satisfied: importlib-metadata>=4.8.1 in /Users/forestshi/opt/anaconda3/lib/python3.7/site-packages (from gym>=0.12.5->gym-anytrading) (4.11.3)\n",
      "Requirement already satisfied: kiwisolver>=1.0.1 in /Users/forestshi/opt/anaconda3/lib/python3.7/site-packages (from matplotlib>=3.1.1->gym-anytrading) (1.3.2)\n",
      "Requirement already satisfied: python-dateutil>=2.1 in /Users/forestshi/opt/anaconda3/lib/python3.7/site-packages (from matplotlib>=3.1.1->gym-anytrading) (2.8.2)\n",
      "Requirement already satisfied: pyparsing!=2.0.4,!=2.1.2,!=2.1.6,>=2.0.1 in /Users/forestshi/opt/anaconda3/lib/python3.7/site-packages (from matplotlib>=3.1.1->gym-anytrading) (3.0.4)\n",
      "Requirement already satisfied: cycler>=0.10 in /Users/forestshi/opt/anaconda3/lib/python3.7/site-packages (from matplotlib>=3.1.1->gym-anytrading) (0.11.0)\n",
      "Requirement already satisfied: pytz>=2017.2 in /Users/forestshi/opt/anaconda3/lib/python3.7/site-packages (from pandas>=0.24.2->gym-anytrading) (2021.3)\n",
      "Requirement already satisfied: zipp>=0.5 in /Users/forestshi/opt/anaconda3/lib/python3.7/site-packages (from importlib-metadata>=4.8.1->gym>=0.12.5->gym-anytrading) (3.7.0)\n",
      "Requirement already satisfied: typing-extensions>=3.6.4 in /Users/forestshi/opt/anaconda3/lib/python3.7/site-packages (from importlib-metadata>=4.8.1->gym>=0.12.5->gym-anytrading) (4.1.1)\n",
      "Requirement already satisfied: six>=1.5 in /Users/forestshi/opt/anaconda3/lib/python3.7/site-packages (from python-dateutil>=2.1->matplotlib>=3.1.1->gym-anytrading) (1.16.0)\n",
      "Note: you may need to restart the kernel to use updated packages.\n"
     ]
    }
   ],
   "source": [
    "pip install gym-anytrading"
   ]
  },
  {
   "cell_type": "code",
   "execution_count": 126,
   "id": "1eeff598",
   "metadata": {},
   "outputs": [],
   "source": [
    "# importing the OpenAIGym Environment for stock trading\n",
    "import gym\n",
    "import gym_anytrading\n",
    "import matplotlib.pyplot as plt\n",
    "import tensorflow as tf\n",
    "import numpy as np\n",
    "from tensorflow import keras\n",
    "from tensorflow.keras import layers\n",
    "from gym_anytrading.datasets import STOCKS_GOOGL\n",
    "import random\n"
   ]
  },
  {
   "cell_type": "code",
   "execution_count": 172,
   "id": "625d64e1",
   "metadata": {},
   "outputs": [
    {
     "data": {
      "text/html": [
       "<div>\n",
       "<style scoped>\n",
       "    .dataframe tbody tr th:only-of-type {\n",
       "        vertical-align: middle;\n",
       "    }\n",
       "\n",
       "    .dataframe tbody tr th {\n",
       "        vertical-align: top;\n",
       "    }\n",
       "\n",
       "    .dataframe thead th {\n",
       "        text-align: right;\n",
       "    }\n",
       "</style>\n",
       "<table border=\"1\" class=\"dataframe\">\n",
       "  <thead>\n",
       "    <tr style=\"text-align: right;\">\n",
       "      <th></th>\n",
       "      <th>Open</th>\n",
       "      <th>High</th>\n",
       "      <th>Low</th>\n",
       "      <th>Close</th>\n",
       "      <th>Adj Close</th>\n",
       "      <th>Volume</th>\n",
       "    </tr>\n",
       "    <tr>\n",
       "      <th>Date</th>\n",
       "      <th></th>\n",
       "      <th></th>\n",
       "      <th></th>\n",
       "      <th></th>\n",
       "      <th></th>\n",
       "      <th></th>\n",
       "    </tr>\n",
       "  </thead>\n",
       "  <tbody>\n",
       "    <tr>\n",
       "      <th>2009-05-22</th>\n",
       "      <td>198.528534</td>\n",
       "      <td>199.524521</td>\n",
       "      <td>196.196198</td>\n",
       "      <td>196.946945</td>\n",
       "      <td>196.946945</td>\n",
       "      <td>3433700</td>\n",
       "    </tr>\n",
       "    <tr>\n",
       "      <th>2009-05-26</th>\n",
       "      <td>196.171173</td>\n",
       "      <td>202.702698</td>\n",
       "      <td>195.195190</td>\n",
       "      <td>202.382385</td>\n",
       "      <td>202.382385</td>\n",
       "      <td>6202700</td>\n",
       "    </tr>\n",
       "    <tr>\n",
       "      <th>2009-05-27</th>\n",
       "      <td>203.023026</td>\n",
       "      <td>206.136139</td>\n",
       "      <td>202.607605</td>\n",
       "      <td>202.982986</td>\n",
       "      <td>202.982986</td>\n",
       "      <td>6062500</td>\n",
       "    </tr>\n",
       "    <tr>\n",
       "      <th>2009-05-28</th>\n",
       "      <td>204.544540</td>\n",
       "      <td>206.016022</td>\n",
       "      <td>202.507507</td>\n",
       "      <td>205.405411</td>\n",
       "      <td>205.405411</td>\n",
       "      <td>5332200</td>\n",
       "    </tr>\n",
       "    <tr>\n",
       "      <th>2009-05-29</th>\n",
       "      <td>206.261261</td>\n",
       "      <td>208.823822</td>\n",
       "      <td>205.555557</td>\n",
       "      <td>208.823822</td>\n",
       "      <td>208.823822</td>\n",
       "      <td>5291100</td>\n",
       "    </tr>\n",
       "    <tr>\n",
       "      <th>...</th>\n",
       "      <td>...</td>\n",
       "      <td>...</td>\n",
       "      <td>...</td>\n",
       "      <td>...</td>\n",
       "      <td>...</td>\n",
       "      <td>...</td>\n",
       "    </tr>\n",
       "    <tr>\n",
       "      <th>2018-08-23</th>\n",
       "      <td>1219.880005</td>\n",
       "      <td>1235.170044</td>\n",
       "      <td>1219.349976</td>\n",
       "      <td>1221.160034</td>\n",
       "      <td>1221.160034</td>\n",
       "      <td>1233300</td>\n",
       "    </tr>\n",
       "    <tr>\n",
       "      <th>2018-08-24</th>\n",
       "      <td>1226.000000</td>\n",
       "      <td>1237.400024</td>\n",
       "      <td>1221.420044</td>\n",
       "      <td>1236.750000</td>\n",
       "      <td>1236.750000</td>\n",
       "      <td>1222700</td>\n",
       "    </tr>\n",
       "    <tr>\n",
       "      <th>2018-08-27</th>\n",
       "      <td>1244.140015</td>\n",
       "      <td>1257.869995</td>\n",
       "      <td>1240.680054</td>\n",
       "      <td>1256.270020</td>\n",
       "      <td>1256.270020</td>\n",
       "      <td>1429000</td>\n",
       "    </tr>\n",
       "    <tr>\n",
       "      <th>2018-08-28</th>\n",
       "      <td>1255.900024</td>\n",
       "      <td>1256.560059</td>\n",
       "      <td>1242.969971</td>\n",
       "      <td>1245.859985</td>\n",
       "      <td>1245.859985</td>\n",
       "      <td>1366500</td>\n",
       "    </tr>\n",
       "    <tr>\n",
       "      <th>2018-08-29</th>\n",
       "      <td>1255.000000</td>\n",
       "      <td>1267.170044</td>\n",
       "      <td>1252.800049</td>\n",
       "      <td>1264.650024</td>\n",
       "      <td>1264.650024</td>\n",
       "      <td>1846300</td>\n",
       "    </tr>\n",
       "  </tbody>\n",
       "</table>\n",
       "<p>2335 rows × 6 columns</p>\n",
       "</div>"
      ],
      "text/plain": [
       "                   Open         High          Low        Close    Adj Close  \\\n",
       "Date                                                                          \n",
       "2009-05-22   198.528534   199.524521   196.196198   196.946945   196.946945   \n",
       "2009-05-26   196.171173   202.702698   195.195190   202.382385   202.382385   \n",
       "2009-05-27   203.023026   206.136139   202.607605   202.982986   202.982986   \n",
       "2009-05-28   204.544540   206.016022   202.507507   205.405411   205.405411   \n",
       "2009-05-29   206.261261   208.823822   205.555557   208.823822   208.823822   \n",
       "...                 ...          ...          ...          ...          ...   \n",
       "2018-08-23  1219.880005  1235.170044  1219.349976  1221.160034  1221.160034   \n",
       "2018-08-24  1226.000000  1237.400024  1221.420044  1236.750000  1236.750000   \n",
       "2018-08-27  1244.140015  1257.869995  1240.680054  1256.270020  1256.270020   \n",
       "2018-08-28  1255.900024  1256.560059  1242.969971  1245.859985  1245.859985   \n",
       "2018-08-29  1255.000000  1267.170044  1252.800049  1264.650024  1264.650024   \n",
       "\n",
       "             Volume  \n",
       "Date                 \n",
       "2009-05-22  3433700  \n",
       "2009-05-26  6202700  \n",
       "2009-05-27  6062500  \n",
       "2009-05-28  5332200  \n",
       "2009-05-29  5291100  \n",
       "...             ...  \n",
       "2018-08-23  1233300  \n",
       "2018-08-24  1222700  \n",
       "2018-08-27  1429000  \n",
       "2018-08-28  1366500  \n",
       "2018-08-29  1846300  \n",
       "\n",
       "[2335 rows x 6 columns]"
      ]
     },
     "execution_count": 172,
     "metadata": {},
     "output_type": "execute_result"
    }
   ],
   "source": [
    "# Google Stock dataset\n",
    "STOCKS_GOOGL"
   ]
  },
  {
   "cell_type": "code",
   "execution_count": 237,
   "id": "6cf2e657",
   "metadata": {},
   "outputs": [],
   "source": [
    "env = gym.make('stocks-v0')\n",
    "env_1 = gym.make('stocks-v0',\n",
    "               df = STOCKS_GOOGL,\n",
    "               window_size = 1,\n",
    "               frame_bound = (1000, 1500))"
   ]
  },
  {
   "cell_type": "code",
   "execution_count": 238,
   "id": "90715533",
   "metadata": {},
   "outputs": [
    {
     "data": {
      "image/png": "[encoded data removed]",
      "text/plain": [
       "<Figure size 432x288 with 1 Axes>"
      ]
     },
     "metadata": {
      "needs_background": "light"
     },
     "output_type": "display_data"
    }
   ],
   "source": [
    "env_1.reset()\n",
    "env_1.render()"
   ]
  },
  {
   "cell_type": "code",
   "execution_count": null,
   "id": "28637e41",
   "metadata": {},
   "outputs": [],
   "source": []
  },
  {
   "cell_type": "markdown",
   "id": "1197aa9f",
   "metadata": {},
   "source": [
    "Max_possible_profit signifies that if the market didn't have trade fees, you could have earned 12.468122338293616 units of currency by starting with 1.0. In other words, your money increased over 1200%."
   ]
  },
  {
   "cell_type": "code",
   "execution_count": 198,
   "id": "b75c3469",
   "metadata": {},
   "outputs": [
    {
     "data": {
      "text/plain": [
       "12.468122338293616"
      ]
     },
     "execution_count": 198,
     "metadata": {},
     "output_type": "execute_result"
    }
   ],
   "source": [
    "env_1.max_possible_profit()"
   ]
  },
  {
   "cell_type": "code",
   "execution_count": 199,
   "id": "71340fbb",
   "metadata": {},
   "outputs": [
    {
     "name": "stdout",
     "output_type": "stream",
     "text": [
      "Discrete(2)\n"
     ]
    }
   ],
   "source": [
    "print(custom_env.action_space)\n",
    "# 0 for sell and 1 for buying"
   ]
  },
  {
   "cell_type": "code",
   "execution_count": 202,
   "id": "c8ed3866",
   "metadata": {},
   "outputs": [
    {
     "name": "stdout",
     "output_type": "stream",
     "text": [
      "(array([[458.403412,  14.409424]]), 0, False, {'total_reward': 0.0, 'total_profit': 1.0, 'position': 1})\n"
     ]
    }
   ],
   "source": [
    "action = 1\n",
    "print(env_1.step(action))"
   ]
  },
  {
   "cell_type": "code",
   "execution_count": 204,
   "id": "0de3e68f",
   "metadata": {},
   "outputs": [],
   "source": [
    "observation, reward, done, info = env_1.step(action)"
   ]
  },
  {
   "cell_type": "markdown",
   "id": "d1826502",
   "metadata": {},
   "source": [
    "<h2>Random and Heuristic Methods:</h2>"
   ]
  },
  {
   "cell_type": "markdown",
   "id": "c43cb901",
   "metadata": {},
   "source": [
    "<h3>Method 1: Random Buy/Sell</h3>"
   ]
  },
  {
   "cell_type": "code",
   "execution_count": 213,
   "id": "6acba4f4",
   "metadata": {},
   "outputs": [
    {
     "name": "stdout",
     "output_type": "stream",
     "text": [
      "[[439.204193   0.      ]]\n",
      "info:  {'total_reward': 85.90740500000021, 'total_profit': 0.15674660910716307, 'position': 0}\n"
     ]
    },
    {
     "data": {
      "image/png": "[encoded data removed]",
      "text/plain": [
       "<Figure size 432x288 with 1 Axes>"
      ]
     },
     "metadata": {
      "needs_background": "light"
     },
     "output_type": "display_data"
    }
   ],
   "source": [
    "state = env_1.reset()\n",
    "print(state)\n",
    "while True:\n",
    "    action = env_1.action_space.sample()\n",
    "    state, reward, done, info = env_1.step(action)\n",
    "\n",
    "    if done:\n",
    "        print(\"info: \", info)\n",
    "        break\n",
    "\n",
    "env_1.render_all()"
   ]
  },
  {
   "cell_type": "markdown",
   "id": "309d61fd",
   "metadata": {},
   "source": [
    "<h3>Method 2: Buy low sell high (last ten days moving average)</h3>"
   ]
  },
  {
   "cell_type": "code",
   "execution_count": 214,
   "id": "5b15f637",
   "metadata": {
    "scrolled": true
   },
   "outputs": [
    {
     "name": "stdout",
     "output_type": "stream",
     "text": [
      "info:  {'total_reward': 81.98843200000005, 'total_profit': 0.5907367529151839, 'position': 1}\n"
     ]
    },
    {
     "data": {
      "image/png": "[encoded data removed]",
      "text/plain": [
       "<Figure size 432x288 with 1 Axes>"
      ]
     },
     "metadata": {
      "needs_background": "light"
     },
     "output_type": "display_data"
    }
   ],
   "source": [
    "observation = env_1.reset()\n",
    "\n",
    "last_ten_days = [] # moving average\n",
    "moving_avg = 0\n",
    "while True:\n",
    "    if len(last_ten_days) < 10:\n",
    "        last_ten_days.append(observation[0][0])\n",
    "    else:\n",
    "        last_ten_days.pop(0)\n",
    "        last_ten_days.append(observation[0][0])\n",
    "    moving_avg = sum(last_ten_days) / len(last_ten_days)\n",
    "    \n",
    "    \n",
    "    if observation[0][0] < moving_avg:\n",
    "        action = 1 # buy)\n",
    "    elif observation[0][0] > moving_avg:\n",
    "        action = 0 # sell\n",
    "    \n",
    "    observation, reward, done, info = env_1.step(action)\n",
    "\n",
    "    if done:\n",
    "        print(\"info: \", info)\n",
    "        break\n",
    "\n",
    "env_1.render_all()\n",
    "    "
   ]
  },
  {
   "cell_type": "markdown",
   "id": "f885fa41",
   "metadata": {},
   "source": [
    "<h3>Method 3: Buy and Hold Strategy</h3>\n",
    "<br>\n",
    "Buy the stock at the beginning and hold throughout the period and sell stock at the very end."
   ]
  },
  {
   "cell_type": "code",
   "execution_count": 236,
   "id": "e3b0a9d4",
   "metadata": {},
   "outputs": [
    {
     "name": "stdout",
     "output_type": "stream",
     "text": [
      "info:  {'total_reward': 94.43661499999996, 'total_profit': 1.1879821448544323, 'position': 0}\n"
     ]
    },
    {
     "data": {
      "image/png": "[encoded data removed]",
      "text/plain": [
       "<Figure size 432x288 with 1 Axes>"
      ]
     },
     "metadata": {
      "needs_background": "light"
     },
     "output_type": "display_data"
    }
   ],
   "source": [
    "state = env_1.reset()\n",
    "count = 0\n",
    "while True:\n",
    "    count += 1\n",
    "    action = 1\n",
    "    if count > 495:\n",
    "        action = 0\n",
    "    state, reward, done, info = env_1.step(action)\n",
    "    \n",
    "    if done:\n",
    "        print(\"info: \", info)\n",
    "        break\n",
    "\n",
    "env_1.render_all()"
   ]
  },
  {
   "cell_type": "markdown",
   "id": "7df050ff",
   "metadata": {},
   "source": [
    "<h2>Reinforcement Learning Methods:</h2>"
   ]
  },
  {
   "cell_type": "markdown",
   "id": "5c5becd4",
   "metadata": {},
   "source": [
    "<h3>Method 4: Deep Q-Learning (DQN)</h3>"
   ]
  },
  {
   "cell_type": "code",
   "execution_count": 216,
   "id": "d5dfa0ae",
   "metadata": {},
   "outputs": [],
   "source": [
    "# Parameters\n",
    "gamma = 0.99\n",
    "actsize = env_1.action_space.n\n",
    "obssize = env_1.observation_space.low.size"
   ]
  },
  {
   "cell_type": "code",
   "execution_count": 217,
   "id": "3994d96b",
   "metadata": {},
   "outputs": [],
   "source": [
    "def model_creator():\n",
    "    model = keras.Sequential()\n",
    "    model.add(layers.Dense(32,activation=\"relu\"))\n",
    "    model.add(layers.Dense(128,activation=\"relu\"))\n",
    "    model.add(layers.Dense(128,activation=\"relu\"))\n",
    "    model.add(layers.Dense(actsize,activation=\"linear\"))\n",
    "    return model"
   ]
  },
  {
   "cell_type": "code",
   "execution_count": 381,
   "id": "0b0d9905",
   "metadata": {},
   "outputs": [],
   "source": [
    "batch_size = 10\n",
    "# Model used for selecting actions (principal)\n",
    "model = model_creator()\n",
    "# Then create the target model. This will periodically be copied from the principal network \n",
    "model_target = model_creator()\n",
    "\n",
    "model.build((batch_size,obssize,))\n",
    "model_target.build((batch_size,obssize,))"
   ]
  },
  {
   "cell_type": "markdown",
   "id": "fa1218dd",
   "metadata": {},
   "source": [
    "**Training the Model:**"
   ]
  },
  {
   "cell_type": "code",
   "execution_count": 382,
   "id": "57730d1a",
   "metadata": {},
   "outputs": [],
   "source": [
    "# environment for training\n",
    "env_training = gym.make('stocks-v0', df = STOCKS_GOOGL, window_size = 1, frame_bound = (1, 1000))"
   ]
  },
  {
   "cell_type": "code",
   "execution_count": 383,
   "id": "a8794da3",
   "metadata": {},
   "outputs": [],
   "source": [
    "tf.keras.backend.set_floatx('float64')"
   ]
  },
  {
   "cell_type": "code",
   "execution_count": 384,
   "id": "7dc9132e",
   "metadata": {},
   "outputs": [],
   "source": [
    "def train(model, env, epsilon, adpative=True):\n",
    "    optimizer = keras.optimizers.Adam(learning_rate=0.0005)\n",
    "\n",
    "\n",
    "    # Our Experience Replay memory \n",
    "    action_history = []\n",
    "    state_history = []\n",
    "    state_next_history = []\n",
    "    rewards_history = []\n",
    "    done_history = []\n",
    "    running_rewards_history = []\n",
    "\n",
    "    # Replay memory size\n",
    "    max_memory = 100 # You can experiment with different sizes.\n",
    "\n",
    "    running_reward = 0\n",
    "    timestep_count = 0\n",
    "\n",
    "    update_after_actions = 4\n",
    "\n",
    "    # How often to update the target network\n",
    "    target_update_every = 50\n",
    "    loss_function = keras.losses.MeanSquaredError()\n",
    "\n",
    "#     epsilon = 1\n",
    "#     adpative = True\n",
    "\n",
    "    state = env_training.reset()[0]\n",
    "    while True:\n",
    "        timestep_count += 1\n",
    "\n",
    "        # adpative epsilon decay\n",
    "        if adpative:\n",
    "            epsilon = np.exp(-1e-2 * timestep_count)\n",
    "\n",
    "        # exploration\n",
    "        rand = np.random.uniform(0, 1)\n",
    "        if rand < epsilon:\n",
    "            # Take random action\n",
    "            action = np.random.choice(actsize)\n",
    "        else:\n",
    "            # Predict action Q-values\n",
    "            # From environment state\n",
    "            state_t = tf.convert_to_tensor(state)\n",
    "            state_t = tf.expand_dims(state_t, 0)\n",
    "            action_vals = model(state_t, training=False)\n",
    "            # Choose the best action\n",
    "            action = int(tf.keras.backend.argmax(action_vals))\n",
    "\n",
    "        state_next, reward, done, info = env_training.step(action)\n",
    "        state_next = state_next[0]\n",
    "\n",
    "\n",
    "        # Save action/states and other information in replay buffer\n",
    "        action_history.append(action)\n",
    "        state_history.append(state)\n",
    "        state_next_history.append(state_next)\n",
    "        rewards_history.append(reward)\n",
    "        done_history.append(done)\n",
    "        running_rewards_history.append(info['total_reward'])\n",
    "\n",
    "        running_reward = info['total_reward']\n",
    "\n",
    "        state = state_next\n",
    "\n",
    "        # Update every Xth frame to speed up (optional)\n",
    "        # and if you have sufficient history\n",
    "        if timestep_count % update_after_actions == 0 and len(action_history) > batch_size:\n",
    "            # Sample a set of batch_size memories from the history\n",
    "            rand_samples = np.random.randint(0, len(action_history), batch_size)\n",
    "\n",
    "            action_sample = np.array(action_history)[rand_samples]\n",
    "            state_sample = np.array(state_history)[rand_samples]\n",
    "            state_next_sample = np.array(state_next_history)[rand_samples]\n",
    "            rewards_sample = np.array(rewards_history)[rand_samples]\n",
    "            done_sample = np.array(done_history)[rand_samples]\n",
    "\n",
    "            # Create for the sample states the targets (r+gamma * max Q(...)\n",
    "            state_next_sample_t = tf.convert_to_tensor(state_next_sample)\n",
    "            Q_next_state = np.max(model_target.predict(state_next_sample_t), axis=1)   \n",
    "            Q_targets = rewards_sample + gamma * Q_next_state\n",
    "\n",
    "            # What actions are relevant and need updating\n",
    "            relevant_actions = tf.cast(tf.one_hot(action_sample, actsize), tf.double)\n",
    "\n",
    "            # we will use Gradient tape to do a custom gradient \n",
    "            # in the `with` environment we will record a set of operations\n",
    "            # and then we will take gradients with respect to the trainable parameters\n",
    "            # in the neural network\n",
    "            with tf.GradientTape() as tape:\n",
    "                # Train the model on your action selecting network\n",
    "                q_values = model(state_sample) \n",
    "                # We consider only the relevant actions\n",
    "                Q_of_actions = tf.reduce_sum(tf.multiply(q_values, relevant_actions), axis=1)\n",
    "                # Calculate loss between principal network and target network\n",
    "                loss = loss_function(Q_targets, Q_of_actions)\n",
    "\n",
    "                # Nudge the weights of the trainable variables towards \n",
    "                grads = tape.gradient(loss, model.trainable_variables)\n",
    "                optimizer.apply_gradients(zip(grads, model.trainable_variables))\n",
    "\n",
    "        if timestep_count % target_update_every == 0:\n",
    "            # update the the target network with new weights\n",
    "            model_target.set_weights(model.get_weights())\n",
    "            # Log details\n",
    "            template = \"running reward: {:.2f} at episode {}, epsilon {}\"\n",
    "            print(template.format(running_reward, timestep_count, epsilon))\n",
    "\n",
    "        # Don't let the memory grow beyond the limit\n",
    "        if len(rewards_history) > max_memory:\n",
    "            del action_history[:1]\n",
    "            del state_history[:1]\n",
    "            del state_next_history[:1]\n",
    "            del rewards_history[:1]\n",
    "            del done_history[:1]\n",
    "\n",
    "        if done:\n",
    "            print(\"info: \", info)\n",
    "            break\n",
    "\n",
    "    env_training.render_all()"
   ]
  },
  {
   "cell_type": "code",
   "execution_count": null,
   "id": "17cad632",
   "metadata": {},
   "outputs": [
    {
     "name": "stdout",
     "output_type": "stream",
     "text": [
      "running reward: 11.39 at episode 50, epsilon 0.6065306597126334\n",
      "running reward: 40.38 at episode 100, epsilon 0.36787944117144233\n",
      "running reward: 51.92 at episode 150, epsilon 0.22313016014842982\n",
      "running reward: 32.43 at episode 200, epsilon 0.1353352832366127\n",
      "running reward: 12.33 at episode 250, epsilon 0.0820849986238988\n",
      "running reward: 14.65 at episode 300, epsilon 0.049787068367863944\n",
      "running reward: 4.92 at episode 350, epsilon 0.0301973834223185\n",
      "running reward: -19.53 at episode 400, epsilon 0.01831563888873418\n",
      "running reward: -18.75 at episode 450, epsilon 0.011108996538242306\n",
      "running reward: -15.75 at episode 500, epsilon 0.006737946999085467\n",
      "running reward: -1.29 at episode 550, epsilon 0.004086771438464067\n",
      "running reward: 7.73 at episode 600, epsilon 0.0024787521766663585\n",
      "running reward: -5.83 at episode 650, epsilon 0.0015034391929775724\n",
      "running reward: -13.23 at episode 700, epsilon 0.0009118819655545162\n",
      "running reward: -20.10 at episode 750, epsilon 0.0005530843701478336\n",
      "running reward: -0.41 at episode 800, epsilon 0.00033546262790251185\n",
      "running reward: 31.94 at episode 850, epsilon 0.00020346836901064417\n",
      "running reward: 8.04 at episode 900, epsilon 0.00012340980408667956\n",
      "running reward: 56.18 at episode 950, epsilon 7.48518298877006e-05\n",
      "info:  {'total_reward': 30.740721000000207, 'total_profit': 0.3187819289884414, 'position': 1}\n",
      "running reward: 17.58 at episode 50, epsilon 0.6065306597126334\n",
      "running reward: 51.65 at episode 100, epsilon 0.36787944117144233\n",
      "running reward: 68.95 at episode 150, epsilon 0.22313016014842982\n",
      "running reward: 74.32 at episode 200, epsilon 0.1353352832366127\n",
      "running reward: 56.88 at episode 250, epsilon 0.0820849986238988\n",
      "running reward: 39.95 at episode 300, epsilon 0.049787068367863944\n",
      "running reward: 78.07 at episode 350, epsilon 0.0301973834223185\n",
      "running reward: 102.40 at episode 400, epsilon 0.01831563888873418\n",
      "running reward: 92.73 at episode 450, epsilon 0.011108996538242306\n",
      "running reward: 92.73 at episode 500, epsilon 0.006737946999085467\n",
      "running reward: 68.38 at episode 550, epsilon 0.004086771438464067\n",
      "running reward: 33.79 at episode 600, epsilon 0.0024787521766663585\n",
      "running reward: 59.84 at episode 650, epsilon 0.0015034391929775724\n",
      "running reward: 51.25 at episode 700, epsilon 0.0009118819655545162\n",
      "running reward: 26.10 at episode 750, epsilon 0.0005530843701478336\n",
      "running reward: 32.49 at episode 800, epsilon 0.00033546262790251185\n",
      "running reward: 48.92 at episode 850, epsilon 0.00020346836901064417\n",
      "running reward: 15.68 at episode 900, epsilon 0.00012340980408667956\n",
      "running reward: 44.22 at episode 950, epsilon 7.48518298877006e-05\n",
      "info:  {'total_reward': 20.395358999999985, 'total_profit': 0.4146196671575756, 'position': 0}\n",
      "running reward: 10.84 at episode 50, epsilon 0.6065306597126334\n",
      "running reward: 29.63 at episode 100, epsilon 0.36787944117144233\n",
      "running reward: 33.66 at episode 150, epsilon 0.22313016014842982\n",
      "running reward: 15.94 at episode 200, epsilon 0.1353352832366127\n",
      "running reward: -18.22 at episode 250, epsilon 0.0820849986238988\n",
      "running reward: -27.29 at episode 300, epsilon 0.049787068367863944\n",
      "running reward: 5.37 at episode 350, epsilon 0.0301973834223185\n",
      "running reward: -11.53 at episode 400, epsilon 0.01831563888873418\n",
      "running reward: -11.53 at episode 450, epsilon 0.011108996538242306\n",
      "running reward: -28.64 at episode 500, epsilon 0.006737946999085467\n",
      "running reward: 14.57 at episode 550, epsilon 0.004086771438464067\n",
      "running reward: 30.84 at episode 600, epsilon 0.0024787521766663585\n",
      "running reward: 26.03 at episode 650, epsilon 0.0015034391929775724\n",
      "running reward: 9.51 at episode 700, epsilon 0.0009118819655545162\n",
      "running reward: 5.48 at episode 750, epsilon 0.0005530843701478336\n",
      "running reward: 1.20 at episode 800, epsilon 0.00033546262790251185\n",
      "running reward: 45.50 at episode 850, epsilon 0.00020346836901064417\n",
      "running reward: -1.00 at episode 900, epsilon 0.00012340980408667956\n",
      "running reward: 19.23 at episode 950, epsilon 7.48518298877006e-05\n",
      "info:  {'total_reward': 38.4884110000001, 'total_profit': 0.3843462827484972, 'position': 1}\n",
      "running reward: 16.27 at episode 50, epsilon 0.6065306597126334\n",
      "running reward: 35.82 at episode 100, epsilon 0.36787944117144233\n",
      "running reward: 52.68 at episode 150, epsilon 0.22313016014842982\n",
      "running reward: 75.84 at episode 200, epsilon 0.1353352832366127\n",
      "running reward: 76.85 at episode 250, epsilon 0.0820849986238988\n",
      "running reward: 61.50 at episode 300, epsilon 0.049787068367863944\n",
      "running reward: 42.89 at episode 350, epsilon 0.0301973834223185\n",
      "running reward: 32.08 at episode 400, epsilon 0.01831563888873418\n",
      "running reward: 62.23 at episode 450, epsilon 0.011108996538242306\n",
      "running reward: 45.15 at episode 500, epsilon 0.006737946999085467\n",
      "running reward: 80.21 at episode 550, epsilon 0.004086771438464067\n",
      "running reward: 64.50 at episode 600, epsilon 0.0024787521766663585\n",
      "running reward: 80.64 at episode 650, epsilon 0.0015034391929775724\n",
      "running reward: 86.14 at episode 700, epsilon 0.0009118819655545162\n",
      "running reward: 80.78 at episode 750, epsilon 0.0005530843701478336\n",
      "running reward: 93.26 at episode 800, epsilon 0.00033546262790251185\n",
      "running reward: 122.85 at episode 850, epsilon 0.00020346836901064417\n",
      "running reward: 128.91 at episode 900, epsilon 0.00012340980408667956\n",
      "running reward: 119.42 at episode 950, epsilon 7.48518298877006e-05\n",
      "info:  {'total_reward': 158.22323600000033, 'total_profit': 0.48723982841359625, 'position': 0}\n",
      "running reward: 7.17 at episode 50, epsilon 0.6065306597126334\n",
      "running reward: 25.61 at episode 100, epsilon 0.36787944117144233\n",
      "running reward: 41.56 at episode 150, epsilon 0.22313016014842982\n",
      "running reward: 35.79 at episode 200, epsilon 0.1353352832366127\n",
      "running reward: 49.73 at episode 250, epsilon 0.0820849986238988\n",
      "running reward: 19.71 at episode 300, epsilon 0.049787068367863944\n",
      "running reward: 58.09 at episode 350, epsilon 0.0301973834223185\n",
      "running reward: 51.05 at episode 400, epsilon 0.01831563888873418\n",
      "running reward: 64.08 at episode 450, epsilon 0.011108996538242306\n",
      "running reward: 48.44 at episode 500, epsilon 0.006737946999085467\n",
      "running reward: 99.89 at episode 550, epsilon 0.004086771438464067\n",
      "running reward: 62.20 at episode 600, epsilon 0.0024787521766663585\n",
      "running reward: 68.14 at episode 650, epsilon 0.0015034391929775724\n",
      "running reward: 58.42 at episode 700, epsilon 0.0009118819655545162\n",
      "running reward: 36.94 at episode 750, epsilon 0.0005530843701478336\n",
      "running reward: 45.22 at episode 800, epsilon 0.00033546262790251185\n",
      "running reward: 113.72 at episode 850, epsilon 0.00020346836901064417\n",
      "running reward: 69.86 at episode 900, epsilon 0.00012340980408667956\n",
      "running reward: 100.47 at episode 950, epsilon 7.48518298877006e-05\n",
      "info:  {'total_reward': 103.9139599999996, 'total_profit': 0.4515929716617557, 'position': 0}\n",
      "running reward: 3.51 at episode 50, epsilon 0.6065306597126334\n",
      "running reward: 25.45 at episode 100, epsilon 0.36787944117144233\n",
      "running reward: 55.47 at episode 150, epsilon 0.22313016014842982\n",
      "running reward: 39.10 at episode 200, epsilon 0.1353352832366127\n",
      "running reward: 6.73 at episode 250, epsilon 0.0820849986238988\n",
      "running reward: -18.19 at episode 300, epsilon 0.049787068367863944\n",
      "running reward: 1.25 at episode 350, epsilon 0.0301973834223185\n",
      "running reward: 0.19 at episode 400, epsilon 0.01831563888873418\n",
      "running reward: 15.84 at episode 450, epsilon 0.011108996538242306\n",
      "running reward: -6.17 at episode 500, epsilon 0.006737946999085467\n",
      "running reward: 62.30 at episode 550, epsilon 0.004086771438464067\n",
      "running reward: 62.30 at episode 600, epsilon 0.0024787521766663585\n",
      "running reward: 95.65 at episode 650, epsilon 0.0015034391929775724\n",
      "running reward: 87.17 at episode 700, epsilon 0.0009118819655545162\n",
      "running reward: 82.12 at episode 750, epsilon 0.0005530843701478336\n",
      "running reward: 98.80 at episode 800, epsilon 0.00033546262790251185\n",
      "running reward: 153.58 at episode 850, epsilon 0.00020346836901064417\n",
      "running reward: 175.07 at episode 900, epsilon 0.00012340980408667956\n",
      "running reward: 176.21 at episode 950, epsilon 7.48518298877006e-05\n",
      "info:  {'total_reward': 219.21415799999983, 'total_profit': 0.5341781055346858, 'position': 1}\n"
     ]
    },
    {
     "name": "stdout",
     "output_type": "stream",
     "text": [
      "running reward: 14.83 at episode 50, epsilon 0.6065306597126334\n",
      "running reward: 34.36 at episode 100, epsilon 0.36787944117144233\n",
      "running reward: 39.04 at episode 150, epsilon 0.22313016014842982\n",
      "running reward: 6.21 at episode 200, epsilon 0.1353352832366127\n",
      "running reward: -31.75 at episode 250, epsilon 0.0820849986238988\n",
      "running reward: -30.24 at episode 300, epsilon 0.049787068367863944\n",
      "running reward: -26.18 at episode 350, epsilon 0.0301973834223185\n",
      "running reward: 0.39 at episode 400, epsilon 0.01831563888873418\n",
      "running reward: 1.53 at episode 450, epsilon 0.011108996538242306\n",
      "running reward: -13.84 at episode 500, epsilon 0.006737946999085467\n",
      "running reward: 20.69 at episode 550, epsilon 0.004086771438464067\n",
      "running reward: -0.40 at episode 600, epsilon 0.0024787521766663585\n",
      "running reward: 7.64 at episode 650, epsilon 0.0015034391929775724\n",
      "running reward: -0.30 at episode 700, epsilon 0.0009118819655545162\n",
      "running reward: 7.80 at episode 750, epsilon 0.0005530843701478336\n",
      "running reward: -4.16 at episode 800, epsilon 0.00033546262790251185\n",
      "running reward: 25.79 at episode 850, epsilon 0.00020346836901064417\n",
      "running reward: 25.79 at episode 900, epsilon 0.00012340980408667956\n",
      "running reward: 51.22 at episode 950, epsilon 7.48518298877006e-05\n",
      "info:  {'total_reward': 57.397295000000355, 'total_profit': 0.29686259635545476, 'position': 1}\n",
      "running reward: 9.24 at episode 50, epsilon 0.6065306597126334\n",
      "running reward: 31.63 at episode 100, epsilon 0.36787944117144233\n",
      "running reward: 52.13 at episode 150, epsilon 0.22313016014842982\n",
      "running reward: 33.35 at episode 200, epsilon 0.1353352832366127\n",
      "running reward: 11.24 at episode 250, epsilon 0.0820849986238988\n",
      "running reward: -25.17 at episode 300, epsilon 0.049787068367863944\n",
      "running reward: 13.26 at episode 350, epsilon 0.0301973834223185\n",
      "running reward: 53.37 at episode 400, epsilon 0.01831563888873418\n",
      "running reward: 67.77 at episode 450, epsilon 0.011108996538242306\n",
      "running reward: 48.72 at episode 500, epsilon 0.006737946999085467\n",
      "running reward: 109.62 at episode 550, epsilon 0.004086771438464067\n",
      "running reward: 139.73 at episode 600, epsilon 0.0024787521766663585\n",
      "running reward: 183.08 at episode 650, epsilon 0.0015034391929775724\n",
      "running reward: 177.12 at episode 700, epsilon 0.0009118819655545162\n",
      "running reward: 168.51 at episode 750, epsilon 0.0005530843701478336\n",
      "running reward: 188.63 at episode 800, epsilon 0.00033546262790251185\n",
      "running reward: 264.56 at episode 850, epsilon 0.00020346836901064417\n",
      "running reward: 235.68 at episode 900, epsilon 0.00012340980408667956\n",
      "running reward: 271.91 at episode 950, epsilon 7.48518298877006e-05\n",
      "info:  {'total_reward': 272.8027089999999, 'total_profit': 0.4656880828868555, 'position': 1}\n",
      "running reward: 2.12 at episode 50, epsilon 0.6065306597126334\n",
      "running reward: 17.06 at episode 100, epsilon 0.36787944117144233\n",
      "running reward: 43.65 at episode 150, epsilon 0.22313016014842982\n",
      "running reward: 2.45 at episode 200, epsilon 0.1353352832366127\n",
      "running reward: -2.71 at episode 250, epsilon 0.0820849986238988\n",
      "running reward: -12.74 at episode 300, epsilon 0.049787068367863944\n",
      "running reward: -12.74 at episode 350, epsilon 0.0301973834223185\n",
      "running reward: 46.53 at episode 400, epsilon 0.01831563888873418\n",
      "running reward: 38.83 at episode 450, epsilon 0.011108996538242306\n",
      "running reward: 7.45 at episode 500, epsilon 0.006737946999085467\n",
      "running reward: 38.65 at episode 550, epsilon 0.004086771438464067\n",
      "running reward: 22.03 at episode 600, epsilon 0.0024787521766663585\n",
      "running reward: 22.03 at episode 650, epsilon 0.0015034391929775724\n",
      "running reward: 22.03 at episode 700, epsilon 0.0009118819655545162\n",
      "running reward: 22.03 at episode 750, epsilon 0.0005530843701478336\n",
      "running reward: 22.03 at episode 800, epsilon 0.00033546262790251185\n",
      "running reward: 22.03 at episode 850, epsilon 0.00020346836901064417\n",
      "running reward: 22.03 at episode 900, epsilon 0.00012340980408667956\n",
      "running reward: 117.07 at episode 950, epsilon 7.48518298877006e-05\n",
      "info:  {'total_reward': 152.35226499999987, 'total_profit': 0.5966465391797511, 'position': 1}\n",
      "running reward: 43.63 at episode 50, epsilon 0.6065306597126334\n",
      "running reward: 52.98 at episode 100, epsilon 0.36787944117144233\n",
      "running reward: 83.54 at episode 150, epsilon 0.22313016014842982\n",
      "running reward: 94.45 at episode 200, epsilon 0.1353352832366127\n",
      "running reward: 89.08 at episode 250, epsilon 0.0820849986238988\n",
      "running reward: 50.78 at episode 300, epsilon 0.049787068367863944\n",
      "running reward: 46.84 at episode 350, epsilon 0.0301973834223185\n",
      "running reward: 98.13 at episode 400, epsilon 0.01831563888873418\n",
      "running reward: 111.74 at episode 450, epsilon 0.011108996538242306\n",
      "running reward: 80.08 at episode 500, epsilon 0.006737946999085467\n",
      "running reward: 139.02 at episode 550, epsilon 0.004086771438464067\n",
      "running reward: 129.42 at episode 600, epsilon 0.0024787521766663585\n",
      "running reward: 146.81 at episode 650, epsilon 0.0015034391929775724\n",
      "running reward: 133.90 at episode 700, epsilon 0.0009118819655545162\n",
      "running reward: 133.90 at episode 750, epsilon 0.0005530843701478336\n",
      "running reward: 102.47 at episode 800, epsilon 0.00033546262790251185\n",
      "running reward: 149.65 at episode 850, epsilon 0.00020346836901064417\n",
      "running reward: 164.66 at episode 900, epsilon 0.00012340980408667956\n",
      "running reward: 171.46 at episode 950, epsilon 7.48518298877006e-05\n",
      "info:  {'total_reward': 148.6937600000001, 'total_profit': 0.30855455074515575, 'position': 1}\n",
      "running reward: 15.37 at episode 50, epsilon 0.6065306597126334\n",
      "running reward: 39.08 at episode 100, epsilon 0.36787944117144233\n",
      "running reward: 82.88 at episode 150, epsilon 0.22313016014842982\n",
      "running reward: 69.79 at episode 200, epsilon 0.1353352832366127\n",
      "running reward: 41.98 at episode 250, epsilon 0.0820849986238988\n",
      "running reward: 41.30 at episode 300, epsilon 0.049787068367863944\n",
      "running reward: 78.10 at episode 350, epsilon 0.0301973834223185\n",
      "running reward: 105.32 at episode 400, epsilon 0.01831563888873418\n",
      "running reward: 113.48 at episode 450, epsilon 0.011108996538242306\n",
      "running reward: 106.17 at episode 500, epsilon 0.006737946999085467\n",
      "running reward: 125.91 at episode 550, epsilon 0.004086771438464067\n",
      "running reward: 133.01 at episode 600, epsilon 0.0024787521766663585\n",
      "running reward: 171.95 at episode 650, epsilon 0.0015034391929775724\n",
      "running reward: 187.90 at episode 700, epsilon 0.0009118819655545162\n",
      "running reward: 192.17 at episode 750, epsilon 0.0005530843701478336\n",
      "running reward: 207.73 at episode 800, epsilon 0.00033546262790251185\n",
      "running reward: 228.21 at episode 850, epsilon 0.00020346836901064417\n",
      "running reward: 211.63 at episode 900, epsilon 0.00012340980408667956\n",
      "running reward: 241.14 at episode 950, epsilon 7.48518298877006e-05\n",
      "info:  {'total_reward': 246.81668899999988, 'total_profit': 0.3667358530569047, 'position': 1}\n",
      "running reward: 18.85 at episode 50, epsilon 0.6065306597126334\n",
      "running reward: 53.62 at episode 100, epsilon 0.36787944117144233\n",
      "running reward: 77.97 at episode 150, epsilon 0.22313016014842982\n",
      "running reward: 74.61 at episode 200, epsilon 0.1353352832366127\n",
      "running reward: 66.76 at episode 250, epsilon 0.0820849986238988\n",
      "running reward: 41.02 at episode 300, epsilon 0.049787068367863944\n",
      "running reward: 31.08 at episode 350, epsilon 0.0301973834223185\n",
      "running reward: 87.17 at episode 400, epsilon 0.01831563888873418\n",
      "running reward: 71.61 at episode 450, epsilon 0.011108996538242306\n",
      "running reward: 46.76 at episode 500, epsilon 0.006737946999085467\n",
      "running reward: 38.55 at episode 550, epsilon 0.004086771438464067\n",
      "running reward: 3.22 at episode 600, epsilon 0.0024787521766663585\n",
      "running reward: 45.64 at episode 650, epsilon 0.0015034391929775724\n",
      "running reward: 61.09 at episode 700, epsilon 0.0009118819655545162\n",
      "running reward: 56.72 at episode 750, epsilon 0.0005530843701478336\n",
      "running reward: 63.86 at episode 800, epsilon 0.00033546262790251185\n",
      "running reward: 124.62 at episode 850, epsilon 0.00020346836901064417\n",
      "running reward: 86.77 at episode 900, epsilon 0.00012340980408667956\n",
      "running reward: 111.85 at episode 950, epsilon 7.48518298877006e-05\n",
      "info:  {'total_reward': 119.85484300000013, 'total_profit': 0.22055394409519244, 'position': 0}\n"
     ]
    },
    {
     "name": "stdout",
     "output_type": "stream",
     "text": [
      "running reward: 26.53 at episode 50, epsilon 0.6065306597126334\n",
      "running reward: 61.58 at episode 100, epsilon 0.36787944117144233\n",
      "running reward: 78.34 at episode 150, epsilon 0.22313016014842982\n",
      "running reward: 54.82 at episode 200, epsilon 0.1353352832366127\n",
      "running reward: 43.85 at episode 250, epsilon 0.0820849986238988\n",
      "running reward: 21.07 at episode 300, epsilon 0.049787068367863944\n",
      "running reward: 42.07 at episode 350, epsilon 0.0301973834223185\n",
      "running reward: 82.69 at episode 400, epsilon 0.01831563888873418\n",
      "running reward: 98.15 at episode 450, epsilon 0.011108996538242306\n",
      "running reward: 108.40 at episode 500, epsilon 0.006737946999085467\n",
      "running reward: 98.58 at episode 550, epsilon 0.004086771438464067\n",
      "running reward: 89.96 at episode 600, epsilon 0.0024787521766663585\n",
      "running reward: 131.68 at episode 650, epsilon 0.0015034391929775724\n",
      "running reward: 151.87 at episode 700, epsilon 0.0009118819655545162\n",
      "running reward: 136.42 at episode 750, epsilon 0.0005530843701478336\n",
      "running reward: 131.52 at episode 800, epsilon 0.00033546262790251185\n",
      "running reward: 221.44 at episode 850, epsilon 0.00020346836901064417\n",
      "running reward: 186.35 at episode 900, epsilon 0.00012340980408667956\n",
      "running reward: 194.92 at episode 950, epsilon 7.48518298877006e-05\n",
      "info:  {'total_reward': 214.95962600000033, 'total_profit': 0.28462949154407774, 'position': 0}\n",
      "running reward: 6.06 at episode 50, epsilon 0.6065306597126334\n",
      "running reward: 30.71 at episode 100, epsilon 0.36787944117144233\n",
      "running reward: 55.78 at episode 150, epsilon 0.22313016014842982\n",
      "running reward: 55.05 at episode 200, epsilon 0.1353352832366127\n",
      "running reward: 64.96 at episode 250, epsilon 0.0820849986238988\n",
      "running reward: 56.27 at episode 300, epsilon 0.049787068367863944\n",
      "running reward: 70.33 at episode 350, epsilon 0.0301973834223185\n",
      "running reward: 73.22 at episode 400, epsilon 0.01831563888873418\n",
      "running reward: 90.45 at episode 450, epsilon 0.011108996538242306\n",
      "running reward: 64.69 at episode 500, epsilon 0.006737946999085467\n",
      "running reward: 106.68 at episode 550, epsilon 0.004086771438464067\n",
      "running reward: 138.06 at episode 600, epsilon 0.0024787521766663585\n",
      "running reward: 176.34 at episode 650, epsilon 0.0015034391929775724\n",
      "running reward: 183.42 at episode 700, epsilon 0.0009118819655545162\n",
      "running reward: 172.62 at episode 750, epsilon 0.0005530843701478336\n",
      "running reward: 174.16 at episode 800, epsilon 0.00033546262790251185\n",
      "running reward: 228.50 at episode 850, epsilon 0.00020346836901064417\n",
      "running reward: 238.76 at episode 900, epsilon 0.00012340980408667956\n",
      "running reward: 257.33 at episode 950, epsilon 7.48518298877006e-05\n",
      "info:  {'total_reward': 254.8747880000003, 'total_profit': 0.24480722788481377, 'position': 0}\n",
      "running reward: 37.13 at episode 50, epsilon 0.6065306597126334\n",
      "running reward: 41.59 at episode 100, epsilon 0.36787944117144233\n",
      "running reward: 60.65 at episode 150, epsilon 0.22313016014842982\n",
      "running reward: 55.65 at episode 200, epsilon 0.1353352832366127\n",
      "running reward: 41.06 at episode 250, epsilon 0.0820849986238988\n",
      "running reward: 22.32 at episode 300, epsilon 0.049787068367863944\n",
      "running reward: 49.49 at episode 350, epsilon 0.0301973834223185\n",
      "running reward: 88.57 at episode 400, epsilon 0.01831563888873418\n",
      "running reward: 85.05 at episode 450, epsilon 0.011108996538242306\n",
      "running reward: 58.92 at episode 500, epsilon 0.006737946999085467\n",
      "running reward: 53.39 at episode 550, epsilon 0.004086771438464067\n",
      "running reward: 55.80 at episode 600, epsilon 0.0024787521766663585\n",
      "running reward: 95.81 at episode 650, epsilon 0.0015034391929775724\n",
      "running reward: 84.64 at episode 700, epsilon 0.0009118819655545162\n",
      "running reward: 78.94 at episode 750, epsilon 0.0005530843701478336\n",
      "running reward: 86.62 at episode 800, epsilon 0.00033546262790251185\n",
      "running reward: 157.87 at episode 850, epsilon 0.00020346836901064417\n",
      "running reward: 163.50 at episode 900, epsilon 0.00012340980408667956\n",
      "running reward: 179.47 at episode 950, epsilon 7.48518298877006e-05\n",
      "info:  {'total_reward': 189.92971599999981, 'total_profit': 0.33989172369727194, 'position': 1}\n",
      "running reward: 8.99 at episode 50, epsilon 0.6065306597126334\n",
      "running reward: 27.96 at episode 100, epsilon 0.36787944117144233\n",
      "running reward: 48.50 at episode 150, epsilon 0.22313016014842982\n",
      "running reward: 48.38 at episode 200, epsilon 0.1353352832366127\n",
      "running reward: 34.20 at episode 250, epsilon 0.0820849986238988\n",
      "running reward: 13.25 at episode 300, epsilon 0.049787068367863944\n",
      "running reward: 46.07 at episode 350, epsilon 0.0301973834223185\n",
      "running reward: 83.67 at episode 400, epsilon 0.01831563888873418\n",
      "running reward: 91.40 at episode 450, epsilon 0.011108996538242306\n",
      "running reward: 90.48 at episode 500, epsilon 0.006737946999085467\n",
      "running reward: 54.76 at episode 550, epsilon 0.004086771438464067\n",
      "running reward: 85.91 at episode 600, epsilon 0.0024787521766663585\n",
      "running reward: 101.55 at episode 650, epsilon 0.0015034391929775724\n",
      "running reward: 94.66 at episode 700, epsilon 0.0009118819655545162\n",
      "running reward: 98.00 at episode 750, epsilon 0.0005530843701478336\n",
      "running reward: 114.02 at episode 800, epsilon 0.00033546262790251185\n",
      "running reward: 173.92 at episode 850, epsilon 0.00020346836901064417\n",
      "running reward: 172.77 at episode 900, epsilon 0.00012340980408667956\n",
      "running reward: 208.79 at episode 950, epsilon 7.48518298877006e-05\n",
      "info:  {'total_reward': 237.69258000000008, 'total_profit': 0.38390621897043437, 'position': 1}\n",
      "running reward: 15.07 at episode 50, epsilon 0.6065306597126334\n",
      "running reward: 24.13 at episode 100, epsilon 0.36787944117144233\n",
      "running reward: 65.74 at episode 150, epsilon 0.22313016014842982\n",
      "running reward: 58.90 at episode 200, epsilon 0.1353352832366127\n",
      "running reward: 39.58 at episode 250, epsilon 0.0820849986238988\n",
      "running reward: 48.25 at episode 300, epsilon 0.049787068367863944\n",
      "running reward: 48.25 at episode 350, epsilon 0.0301973834223185\n",
      "running reward: 102.62 at episode 400, epsilon 0.01831563888873418\n",
      "running reward: 101.70 at episode 450, epsilon 0.011108996538242306\n",
      "running reward: 90.81 at episode 500, epsilon 0.006737946999085467\n",
      "running reward: 90.74 at episode 550, epsilon 0.004086771438464067\n",
      "running reward: 58.79 at episode 600, epsilon 0.0024787521766663585\n",
      "running reward: 58.79 at episode 650, epsilon 0.0015034391929775724\n",
      "running reward: 112.64 at episode 700, epsilon 0.0009118819655545162\n",
      "running reward: 97.33 at episode 750, epsilon 0.0005530843701478336\n",
      "running reward: 110.28 at episode 800, epsilon 0.00033546262790251185\n",
      "running reward: 139.50 at episode 850, epsilon 0.00020346836901064417\n",
      "running reward: 152.23 at episode 900, epsilon 0.00012340980408667956\n",
      "running reward: 152.23 at episode 950, epsilon 7.48518298877006e-05\n",
      "info:  {'total_reward': 151.37619399999988, 'total_profit': 0.4960259887953081, 'position': 0}\n"
     ]
    }
   ],
   "source": [
    "for i in range(50):\n",
    "    train(model, env_training, 1, True)\n"
   ]
  },
  {
   "cell_type": "code",
   "execution_count": 227,
   "id": "5575fa1c",
   "metadata": {},
   "outputs": [
    {
     "name": "stdout",
     "output_type": "stream",
     "text": [
      "INFO:tensorflow:Assets written to: trained_model/assets\n"
     ]
    }
   ],
   "source": [
    "model.save(\"trained_model\")"
   ]
  },
  {
   "cell_type": "code",
   "execution_count": 332,
   "id": "adee1f01",
   "metadata": {},
   "outputs": [
    {
     "data": {
      "text/plain": [
       "Text(0, 0.5, 'Running Reward')"
      ]
     },
     "execution_count": 332,
     "metadata": {},
     "output_type": "execute_result"
    },
    {
     "data": {
      "image/png": "[encoded data removed]",
      "text/plain": [
       "<Figure size 432x288 with 1 Axes>"
      ]
     },
     "metadata": {
      "needs_background": "light"
     },
     "output_type": "display_data"
    }
   ],
   "source": [
    "# plot the running rewards\n",
    "plt.plot(running_rewards_history)\n",
    "plt.title(\"Running rewards during training\")\n",
    "plt.xlabel(\"Episodes\")\n",
    "plt.ylabel(\"Running Reward\")"
   ]
  },
  {
   "cell_type": "code",
   "execution_count": 333,
   "id": "d31c548c",
   "metadata": {},
   "outputs": [],
   "source": [
    "# testing a trained Deep Q Learning Model on a custom environment\n",
    "def evaluate(model, env):\n",
    "    running_reward = 0\n",
    "    timestep_count = 0\n",
    "    reward_history = []\n",
    "\n",
    "    state = env.reset()[0]\n",
    "    while True:\n",
    "        timestep_count += 1\n",
    "    \n",
    "        # Predict action Q-values\n",
    "        # From environment state\n",
    "        state_t = tf.convert_to_tensor(state)\n",
    "        state_t = tf.expand_dims(state_t, 0)\n",
    "        action_vals = model(state_t, training=False)\n",
    "        # Choose the best action\n",
    "        action = int(tf.keras.backend.argmax(action_vals))\n",
    "        #print(action_vals)\n",
    "\n",
    "        # follow selected action\n",
    "        state_next, reward, done, info = env.step(action)\n",
    "        state_next = state_next[0]\n",
    "        \n",
    "        reward_history.append(reward)\n",
    "        running_reward = np.sum(reward_history)\n",
    "\n",
    "        # Log details\n",
    "        template = \"running reward: {:.2f} at episode {}, episode_reward {}\"\n",
    "        #print(template.format(running_reward, timestep_count, reward))\n",
    "\n",
    "        state = state_next\n",
    "        if done:\n",
    "            print(\"info: \", info)\n",
    "            break\n",
    "    \n",
    "    env.render_all()\n",
    "    "
   ]
  },
  {
   "cell_type": "code",
   "execution_count": 334,
   "id": "f4e194b0",
   "metadata": {},
   "outputs": [],
   "source": [
    "m = tf.saved_model.load(\"trained_model\")"
   ]
  },
  {
   "cell_type": "code",
   "execution_count": 336,
   "id": "2b92bb51",
   "metadata": {},
   "outputs": [
    {
     "name": "stdout",
     "output_type": "stream",
     "text": [
      "info:  {'total_reward': 0.0, 'total_profit': 2.1314007584588888, 'position': 1}\n"
     ]
    },
    {
     "data": {
      "image/png": "[encoded data removed]",
      "text/plain": [
       "<Figure size 432x288 with 1 Axes>"
      ]
     },
     "metadata": {
      "needs_background": "light"
     },
     "output_type": "display_data"
    }
   ],
   "source": [
    "evaluate(m, env_training)"
   ]
  },
  {
   "cell_type": "code",
   "execution_count": null,
   "id": "fd1c7d0d",
   "metadata": {},
   "outputs": [],
   "source": []
  }
 ],
 "metadata": {
  "kernelspec": {
   "display_name": "Python 3",
   "language": "python",
   "name": "python3"
  },
  "language_info": {
   "codemirror_mode": {
    "name": "ipython",
    "version": 3
   },
   "file_extension": ".py",
   "mimetype": "text/x-python",
   "name": "python",
   "nbconvert_exporter": "python",
   "pygments_lexer": "ipython3",
   "version": "3.7.6"
  }
 },
 "nbformat": 4,
 "nbformat_minor": 5
}
