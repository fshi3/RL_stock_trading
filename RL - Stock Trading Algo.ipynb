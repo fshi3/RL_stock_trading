{
 "cells": [
  {
   "cell_type": "markdown",
   "id": "b2bb87f7",
   "metadata": {},
   "source": [
    "<h1>Reinforcement Learning Final Project - Stock Trading Algorithm</h1>\n",
    "    \n",
    "<br>\n",
    "Implementation using the \n",
    "\"anytrading\" environment in OpenAIGym\n",
    "<br>\n",
    "https://github.com/AminHP/gym-anytrading"
   ]
  },
  {
   "cell_type": "code",
   "execution_count": 125,
   "id": "3780bdab",
   "metadata": {
    "scrolled": true
   },
   "outputs": [
    {
     "name": "stdout",
     "output_type": "stream",
     "text": [
      "Requirement already satisfied: gym-anytrading in /Users/forestshi/opt/anaconda3/lib/python3.7/site-packages (1.2.0)\n",
      "Requirement already satisfied: numpy>=1.16.4 in /Users/forestshi/opt/anaconda3/lib/python3.7/site-packages (from gym-anytrading) (1.21.5)\n",
      "Requirement already satisfied: gym>=0.12.5 in /Users/forestshi/opt/anaconda3/lib/python3.7/site-packages (from gym-anytrading) (0.21.0)\n",
      "Requirement already satisfied: matplotlib>=3.1.1 in /Users/forestshi/opt/anaconda3/lib/python3.7/site-packages (from gym-anytrading) (3.1.3)\n",
      "Requirement already satisfied: pandas>=0.24.2 in /Users/forestshi/opt/anaconda3/lib/python3.7/site-packages (from gym-anytrading) (1.0.1)\n",
      "Requirement already satisfied: cloudpickle>=1.2.0 in /Users/forestshi/opt/anaconda3/lib/python3.7/site-packages (from gym>=0.12.5->gym-anytrading) (2.0.0)\n",
      "Requirement already satisfied: importlib-metadata>=4.8.1 in /Users/forestshi/opt/anaconda3/lib/python3.7/site-packages (from gym>=0.12.5->gym-anytrading) (4.11.3)\n",
      "Requirement already satisfied: kiwisolver>=1.0.1 in /Users/forestshi/opt/anaconda3/lib/python3.7/site-packages (from matplotlib>=3.1.1->gym-anytrading) (1.3.2)\n",
      "Requirement already satisfied: python-dateutil>=2.1 in /Users/forestshi/opt/anaconda3/lib/python3.7/site-packages (from matplotlib>=3.1.1->gym-anytrading) (2.8.2)\n",
      "Requirement already satisfied: pyparsing!=2.0.4,!=2.1.2,!=2.1.6,>=2.0.1 in /Users/forestshi/opt/anaconda3/lib/python3.7/site-packages (from matplotlib>=3.1.1->gym-anytrading) (3.0.4)\n",
      "Requirement already satisfied: cycler>=0.10 in /Users/forestshi/opt/anaconda3/lib/python3.7/site-packages (from matplotlib>=3.1.1->gym-anytrading) (0.11.0)\n",
      "Requirement already satisfied: pytz>=2017.2 in /Users/forestshi/opt/anaconda3/lib/python3.7/site-packages (from pandas>=0.24.2->gym-anytrading) (2021.3)\n",
      "Requirement already satisfied: zipp>=0.5 in /Users/forestshi/opt/anaconda3/lib/python3.7/site-packages (from importlib-metadata>=4.8.1->gym>=0.12.5->gym-anytrading) (3.7.0)\n",
      "Requirement already satisfied: typing-extensions>=3.6.4 in /Users/forestshi/opt/anaconda3/lib/python3.7/site-packages (from importlib-metadata>=4.8.1->gym>=0.12.5->gym-anytrading) (4.1.1)\n",
      "Requirement already satisfied: six>=1.5 in /Users/forestshi/opt/anaconda3/lib/python3.7/site-packages (from python-dateutil>=2.1->matplotlib>=3.1.1->gym-anytrading) (1.16.0)\n",
      "Note: you may need to restart the kernel to use updated packages.\n"
     ]
    }
   ],
   "source": [
    "pip install gym-anytrading"
   ]
  },
  {
   "cell_type": "code",
   "execution_count": 126,
   "id": "1eeff598",
   "metadata": {},
   "outputs": [],
   "source": [
    "# importing the OpenAIGym Environment for stock trading\n",
    "import gym\n",
    "import gym_anytrading\n",
    "import matplotlib.pyplot as plt\n",
    "import tensorflow as tf\n",
    "import numpy as np\n",
    "from tensorflow import keras\n",
    "from tensorflow.keras import layers\n",
    "from gym_anytrading.datasets import STOCKS_GOOGL\n",
    "import random\n"
   ]
  },
  {
   "cell_type": "code",
   "execution_count": 127,
   "id": "6cf2e657",
   "metadata": {},
   "outputs": [],
   "source": [
    "env = gym.make('stocks-v0')\n",
    "custom_env = gym.make('stocks-v0',\n",
    "               df = STOCKS_GOOGL,\n",
    "               window_size = 1,\n",
    "               frame_bound = (1, 500))"
   ]
  },
  {
   "cell_type": "code",
   "execution_count": 128,
   "id": "90715533",
   "metadata": {},
   "outputs": [
    {
     "data": {
      "image/png": "[encoded data removed]",
      "text/plain": [
       "<Figure size 432x288 with 1 Axes>"
      ]
     },
     "metadata": {
      "needs_background": "light"
     },
     "output_type": "display_data"
    }
   ],
   "source": [
    "custom_env.reset()\n",
    "custom_env.render()"
   ]
  },
  {
   "cell_type": "code",
   "execution_count": 129,
   "id": "28637e41",
   "metadata": {},
   "outputs": [
    {
     "data": {
      "text/html": [
       "<div>\n",
       "<style scoped>\n",
       "    .dataframe tbody tr th:only-of-type {\n",
       "        vertical-align: middle;\n",
       "    }\n",
       "\n",
       "    .dataframe tbody tr th {\n",
       "        vertical-align: top;\n",
       "    }\n",
       "\n",
       "    .dataframe thead th {\n",
       "        text-align: right;\n",
       "    }\n",
       "</style>\n",
       "<table border=\"1\" class=\"dataframe\">\n",
       "  <thead>\n",
       "    <tr style=\"text-align: right;\">\n",
       "      <th></th>\n",
       "      <th>Open</th>\n",
       "      <th>High</th>\n",
       "      <th>Low</th>\n",
       "      <th>Close</th>\n",
       "      <th>Adj Close</th>\n",
       "      <th>Volume</th>\n",
       "    </tr>\n",
       "    <tr>\n",
       "      <th>Date</th>\n",
       "      <th></th>\n",
       "      <th></th>\n",
       "      <th></th>\n",
       "      <th></th>\n",
       "      <th></th>\n",
       "      <th></th>\n",
       "    </tr>\n",
       "  </thead>\n",
       "  <tbody>\n",
       "    <tr>\n",
       "      <th>2009-05-22</th>\n",
       "      <td>198.528534</td>\n",
       "      <td>199.524521</td>\n",
       "      <td>196.196198</td>\n",
       "      <td>196.946945</td>\n",
       "      <td>196.946945</td>\n",
       "      <td>3433700</td>\n",
       "    </tr>\n",
       "    <tr>\n",
       "      <th>2009-05-26</th>\n",
       "      <td>196.171173</td>\n",
       "      <td>202.702698</td>\n",
       "      <td>195.195190</td>\n",
       "      <td>202.382385</td>\n",
       "      <td>202.382385</td>\n",
       "      <td>6202700</td>\n",
       "    </tr>\n",
       "    <tr>\n",
       "      <th>2009-05-27</th>\n",
       "      <td>203.023026</td>\n",
       "      <td>206.136139</td>\n",
       "      <td>202.607605</td>\n",
       "      <td>202.982986</td>\n",
       "      <td>202.982986</td>\n",
       "      <td>6062500</td>\n",
       "    </tr>\n",
       "    <tr>\n",
       "      <th>2009-05-28</th>\n",
       "      <td>204.544540</td>\n",
       "      <td>206.016022</td>\n",
       "      <td>202.507507</td>\n",
       "      <td>205.405411</td>\n",
       "      <td>205.405411</td>\n",
       "      <td>5332200</td>\n",
       "    </tr>\n",
       "    <tr>\n",
       "      <th>2009-05-29</th>\n",
       "      <td>206.261261</td>\n",
       "      <td>208.823822</td>\n",
       "      <td>205.555557</td>\n",
       "      <td>208.823822</td>\n",
       "      <td>208.823822</td>\n",
       "      <td>5291100</td>\n",
       "    </tr>\n",
       "    <tr>\n",
       "      <th>...</th>\n",
       "      <td>...</td>\n",
       "      <td>...</td>\n",
       "      <td>...</td>\n",
       "      <td>...</td>\n",
       "      <td>...</td>\n",
       "      <td>...</td>\n",
       "    </tr>\n",
       "    <tr>\n",
       "      <th>2018-08-23</th>\n",
       "      <td>1219.880005</td>\n",
       "      <td>1235.170044</td>\n",
       "      <td>1219.349976</td>\n",
       "      <td>1221.160034</td>\n",
       "      <td>1221.160034</td>\n",
       "      <td>1233300</td>\n",
       "    </tr>\n",
       "    <tr>\n",
       "      <th>2018-08-24</th>\n",
       "      <td>1226.000000</td>\n",
       "      <td>1237.400024</td>\n",
       "      <td>1221.420044</td>\n",
       "      <td>1236.750000</td>\n",
       "      <td>1236.750000</td>\n",
       "      <td>1222700</td>\n",
       "    </tr>\n",
       "    <tr>\n",
       "      <th>2018-08-27</th>\n",
       "      <td>1244.140015</td>\n",
       "      <td>1257.869995</td>\n",
       "      <td>1240.680054</td>\n",
       "      <td>1256.270020</td>\n",
       "      <td>1256.270020</td>\n",
       "      <td>1429000</td>\n",
       "    </tr>\n",
       "    <tr>\n",
       "      <th>2018-08-28</th>\n",
       "      <td>1255.900024</td>\n",
       "      <td>1256.560059</td>\n",
       "      <td>1242.969971</td>\n",
       "      <td>1245.859985</td>\n",
       "      <td>1245.859985</td>\n",
       "      <td>1366500</td>\n",
       "    </tr>\n",
       "    <tr>\n",
       "      <th>2018-08-29</th>\n",
       "      <td>1255.000000</td>\n",
       "      <td>1267.170044</td>\n",
       "      <td>1252.800049</td>\n",
       "      <td>1264.650024</td>\n",
       "      <td>1264.650024</td>\n",
       "      <td>1846300</td>\n",
       "    </tr>\n",
       "  </tbody>\n",
       "</table>\n",
       "<p>2335 rows × 6 columns</p>\n",
       "</div>"
      ],
      "text/plain": [
       "                   Open         High          Low        Close    Adj Close  \\\n",
       "Date                                                                          \n",
       "2009-05-22   198.528534   199.524521   196.196198   196.946945   196.946945   \n",
       "2009-05-26   196.171173   202.702698   195.195190   202.382385   202.382385   \n",
       "2009-05-27   203.023026   206.136139   202.607605   202.982986   202.982986   \n",
       "2009-05-28   204.544540   206.016022   202.507507   205.405411   205.405411   \n",
       "2009-05-29   206.261261   208.823822   205.555557   208.823822   208.823822   \n",
       "...                 ...          ...          ...          ...          ...   \n",
       "2018-08-23  1219.880005  1235.170044  1219.349976  1221.160034  1221.160034   \n",
       "2018-08-24  1226.000000  1237.400024  1221.420044  1236.750000  1236.750000   \n",
       "2018-08-27  1244.140015  1257.869995  1240.680054  1256.270020  1256.270020   \n",
       "2018-08-28  1255.900024  1256.560059  1242.969971  1245.859985  1245.859985   \n",
       "2018-08-29  1255.000000  1267.170044  1252.800049  1264.650024  1264.650024   \n",
       "\n",
       "             Volume  \n",
       "Date                 \n",
       "2009-05-22  3433700  \n",
       "2009-05-26  6202700  \n",
       "2009-05-27  6062500  \n",
       "2009-05-28  5332200  \n",
       "2009-05-29  5291100  \n",
       "...             ...  \n",
       "2018-08-23  1233300  \n",
       "2018-08-24  1222700  \n",
       "2018-08-27  1429000  \n",
       "2018-08-28  1366500  \n",
       "2018-08-29  1846300  \n",
       "\n",
       "[2335 rows x 6 columns]"
      ]
     },
     "execution_count": 129,
     "metadata": {},
     "output_type": "execute_result"
    }
   ],
   "source": [
    "# Google Stock dataset\n",
    "custom_env.df"
   ]
  },
  {
   "cell_type": "markdown",
   "id": "1197aa9f",
   "metadata": {},
   "source": [
    "Max_possible_profit signifies that if the market didn't have trade fees, you could have earned 16.163897982248805 units of currency by starting with 1.0. In other words, your money increased over 1600%."
   ]
  },
  {
   "cell_type": "code",
   "execution_count": 130,
   "id": "b75c3469",
   "metadata": {},
   "outputs": [
    {
     "data": {
      "text/plain": [
       "16.163897982248805"
      ]
     },
     "execution_count": 130,
     "metadata": {},
     "output_type": "execute_result"
    }
   ],
   "source": [
    "custom_env.max_possible_profit()"
   ]
  },
  {
   "cell_type": "code",
   "execution_count": 131,
   "id": "71340fbb",
   "metadata": {},
   "outputs": [
    {
     "name": "stdout",
     "output_type": "stream",
     "text": [
      "Discrete(2)\n"
     ]
    }
   ],
   "source": [
    "print(custom_env.action_space)\n",
    "# 0 for sell and 1 for buying"
   ]
  },
  {
   "cell_type": "code",
   "execution_count": 132,
   "id": "c8ed3866",
   "metadata": {},
   "outputs": [
    {
     "name": "stdout",
     "output_type": "stream",
     "text": [
      "(array([[202.382385,   5.43544 ]]), 0, False, {'total_reward': 0.0, 'total_profit': 1.0, 'position': 1})\n"
     ]
    }
   ],
   "source": [
    "action = 1\n",
    "print(custom_env.step(action))"
   ]
  },
  {
   "cell_type": "code",
   "execution_count": 133,
   "id": "0de3e68f",
   "metadata": {},
   "outputs": [],
   "source": [
    "observation, reward, done, info = custom_env.step(action)"
   ]
  },
  {
   "cell_type": "markdown",
   "id": "d1826502",
   "metadata": {},
   "source": [
    "<h2>Random and Heuristic Methods:</h2>"
   ]
  },
  {
   "cell_type": "markdown",
   "id": "c43cb901",
   "metadata": {},
   "source": [
    "**Method 1: Random Buy/Sell**"
   ]
  },
  {
   "cell_type": "code",
   "execution_count": 134,
   "id": "6acba4f4",
   "metadata": {},
   "outputs": [
    {
     "name": "stdout",
     "output_type": "stream",
     "text": [
      "[[196.946945   0.      ]]\n",
      "info:  {'total_reward': -21.071211999999974, 'total_profit': 0.15647331977289147, 'position': 1}\n"
     ]
    },
    {
     "data": {
      "image/png": "[encoded data removed]",
      "text/plain": [
       "<Figure size 432x288 with 1 Axes>"
      ]
     },
     "metadata": {
      "needs_background": "light"
     },
     "output_type": "display_data"
    }
   ],
   "source": [
    "env_1 = gym.make('stocks-v0', df = STOCKS_GOOGL, window_size = 1, frame_bound = (1, 500))\n",
    "\n",
    "state = env_1.reset()\n",
    "print(state)\n",
    "while True:\n",
    "    action = env_1.action_space.sample()\n",
    "    state, reward, done, info = env_1.step(action)\n",
    "\n",
    "    if done:\n",
    "        print(\"info: \", info)\n",
    "        break\n",
    "\n",
    "env_1.render_all()"
   ]
  },
  {
   "cell_type": "markdown",
   "id": "309d61fd",
   "metadata": {},
   "source": [
    "**Method 2: Buy low sell high (last ten days moving average)**"
   ]
  },
  {
   "cell_type": "code",
   "execution_count": 135,
   "id": "5b15f637",
   "metadata": {
    "scrolled": true
   },
   "outputs": [
    {
     "name": "stdout",
     "output_type": "stream",
     "text": [
      "info:  {'total_reward': 9.369401000000238, 'total_profit': 0.6285324764185732, 'position': 1}\n"
     ]
    },
    {
     "data": {
      "image/png": "[encoded data removed]",
      "text/plain": [
       "<Figure size 432x288 with 1 Axes>"
      ]
     },
     "metadata": {
      "needs_background": "light"
     },
     "output_type": "display_data"
    }
   ],
   "source": [
    "observation = env_1.reset()\n",
    "\n",
    "last_ten_days = [] # moving average\n",
    "moving_avg = 0\n",
    "while True:\n",
    "    if len(last_ten_days) < 10:\n",
    "        last_ten_days.append(observation[0][0])\n",
    "    else:\n",
    "        last_ten_days.pop(0)\n",
    "        last_ten_days.append(observation[0][0])\n",
    "    moving_avg = sum(last_ten_days) / len(last_ten_days)\n",
    "    \n",
    "    \n",
    "    if observation[0][0] < moving_avg:\n",
    "        action = 1 # buy)\n",
    "    elif observation[0][0] > moving_avg:\n",
    "        action = 0 # sell\n",
    "    \n",
    "    observation, reward, done, info = env_1.step(action)\n",
    "\n",
    "    if done:\n",
    "        print(\"info: \", info)\n",
    "        break\n",
    "\n",
    "env_1.render_all()\n",
    "    "
   ]
  },
  {
   "cell_type": "markdown",
   "id": "f885fa41",
   "metadata": {},
   "source": [
    "**Method 3: Buy and Hold Strategy**\n",
    "<br>\n",
    "Buy the stock at the beginning and hold throughout the period and sell stock at the very end."
   ]
  },
  {
   "cell_type": "code",
   "execution_count": 136,
   "id": "e3b0a9d4",
   "metadata": {},
   "outputs": [
    {
     "name": "stdout",
     "output_type": "stream",
     "text": [
      "info:  {'total_reward': 64.80979999999997, 'total_profit': 1.299563520310515, 'position': 0}\n"
     ]
    },
    {
     "data": {
      "image/png": "[encoded data removed]",
      "text/plain": [
       "<Figure size 432x288 with 1 Axes>"
      ]
     },
     "metadata": {
      "needs_background": "light"
     },
     "output_type": "display_data"
    }
   ],
   "source": [
    "state = env_1.reset()\n",
    "count = 0\n",
    "while True:\n",
    "    count += 1\n",
    "    action = 1\n",
    "    if count > 495:\n",
    "        action = 0\n",
    "    state, reward, done, info = env_1.step(action)\n",
    "    \n",
    "    if done:\n",
    "        print(\"info: \", info)\n",
    "        break\n",
    "\n",
    "env_1.render_all()"
   ]
  },
  {
   "cell_type": "markdown",
   "id": "7df050ff",
   "metadata": {},
   "source": [
    "<h2>Reinforcement Learning Methods:</h2>"
   ]
  },
  {
   "cell_type": "markdown",
   "id": "5c5becd4",
   "metadata": {},
   "source": [
    "**Method 4: Deep Q-Learning (DQN)**"
   ]
  },
  {
   "cell_type": "code",
   "execution_count": 137,
   "id": "d5dfa0ae",
   "metadata": {},
   "outputs": [],
   "source": [
    "# Parameters\n",
    "gamma = 0.99\n",
    "actsize = env_1.action_space.n\n",
    "obssize = env_1.observation_space.low.size"
   ]
  },
  {
   "cell_type": "code",
   "execution_count": 138,
   "id": "3994d96b",
   "metadata": {},
   "outputs": [],
   "source": [
    "def model_creator():\n",
    "    model = keras.Sequential()\n",
    "    model.add(layers.Dense(32,activation=\"relu\"))\n",
    "    model.add(layers.Dense(128,activation=\"relu\"))\n",
    "    model.add(layers.Dense(128,activation=\"relu\"))\n",
    "    model.add(layers.Dense(actsize,activation=\"linear\"))\n",
    "    return model"
   ]
  },
  {
   "cell_type": "code",
   "execution_count": 139,
   "id": "0b0d9905",
   "metadata": {},
   "outputs": [],
   "source": [
    "batch_size = 10\n",
    "# Model used for selecting actions (principal)\n",
    "model = model_creator()\n",
    "# Then create the target model. This will periodically be copied from the principal network \n",
    "model_target = model_creator()\n",
    "\n",
    "model.build((batch_size,obssize,))\n",
    "model_target.build((batch_size,obssize,))"
   ]
  },
  {
   "cell_type": "code",
   "execution_count": 140,
   "id": "57730d1a",
   "metadata": {},
   "outputs": [],
   "source": [
    "# environment\n",
    "env_trainig = gym.make('stocks-v0', df = STOCKS_GOOGL, window_size = 1, frame_bound = (1, 1000))"
   ]
  },
  {
   "cell_type": "code",
   "execution_count": 158,
   "id": "191c7f9b",
   "metadata": {},
   "outputs": [],
   "source": [
    "tf.keras.backend.set_floatx('float64')"
   ]
  },
  {
   "cell_type": "code",
   "execution_count": 169,
   "id": "7dc9132e",
   "metadata": {},
   "outputs": [
    {
     "name": "stdout",
     "output_type": "stream",
     "text": [
      "running reward: 4.78 at episode 10, epsilon 0.9048374180359595\n",
      "running reward: 1.35 at episode 20, epsilon 0.8187307530779818\n",
      "running reward: 9.37 at episode 30, epsilon 0.7408182206817179\n",
      "running reward: -0.61 at episode 40, epsilon 0.6703200460356393\n",
      "running reward: 14.26 at episode 50, epsilon 0.6065306597126334\n",
      "running reward: 16.12 at episode 60, epsilon 0.5488116360940265\n",
      "running reward: 25.86 at episode 70, epsilon 0.49658530379140947\n",
      "running reward: 39.69 at episode 80, epsilon 0.44932896411722156\n",
      "running reward: 39.39 at episode 90, epsilon 0.4065696597405991\n",
      "running reward: 35.37 at episode 100, epsilon 0.36787944117144233\n",
      "running reward: 32.67 at episode 110, epsilon 0.33287108369807955\n",
      "running reward: 37.29 at episode 120, epsilon 0.30119421191220214\n",
      "running reward: 42.06 at episode 130, epsilon 0.2725317930340126\n",
      "running reward: 42.06 at episode 140, epsilon 0.24659696394160643\n",
      "running reward: 46.01 at episode 150, epsilon 0.22313016014842982\n",
      "running reward: 63.01 at episode 160, epsilon 0.20189651799465538\n",
      "running reward: 62.85 at episode 170, epsilon 0.18268352405273466\n",
      "running reward: 62.85 at episode 180, epsilon 0.16529888822158653\n",
      "running reward: 62.85 at episode 190, epsilon 0.14956861922263504\n",
      "running reward: 62.85 at episode 200, epsilon 0.1353352832366127\n",
      "running reward: 73.32 at episode 210, epsilon 0.1224564282529819\n",
      "running reward: 73.32 at episode 220, epsilon 0.11080315836233387\n",
      "running reward: 73.32 at episode 230, epsilon 0.1002588437228037\n",
      "running reward: 73.32 at episode 240, epsilon 0.09071795328941251\n",
      "running reward: 73.32 at episode 250, epsilon 0.0820849986238988\n",
      "running reward: 37.49 at episode 260, epsilon 0.07427357821433388\n",
      "running reward: 37.49 at episode 270, epsilon 0.06720551273974976\n",
      "running reward: 36.02 at episode 280, epsilon 0.06081006262521795\n",
      "running reward: 36.02 at episode 290, epsilon 0.05502322005640723\n",
      "running reward: 53.43 at episode 300, epsilon 0.049787068367863944\n",
      "running reward: 56.00 at episode 310, epsilon 0.0450492023935578\n",
      "running reward: 56.00 at episode 320, epsilon 0.04076220397836621\n",
      "running reward: 58.80 at episode 330, epsilon 0.036883167401239994\n",
      "running reward: 58.80 at episode 340, epsilon 0.03337326996032608\n",
      "running reward: 58.80 at episode 350, epsilon 0.0301973834223185\n",
      "running reward: 80.69 at episode 360, epsilon 0.02732372244729256\n",
      "running reward: 80.69 at episode 370, epsilon 0.024723526470339388\n",
      "running reward: 80.69 at episode 380, epsilon 0.02237077185616559\n",
      "running reward: 80.69 at episode 390, epsilon 0.02024191144580439\n",
      "running reward: 80.69 at episode 400, epsilon 0.01831563888873418\n",
      "running reward: 79.94 at episode 410, epsilon 0.016572675401761255\n",
      "running reward: 79.94 at episode 420, epsilon 0.014995576820477703\n",
      "running reward: 79.94 at episode 430, epsilon 0.013568559012200934\n",
      "running reward: 88.02 at episode 440, epsilon 0.012277339903068436\n",
      "running reward: 88.02 at episode 450, epsilon 0.011108996538242306\n",
      "running reward: 68.13 at episode 460, epsilon 0.010051835744633576\n",
      "running reward: 68.13 at episode 470, epsilon 0.009095277101695816\n",
      "running reward: 68.13 at episode 480, epsilon 0.00822974704902003\n",
      "running reward: 68.13 at episode 490, epsilon 0.007446583070924338\n",
      "running reward: 47.87 at episode 500, epsilon 0.006737946999085467\n",
      "running reward: 47.87 at episode 510, epsilon 0.006096746565515633\n",
      "running reward: 47.87 at episode 520, epsilon 0.0055165644207607716\n",
      "running reward: 47.87 at episode 530, epsilon 0.004991593906910217\n",
      "running reward: 47.87 at episode 540, epsilon 0.004516580942612666\n",
      "running reward: 47.87 at episode 550, epsilon 0.004086771438464067\n",
      "running reward: 82.25 at episode 560, epsilon 0.003697863716482929\n",
      "running reward: 82.25 at episode 570, epsilon 0.003345965457471272\n",
      "running reward: 82.25 at episode 580, epsilon 0.0030275547453758153\n",
      "running reward: 82.25 at episode 590, epsilon 0.0027394448187683684\n",
      "running reward: 82.25 at episode 600, epsilon 0.0024787521766663585\n",
      "running reward: 82.25 at episode 610, epsilon 0.002242867719485801\n",
      "running reward: 82.25 at episode 620, epsilon 0.002029430636295734\n",
      "running reward: 82.25 at episode 630, epsilon 0.0018363047770289071\n",
      "running reward: 100.02 at episode 640, epsilon 0.001661557273173934\n",
      "running reward: 100.02 at episode 650, epsilon 0.0015034391929775724\n",
      "running reward: 100.02 at episode 660, epsilon 0.0013603680375478928\n",
      "running reward: 100.02 at episode 670, epsilon 0.001230911902673481\n",
      "running reward: 100.02 at episode 680, epsilon 0.0011137751478448032\n",
      "running reward: 80.00 at episode 690, epsilon 0.0010077854290485105\n",
      "running reward: 80.00 at episode 700, epsilon 0.0009118819655545162\n",
      "running reward: 80.00 at episode 710, epsilon 0.0008251049232659038\n",
      "running reward: 80.00 at episode 720, epsilon 0.0007465858083766792\n",
      "running reward: 80.00 at episode 730, epsilon 0.0006755387751938444\n",
      "running reward: 65.50 at episode 740, epsilon 0.0006112527611295723\n",
      "running reward: 65.50 at episode 750, epsilon 0.0005530843701478336\n",
      "running reward: 65.50 at episode 760, epsilon 0.0005004514334406104\n",
      "running reward: 63.49 at episode 770, epsilon 0.00045282718288679695\n",
      "running reward: 63.49 at episode 780, epsilon 0.0004097349789797868\n",
      "running reward: 63.49 at episode 790, epsilon 0.0003707435404590882\n",
      "running reward: 63.49 at episode 800, epsilon 0.00033546262790251185\n",
      "running reward: 63.49 at episode 810, epsilon 0.0003035391380788668\n",
      "running reward: 102.56 at episode 820, epsilon 0.00027465356997214254\n",
      "running reward: 102.56 at episode 830, epsilon 0.00024851682710795185\n",
      "running reward: 102.56 at episode 840, epsilon 0.0002248673241788482\n",
      "running reward: 102.56 at episode 850, epsilon 0.00020346836901064417\n",
      "running reward: 102.56 at episode 860, epsilon 0.0001841057936675792\n",
      "running reward: 66.76 at episode 870, epsilon 0.00016658581098763324\n",
      "running reward: 66.76 at episode 880, epsilon 0.0001507330750954765\n",
      "running reward: 66.76 at episode 890, epsilon 0.0001363889264820114\n",
      "running reward: 66.76 at episode 900, epsilon 0.00012340980408667956\n",
      "running reward: 66.76 at episode 910, epsilon 0.00011166580849011478\n",
      "running reward: 66.76 at episode 920, epsilon 0.00010103940183709324\n",
      "running reward: 91.17 at episode 930, epsilon 9.142423147817327e-05\n",
      "running reward: 91.17 at episode 940, epsilon 8.272406555663223e-05\n",
      "running reward: 91.17 at episode 950, epsilon 7.48518298877006e-05\n",
      "running reward: 91.17 at episode 960, epsilon 6.77287364908539e-05\n",
      "running reward: 87.77 at episode 970, epsilon 6.128349505322202e-05\n",
      "running reward: 87.77 at episode 980, epsilon 5.5451599432176945e-05\n",
      "running reward: 104.76 at episode 990, epsilon 5.017468205617528e-05\n",
      "info:  {'total_reward': 104.76478300000002, 'total_profit': 0.7541661610095287, 'position': 1}\n"
     ]
    },
    {
     "data": {
      "image/png": "[encoded data removed]",
      "text/plain": [
       "<Figure size 432x288 with 1 Axes>"
      ]
     },
     "metadata": {
      "needs_background": "light"
     },
     "output_type": "display_data"
    }
   ],
   "source": [
    "optimizer = keras.optimizers.Adam(learning_rate=0.0005)\n",
    "\n",
    "\n",
    "# Our Experience Replay memory \n",
    "action_history = []\n",
    "state_history = []\n",
    "state_next_history = []\n",
    "rewards_history = []\n",
    "done_history = []\n",
    "running_rewards_history = []\n",
    "\n",
    "# Replay memory size\n",
    "max_memory = 200 # You can experiment with different sizes.\n",
    "\n",
    "running_reward = 0\n",
    "episode_count = 0\n",
    "timestep_count = 0\n",
    "frame_count = 0\n",
    "\n",
    "update_after_actions = 4\n",
    "\n",
    "# How often to update the target network\n",
    "target_update_every = 10\n",
    "loss_function = keras.losses.MeanSquaredError()\n",
    "\n",
    "epsilon = 1\n",
    "adpative = True\n",
    "\n",
    "state = env_training.reset()[0]\n",
    "while True:\n",
    "    timestep_count += 1\n",
    "    \n",
    "    # adpative epsilon decay\n",
    "    if adpative:\n",
    "        epsilon = np.exp(-1e-2 * timestep_count)\n",
    "    \n",
    "    # exploration\n",
    "    rand = np.random.uniform(0, 1)\n",
    "    if rand < epsilon:\n",
    "        # Take random action\n",
    "        action = np.random.choice(actsize)\n",
    "    else:\n",
    "        # Predict action Q-values\n",
    "        # From environment state\n",
    "        state_t = tf.convert_to_tensor(state)\n",
    "        state_t = tf.expand_dims(state_t, 0)\n",
    "        action_vals = model(state_t, training=False)\n",
    "        # Choose the best action\n",
    "\n",
    "        action = int(tf.keras.backend.argmax(action_vals))\n",
    "\n",
    "    state_next, reward, done, info = env_training.step(action)\n",
    "    state_next = state_next[0]\n",
    "\n",
    "    \n",
    "    # Save action/states and other information in replay buffer\n",
    "    action_history.append(action)\n",
    "    state_history.append(state)\n",
    "    state_next_history.append(state_next)\n",
    "    rewards_history.append(reward)\n",
    "    done_history.append(done)\n",
    "    running_rewards_history.append(info['total_reward'])\n",
    "    \n",
    "    running_reward = info['total_reward']\n",
    "\n",
    "    state = state_next\n",
    "    \n",
    "    # Update every Xth frame to speed up (optional)\n",
    "    # and if you have sufficient history\n",
    "    if timestep_count % update_after_actions == 0 and len(action_history) > batch_size:\n",
    "        # Sample a set of batch_size memories from the history\n",
    "        rand_samples = np.random.randint(0, len(action_history), batch_size)\n",
    "        \n",
    "        action_sample = np.array(action_history)[rand_samples]\n",
    "        state_sample = np.array(state_history)[rand_samples]\n",
    "        state_next_sample = np.array(state_next_history)[rand_samples]\n",
    "        rewards_sample = np.array(rewards_history)[rand_samples]\n",
    "        done_sample = np.array(done_history)[rand_samples]\n",
    "        \n",
    "        # Create for the sample states the targets (r+gamma * max Q(...)\n",
    "        state_next_sample_t = tf.convert_to_tensor(state_next_sample)\n",
    "        Q_next_state = np.max(model_target.predict(state_next_sample_t), axis=1)   \n",
    "        Q_targets = rewards_sample + gamma * Q_next_state\n",
    "        \n",
    "        # What actions are relevant and need updating\n",
    "        relevant_actions = tf.cast(tf.one_hot(action_sample, actsize), tf.double)\n",
    "        \n",
    "        # we will use Gradient tape to do a custom gradient \n",
    "        # in the `with` environment we will record a set of operations\n",
    "        # and then we will take gradients with respect to the trainable parameters\n",
    "        # in the neural network\n",
    "        with tf.GradientTape() as tape:\n",
    "            # Train the model on your action selecting network\n",
    "            q_values = model(state_sample) \n",
    "            # We consider only the relevant actions\n",
    "            Q_of_actions = tf.reduce_sum(tf.multiply(q_values, relevant_actions), axis=1)\n",
    "            # Calculate loss between principal network and target network\n",
    "            loss = loss_function(Q_targets, Q_of_actions)\n",
    "\n",
    "            # Nudge the weights of the trainable variables towards \n",
    "            grads = tape.gradient(loss, model.trainable_variables)\n",
    "            optimizer.apply_gradients(zip(grads, model.trainable_variables))\n",
    "        \n",
    "    if timestep_count % target_update_every == 0:\n",
    "        # update the the target network with new weights\n",
    "        model_target.set_weights(model.get_weights())\n",
    "        # Log details\n",
    "        template = \"running reward: {:.2f} at episode {}, epsilon {}\"\n",
    "        print(template.format(running_reward, timestep_count, epsilon))\n",
    "            \n",
    "    # Don't let the memory grow beyond the limit\n",
    "    if len(rewards_history) > max_memory:\n",
    "        del action_history[:1]\n",
    "        del state_history[:1]\n",
    "        del state_next_history[:1]\n",
    "        del rewards_history[:1]\n",
    "        del done_history[:1]\n",
    "    \n",
    "    if done:\n",
    "        print(\"info: \", info)\n",
    "        break\n",
    "    \n",
    "env_training.render_all()"
   ]
  },
  {
   "cell_type": "code",
   "execution_count": null,
   "id": "5575fa1c",
   "metadata": {},
   "outputs": [],
   "source": []
  },
  {
   "cell_type": "code",
   "execution_count": null,
   "id": "5a398739",
   "metadata": {},
   "outputs": [],
   "source": []
  }
 ],
 "metadata": {
  "kernelspec": {
   "display_name": "Python 3",
   "language": "python",
   "name": "python3"
  },
  "language_info": {
   "codemirror_mode": {
    "name": "ipython",
    "version": 3
   },
   "file_extension": ".py",
   "mimetype": "text/x-python",
   "name": "python",
   "nbconvert_exporter": "python",
   "pygments_lexer": "ipython3",
   "version": "3.7.6"
  }
 },
 "nbformat": 4,
 "nbformat_minor": 5
}
