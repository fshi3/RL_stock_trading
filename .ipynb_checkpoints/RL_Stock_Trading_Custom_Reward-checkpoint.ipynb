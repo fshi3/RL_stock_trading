{
 "cells": [
  {
   "cell_type": "markdown",
   "id": "3f0c631e",
   "metadata": {
    "colab_type": "text",
    "id": "view-in-github"
   },
   "source": [
    "<a href=\"https://colab.research.google.com/github/fshi3/RL_stock_trading/blob/master/RL_Stock_Trading_Custom_Reward.ipynb\" target=\"_parent\"><img src=\"https://colab.research.google.com/assets/colab-badge.svg\" alt=\"Open In Colab\"/></a>"
   ]
  },
  {
   "cell_type": "markdown",
   "id": "b2bb87f7",
   "metadata": {
    "id": "b2bb87f7"
   },
   "source": [
    "<h1>Reinforcement Learning Final Project - Stock Trading Algorithm</h1>\n",
    "    \n",
    "<br>\n",
    "Implementation using the \n",
    "\"anytrading\" environment in OpenAIGym\n",
    "<br>\n",
    "https://github.com/AminHP/gym-anytrading"
   ]
  },
  {
   "cell_type": "code",
   "execution_count": 1,
   "id": "3780bdab",
   "metadata": {
    "colab": {
     "base_uri": "https://localhost:8080/"
    },
    "id": "3780bdab",
    "outputId": "785da88d-0ea9-410e-f1d2-43de0b578a91",
    "scrolled": true
   },
   "outputs": [
    {
     "name": "stdout",
     "output_type": "stream",
     "text": [
      "Collecting gym-anytrading\n",
      "  Downloading gym_anytrading-1.2.0-py3-none-any.whl (171 kB)\n",
      "\u001b[?25l\r",
      "\u001b[K     |██                              | 10 kB 20.0 MB/s eta 0:00:01\r",
      "\u001b[K     |███▉                            | 20 kB 11.3 MB/s eta 0:00:01\r",
      "\u001b[K     |█████▊                          | 30 kB 6.4 MB/s eta 0:00:01\r",
      "\u001b[K     |███████▋                        | 40 kB 5.8 MB/s eta 0:00:01\r",
      "\u001b[K     |█████████▌                      | 51 kB 4.3 MB/s eta 0:00:01\r",
      "\u001b[K     |███████████▌                    | 61 kB 5.0 MB/s eta 0:00:01\r",
      "\u001b[K     |█████████████▍                  | 71 kB 5.6 MB/s eta 0:00:01\r",
      "\u001b[K     |███████████████▎                | 81 kB 5.1 MB/s eta 0:00:01\r",
      "\u001b[K     |█████████████████▏              | 92 kB 5.6 MB/s eta 0:00:01\r",
      "\u001b[K     |███████████████████             | 102 kB 5.3 MB/s eta 0:00:01\r",
      "\u001b[K     |█████████████████████           | 112 kB 5.3 MB/s eta 0:00:01\r",
      "\u001b[K     |███████████████████████         | 122 kB 5.3 MB/s eta 0:00:01\r",
      "\u001b[K     |████████████████████████▉       | 133 kB 5.3 MB/s eta 0:00:01\r",
      "\u001b[K     |██████████████████████████▊     | 143 kB 5.3 MB/s eta 0:00:01\r",
      "\u001b[K     |████████████████████████████▋   | 153 kB 5.3 MB/s eta 0:00:01\r",
      "\u001b[K     |██████████████████████████████▌ | 163 kB 5.3 MB/s eta 0:00:01\r",
      "\u001b[K     |████████████████████████████████| 171 kB 5.3 MB/s \n",
      "\u001b[?25hRequirement already satisfied: gym>=0.12.5 in /usr/local/lib/python3.7/dist-packages (from gym-anytrading) (0.17.3)\n",
      "Requirement already satisfied: numpy>=1.16.4 in /usr/local/lib/python3.7/dist-packages (from gym-anytrading) (1.21.6)\n",
      "Requirement already satisfied: pandas>=0.24.2 in /usr/local/lib/python3.7/dist-packages (from gym-anytrading) (1.3.5)\n",
      "Requirement already satisfied: matplotlib>=3.1.1 in /usr/local/lib/python3.7/dist-packages (from gym-anytrading) (3.2.2)\n",
      "Requirement already satisfied: cloudpickle<1.7.0,>=1.2.0 in /usr/local/lib/python3.7/dist-packages (from gym>=0.12.5->gym-anytrading) (1.3.0)\n",
      "Requirement already satisfied: pyglet<=1.5.0,>=1.4.0 in /usr/local/lib/python3.7/dist-packages (from gym>=0.12.5->gym-anytrading) (1.5.0)\n",
      "Requirement already satisfied: scipy in /usr/local/lib/python3.7/dist-packages (from gym>=0.12.5->gym-anytrading) (1.4.1)\n",
      "Requirement already satisfied: pyparsing!=2.0.4,!=2.1.2,!=2.1.6,>=2.0.1 in /usr/local/lib/python3.7/dist-packages (from matplotlib>=3.1.1->gym-anytrading) (3.0.8)\n",
      "Requirement already satisfied: cycler>=0.10 in /usr/local/lib/python3.7/dist-packages (from matplotlib>=3.1.1->gym-anytrading) (0.11.0)\n",
      "Requirement already satisfied: python-dateutil>=2.1 in /usr/local/lib/python3.7/dist-packages (from matplotlib>=3.1.1->gym-anytrading) (2.8.2)\n",
      "Requirement already satisfied: kiwisolver>=1.0.1 in /usr/local/lib/python3.7/dist-packages (from matplotlib>=3.1.1->gym-anytrading) (1.4.2)\n",
      "Requirement already satisfied: typing-extensions in /usr/local/lib/python3.7/dist-packages (from kiwisolver>=1.0.1->matplotlib>=3.1.1->gym-anytrading) (4.2.0)\n",
      "Requirement already satisfied: pytz>=2017.3 in /usr/local/lib/python3.7/dist-packages (from pandas>=0.24.2->gym-anytrading) (2022.1)\n",
      "Requirement already satisfied: future in /usr/local/lib/python3.7/dist-packages (from pyglet<=1.5.0,>=1.4.0->gym>=0.12.5->gym-anytrading) (0.16.0)\n",
      "Requirement already satisfied: six>=1.5 in /usr/local/lib/python3.7/dist-packages (from python-dateutil>=2.1->matplotlib>=3.1.1->gym-anytrading) (1.15.0)\n",
      "Installing collected packages: gym-anytrading\n",
      "Successfully installed gym-anytrading-1.2.0\n"
     ]
    }
   ],
   "source": [
    "pip install gym-anytrading"
   ]
  },
  {
   "cell_type": "code",
   "execution_count": 2,
   "id": "1eeff598",
   "metadata": {
    "id": "1eeff598"
   },
   "outputs": [],
   "source": [
    "# importing the OpenAIGym Environment for stock trading\n",
    "import gym\n",
    "import gym_anytrading\n",
    "from gym_anytrading.envs import Positions, Actions, StocksEnv\n",
    "import matplotlib.pyplot as plt\n",
    "import tensorflow as tf\n",
    "import numpy as np\n",
    "from tensorflow import keras\n",
    "from tensorflow.keras import layers\n",
    "from gym_anytrading.datasets import STOCKS_GOOGL\n",
    "from gym.envs.registration import register\n",
    "import random\n",
    "from copy import deepcopy\n"
   ]
  },
  {
   "cell_type": "code",
   "execution_count": 3,
   "id": "n1QJRRCWQHvk",
   "metadata": {
    "id": "n1QJRRCWQHvk"
   },
   "outputs": [],
   "source": [
    "class AdvancedEnv(StocksEnv):\n",
    "  def reset(self):\n",
    "    obs = super().reset()\n",
    "    self._total_reward = 1\n",
    "    return obs\n",
    "\n",
    "  def _update_mdd():\n",
    "    pass\n",
    "\n",
    "  def update_sharpe():\n",
    "    pass\n",
    "\n",
    "  def _get_observation(self):\n",
    "      obs = self.signal_features[(self._current_tick-self.window_size):self._current_tick]\n",
    "      obs = np.array(obs)\n",
    "      prices = obs[1:, 1]\n",
    "      changes = obs[:-1, 0]\n",
    "      opt = prices/changes\n",
    "      return opt\n",
    "\n",
    "  def step(self, action):\n",
    "    self._done = False\n",
    "    self._current_tick += 1\n",
    "\n",
    "    if self._current_tick == self._end_tick:\n",
    "            self._done = True\n",
    "\n",
    "    step_reward = self._calculate_reward(action)\n",
    "    self._total_reward *= (1+step_reward)\n",
    "\n",
    "    self._update_profit(action)\n",
    "\n",
    "    trade = False\n",
    "    if ((action == Actions.Buy.value and self._position == Positions.Short) or\n",
    "            (action == Actions.Sell.value and self._position == Positions.Long)):\n",
    "            trade = True\n",
    "    if trade:\n",
    "        self._position = self._position.opposite()\n",
    "        self._last_trade_tick = self._current_tick\n",
    "\n",
    "    self._position_history.append(self._position)\n",
    "    observation = self._get_observation()\n",
    "    info = dict(\n",
    "            total_reward = self._total_reward,\n",
    "            total_profit = self._total_profit,\n",
    "            position = self._position.value\n",
    "    )\n",
    "    self._update_history(info)\n",
    "\n",
    "    return observation, step_reward, self._done, info\n",
    "    \n",
    "  def _calculate_reward(self, action):\n",
    "        \n",
    "        current_price = self.prices[self._current_tick]\n",
    "        last_price = self.prices[self._current_tick-1]\n",
    "    \n",
    "        percent_diff = (current_price-last_price)/last_price\n",
    "        \n",
    "        if self._position == Positions.Short:\n",
    "            return float(-percent_diff)\n",
    "        else:\n",
    "            return float(percent_diff)\n",
    "            \n",
    "        "
   ]
  },
  {
   "cell_type": "code",
   "execution_count": 4,
   "id": "AfNIwFA5QJ7i",
   "metadata": {
    "id": "AfNIwFA5QJ7i"
   },
   "outputs": [],
   "source": [
    "register(\n",
    "    id='advanced-stocks-v0',\n",
    "    entry_point=AdvancedEnv,\n",
    "    kwargs={\n",
    "        'df': deepcopy(STOCKS_GOOGL),\n",
    "        'window_size': 30,\n",
    "        'frame_bound': (30, len(STOCKS_GOOGL))\n",
    "    }\n",
    ")"
   ]
  },
  {
   "cell_type": "code",
   "execution_count": 5,
   "id": "943245b2",
   "metadata": {
    "colab": {
     "base_uri": "https://localhost:8080/",
     "height": 455
    },
    "id": "943245b2",
    "outputId": "8d7aaea2-6889-46ec-bccb-8bc7a54937e9"
   },
   "outputs": [
    {
     "data": {
      "text/html": [
       "\n",
       "  <div id=\"df-443ade7c-2e83-49d7-87f7-200da697b161\">\n",
       "    <div class=\"colab-df-container\">\n",
       "      <div>\n",
       "<style scoped>\n",
       "    .dataframe tbody tr th:only-of-type {\n",
       "        vertical-align: middle;\n",
       "    }\n",
       "\n",
       "    .dataframe tbody tr th {\n",
       "        vertical-align: top;\n",
       "    }\n",
       "\n",
       "    .dataframe thead th {\n",
       "        text-align: right;\n",
       "    }\n",
       "</style>\n",
       "<table border=\"1\" class=\"dataframe\">\n",
       "  <thead>\n",
       "    <tr style=\"text-align: right;\">\n",
       "      <th></th>\n",
       "      <th>Open</th>\n",
       "      <th>High</th>\n",
       "      <th>Low</th>\n",
       "      <th>Close</th>\n",
       "      <th>Adj Close</th>\n",
       "      <th>Volume</th>\n",
       "    </tr>\n",
       "    <tr>\n",
       "      <th>Date</th>\n",
       "      <th></th>\n",
       "      <th></th>\n",
       "      <th></th>\n",
       "      <th></th>\n",
       "      <th></th>\n",
       "      <th></th>\n",
       "    </tr>\n",
       "  </thead>\n",
       "  <tbody>\n",
       "    <tr>\n",
       "      <th>2009-05-22</th>\n",
       "      <td>198.528534</td>\n",
       "      <td>199.524521</td>\n",
       "      <td>196.196198</td>\n",
       "      <td>196.946945</td>\n",
       "      <td>196.946945</td>\n",
       "      <td>3433700</td>\n",
       "    </tr>\n",
       "    <tr>\n",
       "      <th>2009-05-26</th>\n",
       "      <td>196.171173</td>\n",
       "      <td>202.702698</td>\n",
       "      <td>195.195190</td>\n",
       "      <td>202.382385</td>\n",
       "      <td>202.382385</td>\n",
       "      <td>6202700</td>\n",
       "    </tr>\n",
       "    <tr>\n",
       "      <th>2009-05-27</th>\n",
       "      <td>203.023026</td>\n",
       "      <td>206.136139</td>\n",
       "      <td>202.607605</td>\n",
       "      <td>202.982986</td>\n",
       "      <td>202.982986</td>\n",
       "      <td>6062500</td>\n",
       "    </tr>\n",
       "    <tr>\n",
       "      <th>2009-05-28</th>\n",
       "      <td>204.544540</td>\n",
       "      <td>206.016022</td>\n",
       "      <td>202.507507</td>\n",
       "      <td>205.405411</td>\n",
       "      <td>205.405411</td>\n",
       "      <td>5332200</td>\n",
       "    </tr>\n",
       "    <tr>\n",
       "      <th>2009-05-29</th>\n",
       "      <td>206.261261</td>\n",
       "      <td>208.823822</td>\n",
       "      <td>205.555557</td>\n",
       "      <td>208.823822</td>\n",
       "      <td>208.823822</td>\n",
       "      <td>5291100</td>\n",
       "    </tr>\n",
       "    <tr>\n",
       "      <th>...</th>\n",
       "      <td>...</td>\n",
       "      <td>...</td>\n",
       "      <td>...</td>\n",
       "      <td>...</td>\n",
       "      <td>...</td>\n",
       "      <td>...</td>\n",
       "    </tr>\n",
       "    <tr>\n",
       "      <th>2018-08-23</th>\n",
       "      <td>1219.880005</td>\n",
       "      <td>1235.170044</td>\n",
       "      <td>1219.349976</td>\n",
       "      <td>1221.160034</td>\n",
       "      <td>1221.160034</td>\n",
       "      <td>1233300</td>\n",
       "    </tr>\n",
       "    <tr>\n",
       "      <th>2018-08-24</th>\n",
       "      <td>1226.000000</td>\n",
       "      <td>1237.400024</td>\n",
       "      <td>1221.420044</td>\n",
       "      <td>1236.750000</td>\n",
       "      <td>1236.750000</td>\n",
       "      <td>1222700</td>\n",
       "    </tr>\n",
       "    <tr>\n",
       "      <th>2018-08-27</th>\n",
       "      <td>1244.140015</td>\n",
       "      <td>1257.869995</td>\n",
       "      <td>1240.680054</td>\n",
       "      <td>1256.270020</td>\n",
       "      <td>1256.270020</td>\n",
       "      <td>1429000</td>\n",
       "    </tr>\n",
       "    <tr>\n",
       "      <th>2018-08-28</th>\n",
       "      <td>1255.900024</td>\n",
       "      <td>1256.560059</td>\n",
       "      <td>1242.969971</td>\n",
       "      <td>1245.859985</td>\n",
       "      <td>1245.859985</td>\n",
       "      <td>1366500</td>\n",
       "    </tr>\n",
       "    <tr>\n",
       "      <th>2018-08-29</th>\n",
       "      <td>1255.000000</td>\n",
       "      <td>1267.170044</td>\n",
       "      <td>1252.800049</td>\n",
       "      <td>1264.650024</td>\n",
       "      <td>1264.650024</td>\n",
       "      <td>1846300</td>\n",
       "    </tr>\n",
       "  </tbody>\n",
       "</table>\n",
       "<p>2335 rows × 6 columns</p>\n",
       "</div>\n",
       "      <button class=\"colab-df-convert\" onclick=\"convertToInteractive('df-443ade7c-2e83-49d7-87f7-200da697b161')\"\n",
       "              title=\"Convert this dataframe to an interactive table.\"\n",
       "              style=\"display:none;\">\n",
       "        \n",
       "  <svg xmlns=\"http://www.w3.org/2000/svg\" height=\"24px\"viewBox=\"0 0 24 24\"\n",
       "       width=\"24px\">\n",
       "    <path d=\"M0 0h24v24H0V0z\" fill=\"none\"/>\n",
       "    <path d=\"M18.56 5.44l.94 2.06.94-2.06 2.06-.94-2.06-.94-.94-2.06-.94 2.06-2.06.94zm-11 1L8.5 8.5l.94-2.06 2.06-.94-2.06-.94L8.5 2.5l-.94 2.06-2.06.94zm10 10l.94 2.06.94-2.06 2.06-.94-2.06-.94-.94-2.06-.94 2.06-2.06.94z\"/><path d=\"M17.41 7.96l-1.37-1.37c-.4-.4-.92-.59-1.43-.59-.52 0-1.04.2-1.43.59L10.3 9.45l-7.72 7.72c-.78.78-.78 2.05 0 2.83L4 21.41c.39.39.9.59 1.41.59.51 0 1.02-.2 1.41-.59l7.78-7.78 2.81-2.81c.8-.78.8-2.07 0-2.86zM5.41 20L4 18.59l7.72-7.72 1.47 1.35L5.41 20z\"/>\n",
       "  </svg>\n",
       "      </button>\n",
       "      \n",
       "  <style>\n",
       "    .colab-df-container {\n",
       "      display:flex;\n",
       "      flex-wrap:wrap;\n",
       "      gap: 12px;\n",
       "    }\n",
       "\n",
       "    .colab-df-convert {\n",
       "      background-color: #E8F0FE;\n",
       "      border: none;\n",
       "      border-radius: 50%;\n",
       "      cursor: pointer;\n",
       "      display: none;\n",
       "      fill: #1967D2;\n",
       "      height: 32px;\n",
       "      padding: 0 0 0 0;\n",
       "      width: 32px;\n",
       "    }\n",
       "\n",
       "    .colab-df-convert:hover {\n",
       "      background-color: #E2EBFA;\n",
       "      box-shadow: 0px 1px 2px rgba(60, 64, 67, 0.3), 0px 1px 3px 1px rgba(60, 64, 67, 0.15);\n",
       "      fill: #174EA6;\n",
       "    }\n",
       "\n",
       "    [theme=dark] .colab-df-convert {\n",
       "      background-color: #3B4455;\n",
       "      fill: #D2E3FC;\n",
       "    }\n",
       "\n",
       "    [theme=dark] .colab-df-convert:hover {\n",
       "      background-color: #434B5C;\n",
       "      box-shadow: 0px 1px 3px 1px rgba(0, 0, 0, 0.15);\n",
       "      filter: drop-shadow(0px 1px 2px rgba(0, 0, 0, 0.3));\n",
       "      fill: #FFFFFF;\n",
       "    }\n",
       "  </style>\n",
       "\n",
       "      <script>\n",
       "        const buttonEl =\n",
       "          document.querySelector('#df-443ade7c-2e83-49d7-87f7-200da697b161 button.colab-df-convert');\n",
       "        buttonEl.style.display =\n",
       "          google.colab.kernel.accessAllowed ? 'block' : 'none';\n",
       "\n",
       "        async function convertToInteractive(key) {\n",
       "          const element = document.querySelector('#df-443ade7c-2e83-49d7-87f7-200da697b161');\n",
       "          const dataTable =\n",
       "            await google.colab.kernel.invokeFunction('convertToInteractive',\n",
       "                                                     [key], {});\n",
       "          if (!dataTable) return;\n",
       "\n",
       "          const docLinkHtml = 'Like what you see? Visit the ' +\n",
       "            '<a target=\"_blank\" href=https://colab.research.google.com/notebooks/data_table.ipynb>data table notebook</a>'\n",
       "            + ' to learn more about interactive tables.';\n",
       "          element.innerHTML = '';\n",
       "          dataTable['output_type'] = 'display_data';\n",
       "          await google.colab.output.renderOutput(dataTable, element);\n",
       "          const docLink = document.createElement('div');\n",
       "          docLink.innerHTML = docLinkHtml;\n",
       "          element.appendChild(docLink);\n",
       "        }\n",
       "      </script>\n",
       "    </div>\n",
       "  </div>\n",
       "  "
      ],
      "text/plain": [
       "                   Open         High          Low        Close    Adj Close  \\\n",
       "Date                                                                          \n",
       "2009-05-22   198.528534   199.524521   196.196198   196.946945   196.946945   \n",
       "2009-05-26   196.171173   202.702698   195.195190   202.382385   202.382385   \n",
       "2009-05-27   203.023026   206.136139   202.607605   202.982986   202.982986   \n",
       "2009-05-28   204.544540   206.016022   202.507507   205.405411   205.405411   \n",
       "2009-05-29   206.261261   208.823822   205.555557   208.823822   208.823822   \n",
       "...                 ...          ...          ...          ...          ...   \n",
       "2018-08-23  1219.880005  1235.170044  1219.349976  1221.160034  1221.160034   \n",
       "2018-08-24  1226.000000  1237.400024  1221.420044  1236.750000  1236.750000   \n",
       "2018-08-27  1244.140015  1257.869995  1240.680054  1256.270020  1256.270020   \n",
       "2018-08-28  1255.900024  1256.560059  1242.969971  1245.859985  1245.859985   \n",
       "2018-08-29  1255.000000  1267.170044  1252.800049  1264.650024  1264.650024   \n",
       "\n",
       "             Volume  \n",
       "Date                 \n",
       "2009-05-22  3433700  \n",
       "2009-05-26  6202700  \n",
       "2009-05-27  6062500  \n",
       "2009-05-28  5332200  \n",
       "2009-05-29  5291100  \n",
       "...             ...  \n",
       "2018-08-23  1233300  \n",
       "2018-08-24  1222700  \n",
       "2018-08-27  1429000  \n",
       "2018-08-28  1366500  \n",
       "2018-08-29  1846300  \n",
       "\n",
       "[2335 rows x 6 columns]"
      ]
     },
     "execution_count": 5,
     "metadata": {},
     "output_type": "execute_result"
    }
   ],
   "source": [
    "# Google Stock dataset\n",
    "STOCKS_GOOGL"
   ]
  },
  {
   "cell_type": "code",
   "execution_count": 6,
   "id": "6cf2e657",
   "metadata": {
    "id": "6cf2e657"
   },
   "outputs": [],
   "source": [
    "env = gym.make('advanced-stocks-v0')\n",
    "env_1 = gym.make('advanced-stocks-v0',\n",
    "               df = STOCKS_GOOGL,\n",
    "               window_size = 10,\n",
    "               frame_bound = (1000, 1500))"
   ]
  },
  {
   "cell_type": "code",
   "execution_count": 7,
   "id": "90715533",
   "metadata": {
    "colab": {
     "base_uri": "https://localhost:8080/",
     "height": 294
    },
    "id": "90715533",
    "outputId": "c2ca1958-940d-4ba6-9d80-8db06df8d384"
   },
   "outputs": [
    {
     "data": {
      "image/png": "[encoded data removed]",
      "text/plain": [
       "<Figure size 432x288 with 1 Axes>"
      ]
     },
     "metadata": {
      "needs_background": "light"
     },
     "output_type": "display_data"
    }
   ],
   "source": [
    "env_1.reset()\n",
    "env_1.render()"
   ]
  },
  {
   "cell_type": "code",
   "execution_count": 7,
   "id": "28637e41",
   "metadata": {
    "id": "28637e41"
   },
   "outputs": [],
   "source": []
  },
  {
   "cell_type": "markdown",
   "id": "1197aa9f",
   "metadata": {
    "id": "1197aa9f"
   },
   "source": [
    "Max_possible_profit signifies that if the market didn't have trade fees, you could have earned 12.468122338293616 units of currency by starting with 1.0. In other words, your money increased over 1200%."
   ]
  },
  {
   "cell_type": "code",
   "execution_count": 8,
   "id": "b75c3469",
   "metadata": {
    "colab": {
     "base_uri": "https://localhost:8080/"
    },
    "id": "b75c3469",
    "outputId": "8276929d-de19-4bff-909d-9da83fada7d4"
   },
   "outputs": [
    {
     "data": {
      "text/plain": [
       "12.46812233829367"
      ]
     },
     "execution_count": 8,
     "metadata": {},
     "output_type": "execute_result"
    }
   ],
   "source": [
    "env_1.max_possible_profit()"
   ]
  },
  {
   "cell_type": "code",
   "execution_count": 9,
   "id": "c8ed3866",
   "metadata": {
    "colab": {
     "base_uri": "https://localhost:8080/"
    },
    "id": "c8ed3866",
    "outputId": "b666b5e8-b9d8-46e1-bd0f-bfea5a366787"
   },
   "outputs": [
    {
     "name": "stdout",
     "output_type": "stream",
     "text": [
      "(array([ 0.0111892 ,  0.0194188 ,  0.01871775, -0.00501424,  0.01913142,\n",
      "       -0.00246101,  0.01004036, -0.00306737,  0.01090562]), -0.0324540971036752, False, {'total_reward': 0.9675459028963248, 'total_profit': 1.0, 'position': 1})\n"
     ]
    }
   ],
   "source": [
    "action = 1\n",
    "print(env_1.step(action))"
   ]
  },
  {
   "cell_type": "code",
   "execution_count": 10,
   "id": "0de3e68f",
   "metadata": {
    "id": "0de3e68f"
   },
   "outputs": [],
   "source": [
    "observation, reward, done, info = env_1.step(action)"
   ]
  },
  {
   "cell_type": "markdown",
   "id": "d1826502",
   "metadata": {
    "id": "d1826502"
   },
   "source": [
    "<h2>Random and Heuristic Methods:</h2>"
   ]
  },
  {
   "cell_type": "markdown",
   "id": "c43cb901",
   "metadata": {
    "id": "c43cb901"
   },
   "source": [
    "<h3>Method 1: Random Buy/Sell</h3>"
   ]
  },
  {
   "cell_type": "code",
   "execution_count": 11,
   "id": "6acba4f4",
   "metadata": {
    "colab": {
     "base_uri": "https://localhost:8080/",
     "height": 346
    },
    "id": "6acba4f4",
    "outputId": "365dea08-5ea5-497e-c8e7-55eeb4070c53"
   },
   "outputs": [
    {
     "name": "stdout",
     "output_type": "stream",
     "text": [
      "[-0.00502075  0.0111892   0.0194188   0.01871775 -0.00501424  0.01913142\n",
      " -0.00246101  0.01004036 -0.00306737]\n",
      "info:  {'total_reward': 1.4389124686519006, 'total_profit': 0.1997514747710351, 'position': 1}\n"
     ]
    },
    {
     "data": {
      "image/png": "[encoded data removed]",
      "text/plain": [
       "<Figure size 432x288 with 1 Axes>"
      ]
     },
     "metadata": {
      "needs_background": "light"
     },
     "output_type": "display_data"
    }
   ],
   "source": [
    "state = env_1.reset()\n",
    "print(state)\n",
    "while True:\n",
    "    action = env_1.action_space.sample()\n",
    "    state, reward, done, info = env_1.step(action)\n",
    "\n",
    "    if done:\n",
    "        print(\"info: \", info)\n",
    "        break\n",
    "\n",
    "env_1.render_all()"
   ]
  },
  {
   "cell_type": "markdown",
   "id": "309d61fd",
   "metadata": {
    "id": "309d61fd"
   },
   "source": [
    "<h3>Method 2: Buy low sell high (last ten days moving average)</h3>"
   ]
  },
  {
   "cell_type": "code",
   "execution_count": 12,
   "id": "5b15f637",
   "metadata": {
    "colab": {
     "base_uri": "https://localhost:8080/",
     "height": 234
    },
    "id": "5b15f637",
    "outputId": "49586606-19c1-4041-c8e5-f8b0f14a252c",
    "scrolled": true
   },
   "outputs": [
    {
     "ename": "IndexError",
     "evalue": "ignored",
     "output_type": "error",
     "traceback": [
      "\u001b[0;31m---------------------------------------------------------------------------\u001b[0m",
      "\u001b[0;31mIndexError\u001b[0m                                Traceback (most recent call last)",
      "\u001b[0;32m<ipython-input-12-531c87c56590>\u001b[0m in \u001b[0;36m<module>\u001b[0;34m()\u001b[0m\n\u001b[1;32m      5\u001b[0m \u001b[0;32mwhile\u001b[0m \u001b[0;32mTrue\u001b[0m\u001b[0;34m:\u001b[0m\u001b[0;34m\u001b[0m\u001b[0;34m\u001b[0m\u001b[0m\n\u001b[1;32m      6\u001b[0m     \u001b[0;32mif\u001b[0m \u001b[0mlen\u001b[0m\u001b[0;34m(\u001b[0m\u001b[0mlast_ten_days\u001b[0m\u001b[0;34m)\u001b[0m \u001b[0;34m<\u001b[0m \u001b[0;36m10\u001b[0m\u001b[0;34m:\u001b[0m\u001b[0;34m\u001b[0m\u001b[0;34m\u001b[0m\u001b[0m\n\u001b[0;32m----> 7\u001b[0;31m         \u001b[0mlast_ten_days\u001b[0m\u001b[0;34m.\u001b[0m\u001b[0mappend\u001b[0m\u001b[0;34m(\u001b[0m\u001b[0mobservation\u001b[0m\u001b[0;34m[\u001b[0m\u001b[0;36m0\u001b[0m\u001b[0;34m]\u001b[0m\u001b[0;34m[\u001b[0m\u001b[0;36m0\u001b[0m\u001b[0;34m]\u001b[0m\u001b[0;34m)\u001b[0m\u001b[0;34m\u001b[0m\u001b[0;34m\u001b[0m\u001b[0m\n\u001b[0m\u001b[1;32m      8\u001b[0m     \u001b[0;32melse\u001b[0m\u001b[0;34m:\u001b[0m\u001b[0;34m\u001b[0m\u001b[0;34m\u001b[0m\u001b[0m\n\u001b[1;32m      9\u001b[0m         \u001b[0mlast_ten_days\u001b[0m\u001b[0;34m.\u001b[0m\u001b[0mpop\u001b[0m\u001b[0;34m(\u001b[0m\u001b[0;36m0\u001b[0m\u001b[0;34m)\u001b[0m\u001b[0;34m\u001b[0m\u001b[0;34m\u001b[0m\u001b[0m\n",
      "\u001b[0;31mIndexError\u001b[0m: invalid index to scalar variable."
     ]
    }
   ],
   "source": [
    "observation = env_1.reset()\n",
    "\n",
    "last_ten_days = [] # moving average\n",
    "moving_avg = 0\n",
    "while True:\n",
    "    if len(last_ten_days) < 10:\n",
    "        last_ten_days.append(observation[0][0])\n",
    "    else:\n",
    "        last_ten_days.pop(0)\n",
    "        last_ten_days.append(observation[0][0])\n",
    "    moving_avg = sum(last_ten_days) / len(last_ten_days)\n",
    "    \n",
    "    \n",
    "    if observation[0][0] < moving_avg:\n",
    "        action = 1 # buy)\n",
    "    elif observation[0][0] > moving_avg:\n",
    "        action = 0 # sell\n",
    "    \n",
    "    observation, reward, done, info = env_1.step(action)\n",
    "    #print(type(reward))\n",
    "    if done:\n",
    "        print(\"info: \", info)\n",
    "        break\n",
    "\n",
    "env_1.render_all()\n",
    "    "
   ]
  },
  {
   "cell_type": "markdown",
   "id": "f885fa41",
   "metadata": {
    "id": "f885fa41"
   },
   "source": [
    "<h3>Method 3: Buy and Hold Strategy</h3>\n",
    "<br>\n",
    "Buy the stock at the beginning and hold throughout the period and sell stock at the very end."
   ]
  },
  {
   "cell_type": "code",
   "execution_count": 1,
   "id": "e3b0a9d4",
   "metadata": {
    "id": "e3b0a9d4"
   },
   "outputs": [
    {
     "ename": "NameError",
     "evalue": "name 'env_1' is not defined",
     "output_type": "error",
     "traceback": [
      "\u001b[0;31m---------------------------------------------------------------------------\u001b[0m",
      "\u001b[0;31mNameError\u001b[0m                                 Traceback (most recent call last)",
      "\u001b[0;32m<ipython-input-1-c24868bc9eb7>\u001b[0m in \u001b[0;36m<module>\u001b[0;34m\u001b[0m\n\u001b[0;32m----> 1\u001b[0;31m \u001b[0mstate\u001b[0m \u001b[0;34m=\u001b[0m \u001b[0menv_1\u001b[0m\u001b[0;34m.\u001b[0m\u001b[0mreset\u001b[0m\u001b[0;34m(\u001b[0m\u001b[0;34m)\u001b[0m\u001b[0;34m\u001b[0m\u001b[0;34m\u001b[0m\u001b[0m\n\u001b[0m\u001b[1;32m      2\u001b[0m \u001b[0mcount\u001b[0m \u001b[0;34m=\u001b[0m \u001b[0;36m0\u001b[0m\u001b[0;34m\u001b[0m\u001b[0;34m\u001b[0m\u001b[0m\n\u001b[1;32m      3\u001b[0m \u001b[0;32mwhile\u001b[0m \u001b[0;32mTrue\u001b[0m\u001b[0;34m:\u001b[0m\u001b[0;34m\u001b[0m\u001b[0;34m\u001b[0m\u001b[0m\n\u001b[1;32m      4\u001b[0m     \u001b[0mcount\u001b[0m \u001b[0;34m+=\u001b[0m \u001b[0;36m1\u001b[0m\u001b[0;34m\u001b[0m\u001b[0;34m\u001b[0m\u001b[0m\n\u001b[1;32m      5\u001b[0m     \u001b[0maction\u001b[0m \u001b[0;34m=\u001b[0m \u001b[0;36m1\u001b[0m\u001b[0;34m\u001b[0m\u001b[0;34m\u001b[0m\u001b[0m\n",
      "\u001b[0;31mNameError\u001b[0m: name 'env_1' is not defined"
     ]
    }
   ],
   "source": [
    "state = env_1.reset()\n",
    "count = 0\n",
    "while True:\n",
    "    count += 1\n",
    "    action = 1\n",
    "    if count > 495:\n",
    "        action = 0\n",
    "    state, reward, done, info = env_1.step(action)\n",
    "    print(reward)\n",
    "    if done:\n",
    "        print(\"info: \", info)\n",
    "        break\n",
    "\n",
    "env_1.render_all()"
   ]
  },
  {
   "cell_type": "markdown",
   "id": "7df050ff",
   "metadata": {
    "id": "7df050ff"
   },
   "source": [
    "<h2>Reinforcement Learning Methods:</h2>"
   ]
  },
  {
   "cell_type": "markdown",
   "id": "5c5becd4",
   "metadata": {
    "id": "5c5becd4"
   },
   "source": [
    "<h3>Method 4: Deep Q-Learning (DQN)</h3>"
   ]
  },
  {
   "cell_type": "code",
   "execution_count": 13,
   "id": "d5dfa0ae",
   "metadata": {
    "id": "d5dfa0ae"
   },
   "outputs": [],
   "source": [
    "# Parameters\n",
    "gamma = 0.99\n",
    "actsize = env_1.action_space.n\n",
    "obssize = env_1.observation_space.low.size"
   ]
  },
  {
   "cell_type": "code",
   "execution_count": 14,
   "id": "3994d96b",
   "metadata": {
    "id": "3994d96b"
   },
   "outputs": [],
   "source": [
    "def model_creator():\n",
    "    model = keras.Sequential()\n",
    "    model.add(layers.Dense(32,activation=\"relu\",  dtype='float64', input_shape=(9,)))\n",
    "    model.add(layers.Dense(128,activation=\"relu\"))\n",
    "    model.add(layers.Dense(128,activation=\"relu\"))\n",
    "    model.add(layers.Dense(actsize,activation=\"linear\"))\n",
    "    return model"
   ]
  },
  {
   "cell_type": "code",
   "execution_count": 15,
   "id": "0b0d9905",
   "metadata": {
    "id": "0b0d9905"
   },
   "outputs": [],
   "source": [
    "batch_size = 10\n",
    "# Model used for selecting actions (principal)\n",
    "model = model_creator()\n",
    "# Then create the target model. This will periodically be copied from the principal network \n",
    "model_target = model_creator()\n",
    "\n",
    "model.build((batch_size,obssize,))\n",
    "model_target.build((batch_size,obssize,))"
   ]
  },
  {
   "cell_type": "markdown",
   "id": "f6cdc499",
   "metadata": {
    "id": "f6cdc499"
   },
   "source": [
    "**Training the Model:**"
   ]
  },
  {
   "cell_type": "code",
   "execution_count": 16,
   "id": "57730d1a",
   "metadata": {
    "id": "57730d1a"
   },
   "outputs": [],
   "source": [
    "# environment for training\n",
    "env_training = gym.make('advanced-stocks-v0', df = STOCKS_GOOGL, window_size = 10, frame_bound = (10, 1000))"
   ]
  },
  {
   "cell_type": "code",
   "execution_count": null,
   "id": "d1820fde",
   "metadata": {
    "id": "d1820fde"
   },
   "outputs": [],
   "source": [
    "#tf.keras.backend.set_floatx('float64')"
   ]
  },
  {
   "cell_type": "code",
   "execution_count": 27,
   "id": "7dc9132e",
   "metadata": {
    "id": "7dc9132e"
   },
   "outputs": [],
   "source": [
    "def train(model, env, epsilon, adpative=True):\n",
    "    optimizer = keras.optimizers.Adam(learning_rate=0.0005)\n",
    "\n",
    "\n",
    "    # Our Experience Replay memory \n",
    "    action_history = []\n",
    "    state_history = []\n",
    "    state_next_history = []\n",
    "    rewards_history = []\n",
    "    done_history = []\n",
    "    running_rewards_history = []\n",
    "\n",
    "    # Replay memory size\n",
    "    max_memory = 100 # You can experiment with different sizes.\n",
    "\n",
    "    running_reward = 0\n",
    "    timestep_count = 0\n",
    "\n",
    "    update_after_actions = 4\n",
    "\n",
    "    # How often to update the target network\n",
    "    target_update_every = 50\n",
    "    loss_function = keras.losses.MeanSquaredError()\n",
    "\n",
    "    #epsilon = 1\n",
    "    #adpative = True\n",
    "\n",
    "    state = env_training.reset()\n",
    "    while True:\n",
    "        timestep_count += 1\n",
    "\n",
    "        # adpative epsilon decay\n",
    "        if adpative:\n",
    "            epsilon = np.exp(-1e-2 * timestep_count)\n",
    "\n",
    "        # exploration\n",
    "        rand = np.random.uniform(0, 1)\n",
    "        if rand < epsilon:\n",
    "            # Take random action\n",
    "            action = np.random.choice(actsize)\n",
    "        else:\n",
    "            # Predict action Q-values\n",
    "            # From environment state\n",
    "            state_t = tf.convert_to_tensor(state)\n",
    "            state_t = tf.expand_dims(state_t, 0)\n",
    "            action_vals = model(state_t, training=False)\n",
    "            # Choose the best action\n",
    "            action = int(tf.keras.backend.argmax(action_vals))\n",
    "\n",
    "        state_next, reward, done, info = env_training.step(action)\n",
    "        #state_next = state_next[0]\n",
    "\n",
    "\n",
    "        # Save action/states and other information in replay buffer\n",
    "        action_history.append(action)\n",
    "        state_history.append(state)\n",
    "        state_next_history.append(state_next)\n",
    "        rewards_history.append(reward)\n",
    "        done_history.append(done)\n",
    "        running_rewards_history.append(info['total_reward'])\n",
    "\n",
    "        running_reward = info['total_reward']\n",
    "\n",
    "        state = state_next\n",
    "\n",
    "        # Update every Xth frame to speed up (optional)\n",
    "        # and if you have sufficient history\n",
    "        if timestep_count % update_after_actions == 0 and len(action_history) > batch_size:\n",
    "            # Sample a set of batch_size memories from the history\n",
    "            rand_samples = np.random.randint(0, len(action_history), batch_size)\n",
    "\n",
    "            action_sample = np.array(action_history)[rand_samples]\n",
    "            state_sample = np.array(state_history)[rand_samples]\n",
    "            state_next_sample = np.array(state_next_history)[rand_samples]\n",
    "            rewards_sample = np.array(rewards_history)[rand_samples]\n",
    "            done_sample = np.array(done_history)[rand_samples]\n",
    "\n",
    "            # Create for the sample states the targets (r+gamma * max Q(...)\n",
    "            state_next_sample_t = tf.convert_to_tensor(state_next_sample)\n",
    "            Q_next_state = np.max(model_target.predict(state_next_sample_t), axis=1)   \n",
    "            Q_targets = rewards_sample + gamma * Q_next_state\n",
    "\n",
    "            # What actions are relevant and need updating\n",
    "            relevant_actions = tf.cast(tf.one_hot(action_sample, actsize), tf.float32)\n",
    "\n",
    "            # we will use Gradient tape to do a custom gradient \n",
    "            # in the `with` environment we will record a set of operations\n",
    "            # and then we will take gradients with respect to the trainable parameters\n",
    "            # in the neural network\n",
    "            with tf.GradientTape() as tape:\n",
    "                # Train the model on your action selecting network\n",
    "                state_sample_t = tf.convert_to_tensor(np.asarray(state_sample))\n",
    "                q_values = model(state_sample_t) \n",
    "                #print(q_values, relevant_actions)\n",
    "                # We consider only the relevant actions\n",
    "                Q_of_actions = tf.reduce_sum(tf.multiply(q_values, relevant_actions), axis=1)\n",
    "                # Calculate loss between principal network and target network\n",
    "                loss = loss_function(Q_targets, Q_of_actions)\n",
    "\n",
    "                # Nudge the weights of the trainable variables towards \n",
    "                grads = tape.gradient(loss, model.trainable_variables)\n",
    "                optimizer.apply_gradients(zip(grads, model.trainable_variables))\n",
    "\n",
    "        if timestep_count % target_update_every == 0:\n",
    "            # update the the target network with new weights\n",
    "            model_target.set_weights(model.get_weights())\n",
    "            # Log details\n",
    "            template = \"running reward: {:.2f} at episode {}, info: {} epsilon {}\"\n",
    "            print(template.format(running_reward, timestep_count, info, epsilon))\n",
    "\n",
    "        # Don't let the memory grow beyond the limit\n",
    "        if len(rewards_history) > max_memory:\n",
    "            del action_history[:1]\n",
    "            del state_history[:1]\n",
    "            del state_next_history[:1]\n",
    "            del rewards_history[:1]\n",
    "            del done_history[:1]\n",
    "\n",
    "        if done:\n",
    "            print(\"info: \", info)\n",
    "            break\n",
    "\n",
    "    env_training.render_all()"
   ]
  },
  {
   "cell_type": "code",
   "execution_count": 28,
   "id": "321ea504",
   "metadata": {
    "colab": {
     "base_uri": "https://localhost:8080/",
     "height": 641
    },
    "id": "321ea504",
    "outputId": "244a2a9a-0f0f-43ed-e040-267cb2920d55"
   },
   "outputs": [
    {
     "name": "stdout",
     "output_type": "stream",
     "text": [
      "running reward: 0.81 at episode 50, info: {'total_reward': 0.8109241445293468, 'total_profit': 0.748064567274987, 'position': 1} epsilon 0.6065306597126334\n",
      "running reward: 0.86 at episode 100, info: {'total_reward': 0.8557610114756758, 'total_profit': 0.6967589022682289, 'position': 0} epsilon 0.36787944117144233\n",
      "running reward: 0.86 at episode 150, info: {'total_reward': 0.8571737684213022, 'total_profit': 0.6523102183895736, 'position': 0} epsilon 0.22313016014842982\n",
      "running reward: 0.79 at episode 200, info: {'total_reward': 0.7854614456154292, 'total_profit': 0.550303914884938, 'position': 1} epsilon 0.1353352832366127\n",
      "running reward: 0.69 at episode 250, info: {'total_reward': 0.6894478690833571, 'total_profit': 0.42520320912026244, 'position': 1} epsilon 0.0820849986238988\n",
      "running reward: 0.65 at episode 300, info: {'total_reward': 0.6481192150056883, 'total_profit': 0.3760908033145645, 'position': 1} epsilon 0.049787068367863944\n",
      "running reward: 0.65 at episode 350, info: {'total_reward': 0.6489927018247811, 'total_profit': 0.37351787437353445, 'position': 1} epsilon 0.0301973834223185\n",
      "running reward: 0.65 at episode 400, info: {'total_reward': 0.6488828212541603, 'total_profit': 0.3300965688713824, 'position': 1} epsilon 0.01831563888873418\n",
      "running reward: 0.61 at episode 450, info: {'total_reward': 0.6145601043784981, 'total_profit': 0.3307211854872767, 'position': 1} epsilon 0.011108996538242306\n",
      "running reward: 0.59 at episode 500, info: {'total_reward': 0.5931529029444862, 'total_profit': 0.2591491776255594, 'position': 0} epsilon 0.006737946999085467\n",
      "running reward: 0.42 at episode 550, info: {'total_reward': 0.41688484316394686, 'total_profit': 0.18692213358265067, 'position': 1} epsilon 0.004086771438464067\n",
      "running reward: 0.45 at episode 600, info: {'total_reward': 0.44810557064738404, 'total_profit': 0.1927582165643693, 'position': 0} epsilon 0.0024787521766663585\n",
      "running reward: 0.54 at episode 650, info: {'total_reward': 0.5361076563268009, 'total_profit': 0.19356842520554252, 'position': 1} epsilon 0.0015034391929775724\n",
      "running reward: 0.49 at episode 700, info: {'total_reward': 0.4885636164623165, 'total_profit': 0.1720954740765116, 'position': 1} epsilon 0.0009118819655545162\n",
      "running reward: 0.46 at episode 750, info: {'total_reward': 0.46456691987475524, 'total_profit': 0.1720954740765116, 'position': 1} epsilon 0.0005530843701478336\n",
      "running reward: 0.48 at episode 800, info: {'total_reward': 0.4791410173983249, 'total_profit': 0.17122183328077573, 'position': 1} epsilon 0.00033546262790251185\n",
      "running reward: 0.52 at episode 850, info: {'total_reward': 0.5185105074780966, 'total_profit': 0.17122183328077573, 'position': 1} epsilon 0.00020346836901064417\n",
      "running reward: 0.54 at episode 900, info: {'total_reward': 0.5399000238483536, 'total_profit': 0.17122183328077573, 'position': 1} epsilon 0.00012340980408667956\n",
      "running reward: 0.60 at episode 950, info: {'total_reward': 0.6026584168513178, 'total_profit': 0.17122183328077573, 'position': 1} epsilon 7.48518298877006e-05\n",
      "info:  {'total_reward': 0.654688526033758, 'total_profit': 0.23407563233302056, 'position': 1}\n"
     ]
    },
    {
     "data": {
      "image/png": "[encoded data removed]",
      "text/plain": [
       "<Figure size 432x288 with 1 Axes>"
      ]
     },
     "metadata": {
      "needs_background": "light"
     },
     "output_type": "display_data"
    }
   ],
   "source": [
    "# train on Google stock data from timestep 1 to 1000\n",
    "train(model, env_training, 1, True)\n"
   ]
  },
  {
   "cell_type": "code",
   "execution_count": null,
   "id": "5575fa1c",
   "metadata": {
    "id": "5575fa1c"
   },
   "outputs": [],
   "source": [
    "model.save(\"trained_model\")"
   ]
  },
  {
   "cell_type": "code",
   "execution_count": null,
   "id": "f618ca6a",
   "metadata": {
    "id": "f618ca6a"
   },
   "outputs": [],
   "source": [
    "# plot the running rewards\n",
    "plt.plot(running_rewards_history)\n",
    "plt.title(\"Running rewards during training\")\n",
    "plt.xlabel(\"Episodes\")\n",
    "plt.ylabel(\"Running Reward\")"
   ]
  },
  {
   "cell_type": "code",
   "execution_count": 34,
   "id": "3ff35d9e",
   "metadata": {
    "colab": {
     "base_uri": "https://localhost:8080/",
     "height": 641
    },
    "id": "3ff35d9e",
    "outputId": "31a88117-adcd-414d-ef23-272a8732d747"
   },
   "outputs": [
    {
     "name": "stdout",
     "output_type": "stream",
     "text": [
      "running reward: 1.03 at episode 50, info: {'total_reward': 1.0295136342312967, 'total_profit': 1.0, 'position': 1} epsilon 0\n",
      "running reward: 1.25 at episode 100, info: {'total_reward': 1.2492053984525215, 'total_profit': 1.0, 'position': 1} epsilon 0\n",
      "running reward: 1.39 at episode 150, info: {'total_reward': 1.3898017931194733, 'total_profit': 1.0, 'position': 1} epsilon 0\n",
      "running reward: 1.29 at episode 200, info: {'total_reward': 1.2885797875404856, 'total_profit': 1.0, 'position': 1} epsilon 0\n",
      "running reward: 1.15 at episode 250, info: {'total_reward': 1.1530700098502038, 'total_profit': 1.0, 'position': 1} epsilon 0\n",
      "running reward: 1.12 at episode 300, info: {'total_reward': 1.122712710913056, 'total_profit': 1.0, 'position': 1} epsilon 0\n",
      "running reward: 1.43 at episode 350, info: {'total_reward': 1.430239705159935, 'total_profit': 1.0, 'position': 1} epsilon 0\n",
      "running reward: 1.42 at episode 400, info: {'total_reward': 1.4184482117255999, 'total_profit': 1.0, 'position': 1} epsilon 0\n",
      "running reward: 1.33 at episode 450, info: {'total_reward': 1.3329020055343854, 'total_profit': 1.0, 'position': 1} epsilon 0\n",
      "running reward: 1.22 at episode 500, info: {'total_reward': 1.2152181151717814, 'total_profit': 1.0, 'position': 1} epsilon 0\n",
      "running reward: 1.30 at episode 550, info: {'total_reward': 1.2996776824636882, 'total_profit': 1.0, 'position': 1} epsilon 0\n",
      "running reward: 1.37 at episode 600, info: {'total_reward': 1.3652476223592134, 'total_profit': 1.0, 'position': 1} epsilon 0\n",
      "running reward: 1.55 at episode 650, info: {'total_reward': 1.5451028079021036, 'total_profit': 1.0, 'position': 1} epsilon 0\n",
      "running reward: 1.45 at episode 700, info: {'total_reward': 1.445129285186548, 'total_profit': 1.0, 'position': 1} epsilon 0\n",
      "running reward: 1.37 at episode 750, info: {'total_reward': 1.3741491142980025, 'total_profit': 1.0, 'position': 1} epsilon 0\n",
      "running reward: 1.48 at episode 800, info: {'total_reward': 1.4848735940963806, 'total_profit': 1.0, 'position': 1} epsilon 0\n",
      "running reward: 1.61 at episode 850, info: {'total_reward': 1.6068809241094013, 'total_profit': 1.0, 'position': 1} epsilon 0\n",
      "running reward: 1.67 at episode 900, info: {'total_reward': 1.6731677309061637, 'total_profit': 1.0, 'position': 1} epsilon 0\n",
      "running reward: 1.87 at episode 950, info: {'total_reward': 1.8676580316615148, 'total_profit': 1.0, 'position': 1} epsilon 0\n",
      "info:  {'total_reward': 2.0289010319841734, 'total_profit': 1.9843232556596049, 'position': 1}\n"
     ]
    },
    {
     "data": {
      "image/png": "[encoded data removed]",
      "text/plain": [
       "<Figure size 432x288 with 1 Axes>"
      ]
     },
     "metadata": {
      "needs_background": "light"
     },
     "output_type": "display_data"
    }
   ],
   "source": [
    "# test model results on the next leg of the stock data from time 1000 to 1500\n",
    "train(model, env_1, 0, False)"
   ]
  },
  {
   "cell_type": "markdown",
   "id": "79b1a1ad",
   "metadata": {
    "id": "79b1a1ad"
   },
   "source": [
    "*The reward of the Deep Q Learning function after training for 1000 timesteps is: 186.441452 and the total profit is 1.5480215108859194. The initial money increased by 155%.*"
   ]
  },
  {
   "cell_type": "code",
   "execution_count": null,
   "id": "72ab0674",
   "metadata": {
    "id": "72ab0674"
   },
   "outputs": [],
   "source": []
  }
 ],
 "metadata": {
  "colab": {
   "collapsed_sections": [],
   "include_colab_link": true,
   "name": "RL - Stock Trading - Custom Reward.ipynb",
   "provenance": []
  },
  "kernelspec": {
   "display_name": "Python 3",
   "language": "python",
   "name": "python3"
  },
  "language_info": {
   "codemirror_mode": {
    "name": "ipython",
    "version": 3
   },
   "file_extension": ".py",
   "mimetype": "text/x-python",
   "name": "python",
   "nbconvert_exporter": "python",
   "pygments_lexer": "ipython3",
   "version": "3.7.6"
  }
 },
 "nbformat": 4,
 "nbformat_minor": 5
}
