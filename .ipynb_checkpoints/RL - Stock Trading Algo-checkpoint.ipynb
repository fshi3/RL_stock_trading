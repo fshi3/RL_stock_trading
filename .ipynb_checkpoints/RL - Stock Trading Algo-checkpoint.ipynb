{
 "cells": [
  {
   "cell_type": "markdown",
   "id": "b2bb87f7",
   "metadata": {},
   "source": [
    "**Reinforcement Learning Final Project - Stock Trading Algorithm**\n",
    "<br>\n",
    "Implementation using the \n",
    "\"anytrading\" environment in OpenAIGym\n",
    "<br>\n",
    "https://github.com/AminHP/gym-anytrading"
   ]
  },
  {
   "cell_type": "code",
   "execution_count": 2,
   "id": "3780bdab",
   "metadata": {
    "scrolled": true
   },
   "outputs": [
    {
     "name": "stdout",
     "output_type": "stream",
     "text": [
      "Requirement already satisfied: gym-anytrading in /Users/forestshi/opt/anaconda3/lib/python3.7/site-packages (1.2.0)\n",
      "Requirement already satisfied: numpy>=1.16.4 in /Users/forestshi/opt/anaconda3/lib/python3.7/site-packages (from gym-anytrading) (1.21.5)\n",
      "Requirement already satisfied: gym>=0.12.5 in /Users/forestshi/opt/anaconda3/lib/python3.7/site-packages (from gym-anytrading) (0.21.0)\n",
      "Requirement already satisfied: pandas>=0.24.2 in /Users/forestshi/opt/anaconda3/lib/python3.7/site-packages (from gym-anytrading) (1.0.1)\n",
      "Requirement already satisfied: matplotlib>=3.1.1 in /Users/forestshi/opt/anaconda3/lib/python3.7/site-packages (from gym-anytrading) (3.1.3)\n",
      "Requirement already satisfied: importlib-metadata>=4.8.1 in /Users/forestshi/opt/anaconda3/lib/python3.7/site-packages (from gym>=0.12.5->gym-anytrading) (4.11.3)\n",
      "Requirement already satisfied: cloudpickle>=1.2.0 in /Users/forestshi/opt/anaconda3/lib/python3.7/site-packages (from gym>=0.12.5->gym-anytrading) (2.0.0)\n",
      "Requirement already satisfied: pyparsing!=2.0.4,!=2.1.2,!=2.1.6,>=2.0.1 in /Users/forestshi/opt/anaconda3/lib/python3.7/site-packages (from matplotlib>=3.1.1->gym-anytrading) (3.0.4)\n",
      "Requirement already satisfied: cycler>=0.10 in /Users/forestshi/opt/anaconda3/lib/python3.7/site-packages (from matplotlib>=3.1.1->gym-anytrading) (0.11.0)\n",
      "Requirement already satisfied: python-dateutil>=2.1 in /Users/forestshi/opt/anaconda3/lib/python3.7/site-packages (from matplotlib>=3.1.1->gym-anytrading) (2.8.2)\n",
      "Requirement already satisfied: kiwisolver>=1.0.1 in /Users/forestshi/opt/anaconda3/lib/python3.7/site-packages (from matplotlib>=3.1.1->gym-anytrading) (1.3.2)\n",
      "Requirement already satisfied: pytz>=2017.2 in /Users/forestshi/opt/anaconda3/lib/python3.7/site-packages (from pandas>=0.24.2->gym-anytrading) (2021.3)\n",
      "Requirement already satisfied: typing-extensions>=3.6.4 in /Users/forestshi/opt/anaconda3/lib/python3.7/site-packages (from importlib-metadata>=4.8.1->gym>=0.12.5->gym-anytrading) (4.1.1)\n",
      "Requirement already satisfied: zipp>=0.5 in /Users/forestshi/opt/anaconda3/lib/python3.7/site-packages (from importlib-metadata>=4.8.1->gym>=0.12.5->gym-anytrading) (3.7.0)\n",
      "Requirement already satisfied: six>=1.5 in /Users/forestshi/opt/anaconda3/lib/python3.7/site-packages (from python-dateutil>=2.1->matplotlib>=3.1.1->gym-anytrading) (1.16.0)\n",
      "Note: you may need to restart the kernel to use updated packages.\n"
     ]
    }
   ],
   "source": [
    "pip install gym-anytrading"
   ]
  },
  {
   "cell_type": "code",
   "execution_count": 34,
   "id": "1eeff598",
   "metadata": {},
   "outputs": [],
   "source": [
    "# importing the OpenAIGym Environment for stock trading\n",
    "import gym\n",
    "import gym_anytrading\n",
    "import matplotlib.pyplot as plt\n",
    "\n",
    "env = gym.make('stocks-v0')"
   ]
  },
  {
   "cell_type": "code",
   "execution_count": 26,
   "id": "6cf2e657",
   "metadata": {},
   "outputs": [],
   "source": [
    "from gym_anytrading.datasets import STOCKS_GOOGL\n",
    "\n",
    "custom_env = gym.make('stocks-v0',\n",
    "               df = STOCKS_GOOGL,\n",
    "               window_size = 1,\n",
    "               frame_bound = (1, 500))"
   ]
  },
  {
   "cell_type": "code",
   "execution_count": 27,
   "id": "90715533",
   "metadata": {},
   "outputs": [
    {
     "data": {
      "image/png": "[encoded data removed]",
      "text/plain": [
       "<Figure size 432x288 with 1 Axes>"
      ]
     },
     "metadata": {
      "needs_background": "light"
     },
     "output_type": "display_data"
    }
   ],
   "source": [
    "custom_env.reset()\n",
    "custom_env.render()"
   ]
  },
  {
   "cell_type": "code",
   "execution_count": 29,
   "id": "28637e41",
   "metadata": {},
   "outputs": [
    {
     "data": {
      "text/html": [
       "<div>\n",
       "<style scoped>\n",
       "    .dataframe tbody tr th:only-of-type {\n",
       "        vertical-align: middle;\n",
       "    }\n",
       "\n",
       "    .dataframe tbody tr th {\n",
       "        vertical-align: top;\n",
       "    }\n",
       "\n",
       "    .dataframe thead th {\n",
       "        text-align: right;\n",
       "    }\n",
       "</style>\n",
       "<table border=\"1\" class=\"dataframe\">\n",
       "  <thead>\n",
       "    <tr style=\"text-align: right;\">\n",
       "      <th></th>\n",
       "      <th>Open</th>\n",
       "      <th>High</th>\n",
       "      <th>Low</th>\n",
       "      <th>Close</th>\n",
       "      <th>Adj Close</th>\n",
       "      <th>Volume</th>\n",
       "    </tr>\n",
       "    <tr>\n",
       "      <th>Date</th>\n",
       "      <th></th>\n",
       "      <th></th>\n",
       "      <th></th>\n",
       "      <th></th>\n",
       "      <th></th>\n",
       "      <th></th>\n",
       "    </tr>\n",
       "  </thead>\n",
       "  <tbody>\n",
       "    <tr>\n",
       "      <th>2009-05-22</th>\n",
       "      <td>198.528534</td>\n",
       "      <td>199.524521</td>\n",
       "      <td>196.196198</td>\n",
       "      <td>196.946945</td>\n",
       "      <td>196.946945</td>\n",
       "      <td>3433700</td>\n",
       "    </tr>\n",
       "    <tr>\n",
       "      <th>2009-05-26</th>\n",
       "      <td>196.171173</td>\n",
       "      <td>202.702698</td>\n",
       "      <td>195.195190</td>\n",
       "      <td>202.382385</td>\n",
       "      <td>202.382385</td>\n",
       "      <td>6202700</td>\n",
       "    </tr>\n",
       "    <tr>\n",
       "      <th>2009-05-27</th>\n",
       "      <td>203.023026</td>\n",
       "      <td>206.136139</td>\n",
       "      <td>202.607605</td>\n",
       "      <td>202.982986</td>\n",
       "      <td>202.982986</td>\n",
       "      <td>6062500</td>\n",
       "    </tr>\n",
       "    <tr>\n",
       "      <th>2009-05-28</th>\n",
       "      <td>204.544540</td>\n",
       "      <td>206.016022</td>\n",
       "      <td>202.507507</td>\n",
       "      <td>205.405411</td>\n",
       "      <td>205.405411</td>\n",
       "      <td>5332200</td>\n",
       "    </tr>\n",
       "    <tr>\n",
       "      <th>2009-05-29</th>\n",
       "      <td>206.261261</td>\n",
       "      <td>208.823822</td>\n",
       "      <td>205.555557</td>\n",
       "      <td>208.823822</td>\n",
       "      <td>208.823822</td>\n",
       "      <td>5291100</td>\n",
       "    </tr>\n",
       "    <tr>\n",
       "      <th>...</th>\n",
       "      <td>...</td>\n",
       "      <td>...</td>\n",
       "      <td>...</td>\n",
       "      <td>...</td>\n",
       "      <td>...</td>\n",
       "      <td>...</td>\n",
       "    </tr>\n",
       "    <tr>\n",
       "      <th>2018-08-23</th>\n",
       "      <td>1219.880005</td>\n",
       "      <td>1235.170044</td>\n",
       "      <td>1219.349976</td>\n",
       "      <td>1221.160034</td>\n",
       "      <td>1221.160034</td>\n",
       "      <td>1233300</td>\n",
       "    </tr>\n",
       "    <tr>\n",
       "      <th>2018-08-24</th>\n",
       "      <td>1226.000000</td>\n",
       "      <td>1237.400024</td>\n",
       "      <td>1221.420044</td>\n",
       "      <td>1236.750000</td>\n",
       "      <td>1236.750000</td>\n",
       "      <td>1222700</td>\n",
       "    </tr>\n",
       "    <tr>\n",
       "      <th>2018-08-27</th>\n",
       "      <td>1244.140015</td>\n",
       "      <td>1257.869995</td>\n",
       "      <td>1240.680054</td>\n",
       "      <td>1256.270020</td>\n",
       "      <td>1256.270020</td>\n",
       "      <td>1429000</td>\n",
       "    </tr>\n",
       "    <tr>\n",
       "      <th>2018-08-28</th>\n",
       "      <td>1255.900024</td>\n",
       "      <td>1256.560059</td>\n",
       "      <td>1242.969971</td>\n",
       "      <td>1245.859985</td>\n",
       "      <td>1245.859985</td>\n",
       "      <td>1366500</td>\n",
       "    </tr>\n",
       "    <tr>\n",
       "      <th>2018-08-29</th>\n",
       "      <td>1255.000000</td>\n",
       "      <td>1267.170044</td>\n",
       "      <td>1252.800049</td>\n",
       "      <td>1264.650024</td>\n",
       "      <td>1264.650024</td>\n",
       "      <td>1846300</td>\n",
       "    </tr>\n",
       "  </tbody>\n",
       "</table>\n",
       "<p>2335 rows × 6 columns</p>\n",
       "</div>"
      ],
      "text/plain": [
       "                   Open         High          Low        Close    Adj Close  \\\n",
       "Date                                                                          \n",
       "2009-05-22   198.528534   199.524521   196.196198   196.946945   196.946945   \n",
       "2009-05-26   196.171173   202.702698   195.195190   202.382385   202.382385   \n",
       "2009-05-27   203.023026   206.136139   202.607605   202.982986   202.982986   \n",
       "2009-05-28   204.544540   206.016022   202.507507   205.405411   205.405411   \n",
       "2009-05-29   206.261261   208.823822   205.555557   208.823822   208.823822   \n",
       "...                 ...          ...          ...          ...          ...   \n",
       "2018-08-23  1219.880005  1235.170044  1219.349976  1221.160034  1221.160034   \n",
       "2018-08-24  1226.000000  1237.400024  1221.420044  1236.750000  1236.750000   \n",
       "2018-08-27  1244.140015  1257.869995  1240.680054  1256.270020  1256.270020   \n",
       "2018-08-28  1255.900024  1256.560059  1242.969971  1245.859985  1245.859985   \n",
       "2018-08-29  1255.000000  1267.170044  1252.800049  1264.650024  1264.650024   \n",
       "\n",
       "             Volume  \n",
       "Date                 \n",
       "2009-05-22  3433700  \n",
       "2009-05-26  6202700  \n",
       "2009-05-27  6062500  \n",
       "2009-05-28  5332200  \n",
       "2009-05-29  5291100  \n",
       "...             ...  \n",
       "2018-08-23  1233300  \n",
       "2018-08-24  1222700  \n",
       "2018-08-27  1429000  \n",
       "2018-08-28  1366500  \n",
       "2018-08-29  1846300  \n",
       "\n",
       "[2335 rows x 6 columns]"
      ]
     },
     "execution_count": 29,
     "metadata": {},
     "output_type": "execute_result"
    }
   ],
   "source": [
    "# Google Stock dataset\n",
    "custom_env.df"
   ]
  },
  {
   "cell_type": "markdown",
   "id": "1197aa9f",
   "metadata": {},
   "source": [
    "Max_possible_profit signifies that if the market didn't have trade fees, you could have earned 16.163897982248805 units of currency by starting with 1.0. In other words, your money increased over 1600%."
   ]
  },
  {
   "cell_type": "code",
   "execution_count": 30,
   "id": "b75c3469",
   "metadata": {},
   "outputs": [
    {
     "data": {
      "text/plain": [
       "16.163897982248805"
      ]
     },
     "execution_count": 30,
     "metadata": {},
     "output_type": "execute_result"
    }
   ],
   "source": [
    "custom_env.max_possible_profit()"
   ]
  },
  {
   "cell_type": "code",
   "execution_count": 31,
   "id": "71340fbb",
   "metadata": {},
   "outputs": [
    {
     "name": "stdout",
     "output_type": "stream",
     "text": [
      "Discrete(2)\n"
     ]
    }
   ],
   "source": [
    "print(custom_env.action_space)\n",
    "# 0 for sell and 1 for buying"
   ]
  },
  {
   "cell_type": "code",
   "execution_count": 32,
   "id": "c8ed3866",
   "metadata": {},
   "outputs": [
    {
     "name": "stdout",
     "output_type": "stream",
     "text": [
      "(array([[202.382385,   5.43544 ]]), 0, False, {'total_reward': 0.0, 'total_profit': 1.0, 'position': 1})\n"
     ]
    }
   ],
   "source": [
    "action = 1\n",
    "print(custom_env.step(action))"
   ]
  },
  {
   "cell_type": "code",
   "execution_count": 33,
   "id": "0de3e68f",
   "metadata": {},
   "outputs": [],
   "source": [
    "observation, reward, done, info = custom_env.step(action)"
   ]
  },
  {
   "cell_type": "markdown",
   "id": "5038d11c",
   "metadata": {},
   "source": [
    "**Method 1: Random Buy/Sell**"
   ]
  },
  {
   "cell_type": "code",
   "execution_count": 49,
   "id": "e9a3b397",
   "metadata": {},
   "outputs": [
    {
     "name": "stdout",
     "output_type": "stream",
     "text": [
      "info:  {'total_reward': 40.43054500000028, 'total_profit': 0.20684382916347765, 'position': 1}\n"
     ]
    },
    {
     "data": {
      "image/png": "[encoded data removed]",
      "text/plain": [
       "<Figure size 432x288 with 1 Axes>"
      ]
     },
     "metadata": {
      "needs_background": "light"
     },
     "output_type": "display_data"
    }
   ],
   "source": [
    "env_1 = gym.make('stocks-v0', df = STOCKS_GOOGL, window_size = 1, frame_bound = (1, 500))\n",
    "\n",
    "observation = env_1.reset()\n",
    "while True:\n",
    "    action = env_1.action_space.sample()\n",
    "    observation, reward, done, info = env_1.step(action)\n",
    "    \n",
    "    if done:\n",
    "        print(\"info: \", info)\n",
    "        break\n",
    "\n",
    "env_1.render_all()"
   ]
  },
  {
   "cell_type": "code",
   "execution_count": null,
   "id": "a3ffcbad",
   "metadata": {},
   "outputs": [],
   "source": []
  },
  {
   "cell_type": "code",
   "execution_count": null,
   "id": "48603b37",
   "metadata": {},
   "outputs": [],
   "source": []
  }
 ],
 "metadata": {
  "kernelspec": {
   "display_name": "Python 3",
   "language": "python",
   "name": "python3"
  },
  "language_info": {
   "codemirror_mode": {
    "name": "ipython",
    "version": 3
   },
   "file_extension": ".py",
   "mimetype": "text/x-python",
   "name": "python",
   "nbconvert_exporter": "python",
   "pygments_lexer": "ipython3",
   "version": "3.7.6"
  }
 },
 "nbformat": 4,
 "nbformat_minor": 5
}
