{
 "cells": [
  {
   "cell_type": "markdown",
   "id": "b2bb87f7",
   "metadata": {},
   "source": [
    "<h1>Reinforcement Learning Final Project - Stock Trading Algorithm</h1>\n",
    "    \n",
    "<br>\n",
    "Implementation using the \n",
    "\"anytrading\" environment in OpenAIGym\n",
    "<br>\n",
    "https://github.com/AminHP/gym-anytrading"
   ]
  },
  {
   "cell_type": "code",
   "execution_count": 3,
   "id": "3780bdab",
   "metadata": {
    "scrolled": true
   },
   "outputs": [
    {
     "name": "stdout",
     "output_type": "stream",
     "text": [
      "Requirement already satisfied: gym-anytrading in /Users/forestshi/opt/anaconda3/lib/python3.7/site-packages (1.2.0)\n",
      "Requirement already satisfied: gym>=0.12.5 in /Users/forestshi/opt/anaconda3/lib/python3.7/site-packages (from gym-anytrading) (0.21.0)\n",
      "Requirement already satisfied: matplotlib>=3.1.1 in /Users/forestshi/opt/anaconda3/lib/python3.7/site-packages (from gym-anytrading) (3.1.3)\n",
      "Requirement already satisfied: numpy>=1.16.4 in /Users/forestshi/opt/anaconda3/lib/python3.7/site-packages (from gym-anytrading) (1.21.5)\n",
      "Requirement already satisfied: pandas>=0.24.2 in /Users/forestshi/opt/anaconda3/lib/python3.7/site-packages (from gym-anytrading) (1.0.1)\n",
      "Requirement already satisfied: cloudpickle>=1.2.0 in /Users/forestshi/opt/anaconda3/lib/python3.7/site-packages (from gym>=0.12.5->gym-anytrading) (2.0.0)\n",
      "Requirement already satisfied: importlib-metadata>=4.8.1 in /Users/forestshi/opt/anaconda3/lib/python3.7/site-packages (from gym>=0.12.5->gym-anytrading) (4.11.3)\n",
      "Requirement already satisfied: cycler>=0.10 in /Users/forestshi/opt/anaconda3/lib/python3.7/site-packages (from matplotlib>=3.1.1->gym-anytrading) (0.11.0)\n",
      "Requirement already satisfied: kiwisolver>=1.0.1 in /Users/forestshi/opt/anaconda3/lib/python3.7/site-packages (from matplotlib>=3.1.1->gym-anytrading) (1.3.2)\n",
      "Requirement already satisfied: python-dateutil>=2.1 in /Users/forestshi/opt/anaconda3/lib/python3.7/site-packages (from matplotlib>=3.1.1->gym-anytrading) (2.8.2)\n",
      "Requirement already satisfied: pyparsing!=2.0.4,!=2.1.2,!=2.1.6,>=2.0.1 in /Users/forestshi/opt/anaconda3/lib/python3.7/site-packages (from matplotlib>=3.1.1->gym-anytrading) (3.0.4)\n",
      "Requirement already satisfied: pytz>=2017.2 in /Users/forestshi/opt/anaconda3/lib/python3.7/site-packages (from pandas>=0.24.2->gym-anytrading) (2021.3)\n",
      "Requirement already satisfied: zipp>=0.5 in /Users/forestshi/opt/anaconda3/lib/python3.7/site-packages (from importlib-metadata>=4.8.1->gym>=0.12.5->gym-anytrading) (3.7.0)\n",
      "Requirement already satisfied: typing-extensions>=3.6.4 in /Users/forestshi/opt/anaconda3/lib/python3.7/site-packages (from importlib-metadata>=4.8.1->gym>=0.12.5->gym-anytrading) (4.1.1)\n",
      "Requirement already satisfied: six>=1.5 in /Users/forestshi/opt/anaconda3/lib/python3.7/site-packages (from python-dateutil>=2.1->matplotlib>=3.1.1->gym-anytrading) (1.16.0)\n",
      "Note: you may need to restart the kernel to use updated packages.\n"
     ]
    }
   ],
   "source": [
    "pip install gym-anytrading"
   ]
  },
  {
   "cell_type": "code",
   "execution_count": 4,
   "id": "1eeff598",
   "metadata": {},
   "outputs": [],
   "source": [
    "# importing the OpenAIGym Environment for stock trading\n",
    "import gym\n",
    "import gym_anytrading\n",
    "import matplotlib.pyplot as plt\n",
    "import tensorflow as tf\n",
    "import numpy as np\n",
    "from tensorflow import keras\n",
    "from tensorflow.keras import layers\n",
    "from gym_anytrading.datasets import STOCKS_GOOGL\n",
    "import random\n"
   ]
  },
  {
   "cell_type": "code",
   "execution_count": 5,
   "id": "943245b2",
   "metadata": {},
   "outputs": [
    {
     "data": {
      "text/html": [
       "<div>\n",
       "<style scoped>\n",
       "    .dataframe tbody tr th:only-of-type {\n",
       "        vertical-align: middle;\n",
       "    }\n",
       "\n",
       "    .dataframe tbody tr th {\n",
       "        vertical-align: top;\n",
       "    }\n",
       "\n",
       "    .dataframe thead th {\n",
       "        text-align: right;\n",
       "    }\n",
       "</style>\n",
       "<table border=\"1\" class=\"dataframe\">\n",
       "  <thead>\n",
       "    <tr style=\"text-align: right;\">\n",
       "      <th></th>\n",
       "      <th>Open</th>\n",
       "      <th>High</th>\n",
       "      <th>Low</th>\n",
       "      <th>Close</th>\n",
       "      <th>Adj Close</th>\n",
       "      <th>Volume</th>\n",
       "    </tr>\n",
       "    <tr>\n",
       "      <th>Date</th>\n",
       "      <th></th>\n",
       "      <th></th>\n",
       "      <th></th>\n",
       "      <th></th>\n",
       "      <th></th>\n",
       "      <th></th>\n",
       "    </tr>\n",
       "  </thead>\n",
       "  <tbody>\n",
       "    <tr>\n",
       "      <th>2009-05-22</th>\n",
       "      <td>198.528534</td>\n",
       "      <td>199.524521</td>\n",
       "      <td>196.196198</td>\n",
       "      <td>196.946945</td>\n",
       "      <td>196.946945</td>\n",
       "      <td>3433700</td>\n",
       "    </tr>\n",
       "    <tr>\n",
       "      <th>2009-05-26</th>\n",
       "      <td>196.171173</td>\n",
       "      <td>202.702698</td>\n",
       "      <td>195.195190</td>\n",
       "      <td>202.382385</td>\n",
       "      <td>202.382385</td>\n",
       "      <td>6202700</td>\n",
       "    </tr>\n",
       "    <tr>\n",
       "      <th>2009-05-27</th>\n",
       "      <td>203.023026</td>\n",
       "      <td>206.136139</td>\n",
       "      <td>202.607605</td>\n",
       "      <td>202.982986</td>\n",
       "      <td>202.982986</td>\n",
       "      <td>6062500</td>\n",
       "    </tr>\n",
       "    <tr>\n",
       "      <th>2009-05-28</th>\n",
       "      <td>204.544540</td>\n",
       "      <td>206.016022</td>\n",
       "      <td>202.507507</td>\n",
       "      <td>205.405411</td>\n",
       "      <td>205.405411</td>\n",
       "      <td>5332200</td>\n",
       "    </tr>\n",
       "    <tr>\n",
       "      <th>2009-05-29</th>\n",
       "      <td>206.261261</td>\n",
       "      <td>208.823822</td>\n",
       "      <td>205.555557</td>\n",
       "      <td>208.823822</td>\n",
       "      <td>208.823822</td>\n",
       "      <td>5291100</td>\n",
       "    </tr>\n",
       "    <tr>\n",
       "      <th>...</th>\n",
       "      <td>...</td>\n",
       "      <td>...</td>\n",
       "      <td>...</td>\n",
       "      <td>...</td>\n",
       "      <td>...</td>\n",
       "      <td>...</td>\n",
       "    </tr>\n",
       "    <tr>\n",
       "      <th>2018-08-23</th>\n",
       "      <td>1219.880005</td>\n",
       "      <td>1235.170044</td>\n",
       "      <td>1219.349976</td>\n",
       "      <td>1221.160034</td>\n",
       "      <td>1221.160034</td>\n",
       "      <td>1233300</td>\n",
       "    </tr>\n",
       "    <tr>\n",
       "      <th>2018-08-24</th>\n",
       "      <td>1226.000000</td>\n",
       "      <td>1237.400024</td>\n",
       "      <td>1221.420044</td>\n",
       "      <td>1236.750000</td>\n",
       "      <td>1236.750000</td>\n",
       "      <td>1222700</td>\n",
       "    </tr>\n",
       "    <tr>\n",
       "      <th>2018-08-27</th>\n",
       "      <td>1244.140015</td>\n",
       "      <td>1257.869995</td>\n",
       "      <td>1240.680054</td>\n",
       "      <td>1256.270020</td>\n",
       "      <td>1256.270020</td>\n",
       "      <td>1429000</td>\n",
       "    </tr>\n",
       "    <tr>\n",
       "      <th>2018-08-28</th>\n",
       "      <td>1255.900024</td>\n",
       "      <td>1256.560059</td>\n",
       "      <td>1242.969971</td>\n",
       "      <td>1245.859985</td>\n",
       "      <td>1245.859985</td>\n",
       "      <td>1366500</td>\n",
       "    </tr>\n",
       "    <tr>\n",
       "      <th>2018-08-29</th>\n",
       "      <td>1255.000000</td>\n",
       "      <td>1267.170044</td>\n",
       "      <td>1252.800049</td>\n",
       "      <td>1264.650024</td>\n",
       "      <td>1264.650024</td>\n",
       "      <td>1846300</td>\n",
       "    </tr>\n",
       "  </tbody>\n",
       "</table>\n",
       "<p>2335 rows × 6 columns</p>\n",
       "</div>"
      ],
      "text/plain": [
       "                   Open         High          Low        Close    Adj Close  \\\n",
       "Date                                                                          \n",
       "2009-05-22   198.528534   199.524521   196.196198   196.946945   196.946945   \n",
       "2009-05-26   196.171173   202.702698   195.195190   202.382385   202.382385   \n",
       "2009-05-27   203.023026   206.136139   202.607605   202.982986   202.982986   \n",
       "2009-05-28   204.544540   206.016022   202.507507   205.405411   205.405411   \n",
       "2009-05-29   206.261261   208.823822   205.555557   208.823822   208.823822   \n",
       "...                 ...          ...          ...          ...          ...   \n",
       "2018-08-23  1219.880005  1235.170044  1219.349976  1221.160034  1221.160034   \n",
       "2018-08-24  1226.000000  1237.400024  1221.420044  1236.750000  1236.750000   \n",
       "2018-08-27  1244.140015  1257.869995  1240.680054  1256.270020  1256.270020   \n",
       "2018-08-28  1255.900024  1256.560059  1242.969971  1245.859985  1245.859985   \n",
       "2018-08-29  1255.000000  1267.170044  1252.800049  1264.650024  1264.650024   \n",
       "\n",
       "             Volume  \n",
       "Date                 \n",
       "2009-05-22  3433700  \n",
       "2009-05-26  6202700  \n",
       "2009-05-27  6062500  \n",
       "2009-05-28  5332200  \n",
       "2009-05-29  5291100  \n",
       "...             ...  \n",
       "2018-08-23  1233300  \n",
       "2018-08-24  1222700  \n",
       "2018-08-27  1429000  \n",
       "2018-08-28  1366500  \n",
       "2018-08-29  1846300  \n",
       "\n",
       "[2335 rows x 6 columns]"
      ]
     },
     "execution_count": 5,
     "metadata": {},
     "output_type": "execute_result"
    }
   ],
   "source": [
    "# Google Stock dataset\n",
    "STOCKS_GOOGL"
   ]
  },
  {
   "cell_type": "code",
   "execution_count": 113,
   "id": "6cf2e657",
   "metadata": {},
   "outputs": [],
   "source": [
    "env = gym.make('stocks-v0')\n",
    "env_1 = gym.make('stocks-v0',\n",
    "               df = STOCKS_GOOGL,\n",
    "               window_size = 1,\n",
    "               frame_bound = (1000, 1500))"
   ]
  },
  {
   "cell_type": "code",
   "execution_count": 114,
   "id": "90715533",
   "metadata": {},
   "outputs": [
    {
     "data": {
      "image/png": "[encoded data removed]",
      "text/plain": [
       "<Figure size 432x288 with 1 Axes>"
      ]
     },
     "metadata": {
      "needs_background": "light"
     },
     "output_type": "display_data"
    }
   ],
   "source": [
    "env_1.reset()\n",
    "env_1.render()"
   ]
  },
  {
   "cell_type": "code",
   "execution_count": null,
   "id": "28637e41",
   "metadata": {},
   "outputs": [],
   "source": []
  },
  {
   "cell_type": "markdown",
   "id": "1197aa9f",
   "metadata": {},
   "source": [
    "Max_possible_profit signifies that if the market didn't have trade fees, you could have earned 12.468122338293616 units of currency by starting with 1.0. In other words, your money increased over 1200%."
   ]
  },
  {
   "cell_type": "code",
   "execution_count": 8,
   "id": "b75c3469",
   "metadata": {},
   "outputs": [
    {
     "data": {
      "text/plain": [
       "12.468122338293616"
      ]
     },
     "execution_count": 8,
     "metadata": {},
     "output_type": "execute_result"
    }
   ],
   "source": [
    "env_1.max_possible_profit()"
   ]
  },
  {
   "cell_type": "code",
   "execution_count": 9,
   "id": "71340fbb",
   "metadata": {},
   "outputs": [
    {
     "name": "stdout",
     "output_type": "stream",
     "text": [
      "Discrete(2)\n",
      "20\n"
     ]
    }
   ],
   "source": [
    "print(env_1.action_space)\n",
    "print(env_1.observation_space.low.size)\n",
    "# 0 for sell and 1 for buying"
   ]
  },
  {
   "cell_type": "code",
   "execution_count": 10,
   "id": "c8ed3866",
   "metadata": {},
   "outputs": [
    {
     "name": "stdout",
     "output_type": "stream",
     "text": [
      "(array([[410.625641,  -2.072052],\n",
      "       [415.220215,   4.594574],\n",
      "       [423.283295,   8.06308 ],\n",
      "       [431.206207,   7.922912],\n",
      "       [429.044037,  -2.16217 ],\n",
      "       [437.252258,   8.208221],\n",
      "       [436.176178,  -1.07608 ],\n",
      "       [440.555542,   4.379364],\n",
      "       [439.204193,  -1.351349],\n",
      "       [443.993988,   4.789795]]), 0, False, {'total_reward': 0.0, 'total_profit': 1.0, 'position': 1})\n"
     ]
    }
   ],
   "source": [
    "action = 1\n",
    "print(env_1.step(action))"
   ]
  },
  {
   "cell_type": "code",
   "execution_count": 11,
   "id": "0de3e68f",
   "metadata": {},
   "outputs": [],
   "source": [
    "observation, reward, done, info = env_1.step(action)"
   ]
  },
  {
   "cell_type": "markdown",
   "id": "d1826502",
   "metadata": {},
   "source": [
    "<h2>Random and Heuristic Methods:</h2>"
   ]
  },
  {
   "cell_type": "markdown",
   "id": "c43cb901",
   "metadata": {},
   "source": [
    "<h3>Method 1: Random Buy/Sell</h3>"
   ]
  },
  {
   "cell_type": "code",
   "execution_count": 12,
   "id": "6acba4f4",
   "metadata": {},
   "outputs": [
    {
     "name": "stdout",
     "output_type": "stream",
     "text": [
      "[[412.697693   0.      ]\n",
      " [410.625641  -2.072052]\n",
      " [415.220215   4.594574]\n",
      " [423.283295   8.06308 ]\n",
      " [431.206207   7.922912]\n",
      " [429.044037  -2.16217 ]\n",
      " [437.252258   8.208221]\n",
      " [436.176178  -1.07608 ]\n",
      " [440.555542   4.379364]\n",
      " [439.204193  -1.351349]]\n",
      "info:  {'total_reward': 105.06594700000034, 'total_profit': 0.19011258700896214, 'position': 1}\n"
     ]
    },
    {
     "data": {
      "image/png": "[encoded data removed]",
      "text/plain": [
       "<Figure size 432x288 with 1 Axes>"
      ]
     },
     "metadata": {
      "needs_background": "light"
     },
     "output_type": "display_data"
    }
   ],
   "source": [
    "state = env_1.reset()\n",
    "print(state)\n",
    "while True:\n",
    "    action = env_1.action_space.sample()\n",
    "    state, reward, done, info = env_1.step(action)\n",
    "\n",
    "    if done:\n",
    "        print(\"info: \", info)\n",
    "        break\n",
    "\n",
    "env_1.render_all()"
   ]
  },
  {
   "cell_type": "markdown",
   "id": "309d61fd",
   "metadata": {},
   "source": [
    "<h3>Method 2: Buy low sell high (last ten days moving average)</h3>"
   ]
  },
  {
   "cell_type": "code",
   "execution_count": 13,
   "id": "5b15f637",
   "metadata": {
    "scrolled": true
   },
   "outputs": [
    {
     "name": "stdout",
     "output_type": "stream",
     "text": [
      "info:  {'total_reward': -50.05553899999899, 'total_profit': 0.4721159811550719, 'position': 0}\n"
     ]
    },
    {
     "data": {
      "image/png": "[encoded data removed]",
      "text/plain": [
       "<Figure size 432x288 with 1 Axes>"
      ]
     },
     "metadata": {
      "needs_background": "light"
     },
     "output_type": "display_data"
    }
   ],
   "source": [
    "observation = env_1.reset()\n",
    "\n",
    "last_ten_days = [] # moving average\n",
    "moving_avg = 0\n",
    "while True:\n",
    "    if len(last_ten_days) < 10:\n",
    "        last_ten_days.append(observation[0][0])\n",
    "    else:\n",
    "        last_ten_days.pop(0)\n",
    "        last_ten_days.append(observation[0][0])\n",
    "    moving_avg = sum(last_ten_days) / len(last_ten_days)\n",
    "    \n",
    "    \n",
    "    if observation[0][0] < moving_avg:\n",
    "        action = 1 # buy)\n",
    "    elif observation[0][0] > moving_avg:\n",
    "        action = 0 # sell\n",
    "    \n",
    "    observation, reward, done, info = env_1.step(action)\n",
    "\n",
    "    if done:\n",
    "        print(\"info: \", info)\n",
    "        break\n",
    "\n",
    "env_1.render_all()\n",
    "    "
   ]
  },
  {
   "cell_type": "markdown",
   "id": "f885fa41",
   "metadata": {},
   "source": [
    "<h3>Method 3: Buy and Hold Strategy</h3>\n",
    "<br>\n",
    "Buy the stock at the beginning and hold throughout the period and sell stock at the very end."
   ]
  },
  {
   "cell_type": "code",
   "execution_count": 14,
   "id": "e3b0a9d4",
   "metadata": {},
   "outputs": [
    {
     "name": "stdout",
     "output_type": "stream",
     "text": [
      "info:  {'total_reward': 94.43661499999996, 'total_profit': 1.1879821448544323, 'position': 0}\n"
     ]
    },
    {
     "data": {
      "image/png": "[encoded data removed]",
      "text/plain": [
       "<Figure size 432x288 with 1 Axes>"
      ]
     },
     "metadata": {
      "needs_background": "light"
     },
     "output_type": "display_data"
    }
   ],
   "source": [
    "state = env_1.reset()\n",
    "count = 0\n",
    "while True:\n",
    "    count += 1\n",
    "    action = 1\n",
    "    if count > 495:\n",
    "        action = 0\n",
    "    state, reward, done, info = env_1.step(action)\n",
    "    \n",
    "    if done:\n",
    "        print(\"info: \", info)\n",
    "        break\n",
    "\n",
    "env_1.render_all()"
   ]
  },
  {
   "cell_type": "markdown",
   "id": "7df050ff",
   "metadata": {},
   "source": [
    "<h2>Reinforcement Learning Methods:</h2>"
   ]
  },
  {
   "cell_type": "markdown",
   "id": "5c5becd4",
   "metadata": {},
   "source": [
    "<h3>Method 4: Deep Q-Learning (DQN)</h3>"
   ]
  },
  {
   "cell_type": "code",
   "execution_count": 159,
   "id": "b6f35653",
   "metadata": {},
   "outputs": [],
   "source": [
    "# environment for training\n",
    "env_training = gym.make('stocks-v0', df = STOCKS_GOOGL, window_size = 1, frame_bound = (1, 1000))"
   ]
  },
  {
   "cell_type": "code",
   "execution_count": 160,
   "id": "d5dfa0ae",
   "metadata": {},
   "outputs": [],
   "source": [
    "# Parameters\n",
    "gamma = 0.99\n",
    "actsize = env_training.action_space.n\n",
    "obssize = int(env_training.observation_space.low.size/2) # divide by two to get rid of the price diff as obs"
   ]
  },
  {
   "cell_type": "code",
   "execution_count": 161,
   "id": "3994d96b",
   "metadata": {},
   "outputs": [],
   "source": [
    "def model_creator():\n",
    "    model = keras.Sequential()\n",
    "    model.add(layers.Dense(32,activation=\"relu\"))\n",
    "    model.add(layers.Dense(128,activation=\"relu\"))\n",
    "    model.add(layers.Dense(128,activation=\"relu\"))\n",
    "    model.add(layers.Dense(actsize,activation=\"linear\"))\n",
    "    return model"
   ]
  },
  {
   "cell_type": "code",
   "execution_count": 162,
   "id": "0b0d9905",
   "metadata": {},
   "outputs": [
    {
     "name": "stdout",
     "output_type": "stream",
     "text": [
      "Model: \"sequential_14\"\n",
      "_________________________________________________________________\n",
      "Layer (type)                 Output Shape              Param #   \n",
      "=================================================================\n",
      "dense_56 (Dense)             (10, 32)                  64        \n",
      "_________________________________________________________________\n",
      "dense_57 (Dense)             (10, 128)                 4224      \n",
      "_________________________________________________________________\n",
      "dense_58 (Dense)             (10, 128)                 16512     \n",
      "_________________________________________________________________\n",
      "dense_59 (Dense)             (10, 2)                   258       \n",
      "=================================================================\n",
      "Total params: 21,058\n",
      "Trainable params: 21,058\n",
      "Non-trainable params: 0\n",
      "_________________________________________________________________\n"
     ]
    }
   ],
   "source": [
    "batch_size = 10\n",
    "# Model used for selecting actions (principal)\n",
    "model = model_creator()\n",
    "# Then create the target model. This will periodically be copied from the principal network \n",
    "model_target = model_creator()\n",
    "\n",
    "model.build((batch_size,obssize))\n",
    "model_target.build((batch_size,obssize))\n",
    "model.summary()"
   ]
  },
  {
   "cell_type": "markdown",
   "id": "f6cdc499",
   "metadata": {},
   "source": [
    "**Training the Model:**"
   ]
  },
  {
   "cell_type": "code",
   "execution_count": null,
   "id": "57730d1a",
   "metadata": {},
   "outputs": [],
   "source": []
  },
  {
   "cell_type": "code",
   "execution_count": 163,
   "id": "d1820fde",
   "metadata": {},
   "outputs": [],
   "source": [
    "tf.keras.backend.set_floatx('float64')"
   ]
  },
  {
   "cell_type": "code",
   "execution_count": 174,
   "id": "f7b983e6",
   "metadata": {},
   "outputs": [],
   "source": [
    "def vectorize_state(state):\n",
    "    vector = []\n",
    "    for i in range(len(state)):\n",
    "        vector.append(state[i][0])\n",
    "        vector.append(state[i][1])\n",
    "    \n",
    "    return vector"
   ]
  },
  {
   "cell_type": "code",
   "execution_count": 177,
   "id": "7dc9132e",
   "metadata": {},
   "outputs": [],
   "source": [
    "def train(model, env_training, max_epochs, epsilon, adpative):\n",
    "    optimizer = keras.optimizers.Adam(learning_rate=0.0005)\n",
    "\n",
    "    # Our Experience Replay memory \n",
    "    action_history = []\n",
    "    state_history = []\n",
    "    state_next_history = []\n",
    "    rewards_history = []\n",
    "    done_history = []\n",
    "    running_rewards_history = []\n",
    "\n",
    "    # Replay memory size\n",
    "    max_memory = 100 # You can experiment with different sizes.\n",
    "\n",
    "    running_reward = 0\n",
    "    frame_count = 0\n",
    "    \n",
    "    update_after_actions = 4\n",
    "\n",
    "    # How often to update the target network\n",
    "    target_update_every = 50\n",
    "    loss_function = keras.losses.MeanSquaredError()\n",
    "\n",
    "    for epoch in range(max_epochs): \n",
    "        state = env_training.reset()\n",
    "        state = vectorize_state(state)[0]\n",
    "        timestep_count = 0\n",
    "        \n",
    "        # adpative epsilon decay\n",
    "        if adpative:\n",
    "            epsilon = np.exp(-5e-1 * epoch)\n",
    "\n",
    "        while True:\n",
    "            timestep_count += 1\n",
    "            frame_count += 1\n",
    "\n",
    "            # exploration\n",
    "            rand = np.random.uniform(0, 1)\n",
    "            if rand < epsilon:\n",
    "                # Take random action\n",
    "                action = np.random.choice(actsize)\n",
    "            else:\n",
    "                # Predict action Q-values\n",
    "                # From environment state\n",
    "                state_t = tf.convert_to_tensor(state)\n",
    "                state_t = tf.expand_dims(state_t, 0)\n",
    "                action_vals = model(state_t, training=False)\n",
    "\n",
    "                # Choose the best action\n",
    "                action = int(tf.keras.backend.argmax(action_vals))\n",
    "\n",
    "            state_next, reward, done, info = env_training.step(action)\n",
    "            state_next = vectorize_state(state_next)[0]\n",
    "\n",
    "            # Save action/states and other information in replay buffer\n",
    "            action_history.append(action)\n",
    "            state_history.append(state)\n",
    "            state_next_history.append(state_next)\n",
    "            rewards_history.append(reward)\n",
    "            done_history.append(done)\n",
    "            running_rewards_history.append(info['total_reward'])\n",
    "\n",
    "            running_reward = info['total_reward']\n",
    "\n",
    "            state = state_next\n",
    "\n",
    "            # Update every Xth frame to speed up (optional)\n",
    "            # and if you have sufficient history\n",
    "            if timestep_count % update_after_actions == 0 and len(action_history) > batch_size:\n",
    "                # Sample a set of batch_size memories from the history\n",
    "                rand_samples = np.random.randint(0, len(action_history), batch_size)\n",
    "\n",
    "                action_sample = np.array(action_history)[rand_samples]\n",
    "                state_sample = np.array(state_history)[rand_samples]\n",
    "                state_next_sample = np.array(state_next_history)[rand_samples]\n",
    "                rewards_sample = np.array(rewards_history)[rand_samples]\n",
    "                done_sample = np.array(done_history)[rand_samples]\n",
    "\n",
    "                # Create for the sample states the targets (r+gamma * max Q(...)\n",
    "                state_next_sample_t = tf.convert_to_tensor(state_next_sample)\n",
    "                Q_next_state = np.max(model_target.predict(state_next_sample_t), axis=1)   \n",
    "                Q_targets = rewards_sample + gamma * Q_next_state\n",
    "\n",
    "                # What actions are relevant and need updating\n",
    "                relevant_actions = tf.cast(tf.one_hot(action_sample, actsize), tf.double)\n",
    "\n",
    "                # we will use Gradient tape to do a custom gradient \n",
    "                # in the `with` environment we will record a set of operations\n",
    "                # and then we will take gradients with respect to the trainable parameters\n",
    "                # in the neural network\n",
    "                with tf.GradientTape() as tape:\n",
    "                    # Train the model on your action selecting network\n",
    "                    q_values = model(state_sample) \n",
    "                    # We consider only the relevant actions\n",
    "                    Q_of_actions = tf.reduce_sum(tf.multiply(q_values, relevant_actions), axis=1)\n",
    "                    # Calculate loss between principal network and target network\n",
    "                    loss = loss_function(Q_targets, Q_of_actions)\n",
    "\n",
    "                    # Nudge the weights of the trainable variables towards \n",
    "                    grads = tape.gradient(loss, model.trainable_variables)\n",
    "                    optimizer.apply_gradients(zip(grads, model.trainable_variables))\n",
    "\n",
    "            if timestep_count % target_update_every == 0:\n",
    "                # update the the target network with new weights\n",
    "                model_target.set_weights(model.get_weights())\n",
    "                # Log details\n",
    "                #template = \"running reward: {:.2f} at episode {}, total profit: {} epsilon {}\"\n",
    "                #print(template.format(running_reward, timestep_count, info[\"total_profit\"], epsilon))\n",
    "\n",
    "            # Don't let the memory grow beyond the limit\n",
    "            if len(rewards_history) > max_memory:\n",
    "                del action_history[:1]\n",
    "                del state_history[:1]\n",
    "                del state_next_history[:1]\n",
    "                del rewards_history[:1]\n",
    "                del done_history[:1]\n",
    "\n",
    "            if done:\n",
    "                #print(\"info: \", info)\n",
    "                # Log details\n",
    "                template = \"running reward: {:.2f} at episode {}, frame {}, total profit: {} epsilon {}\"\n",
    "                print(template.format(running_reward, epoch, frame_count, info[\"total_profit\"], epsilon))\n",
    "                break\n",
    "\n",
    "    env_training.render_all()\n",
    "    \n",
    "    return running_rewards_history"
   ]
  },
  {
   "cell_type": "code",
   "execution_count": 178,
   "id": "321ea504",
   "metadata": {},
   "outputs": [
    {
     "name": "stdout",
     "output_type": "stream",
     "text": [
      "running reward: 84.17 at episode 0, frame 998, total profit: 0.035165427638030815 epsilon 1.0\n",
      "running reward: 69.64 at episode 1, frame 1996, total profit: 0.04896131028757158 epsilon 0.6065306597126334\n",
      "running reward: 137.21 at episode 2, frame 2994, total profit: 0.16831639391952513 epsilon 0.36787944117144233\n",
      "running reward: 101.73 at episode 3, frame 3992, total profit: 0.2788256498950743 epsilon 0.22313016014842982\n",
      "running reward: 165.76 at episode 4, frame 4990, total profit: 0.6938218219709962 epsilon 0.1353352832366127\n",
      "running reward: 88.70 at episode 5, frame 5988, total profit: 0.6611986367996096 epsilon 0.0820849986238988\n",
      "running reward: 119.06 at episode 6, frame 6986, total profit: 1.0794793608592614 epsilon 0.049787068367863944\n",
      "running reward: 211.82 at episode 7, frame 7984, total profit: 1.410915678139662 epsilon 0.0301973834223185\n",
      "running reward: 144.55 at episode 8, frame 8982, total profit: 1.276370106523638 epsilon 0.01831563888873418\n",
      "running reward: 95.02 at episode 9, frame 9980, total profit: 1.046032695377258 epsilon 0.011108996538242306\n",
      "running reward: 116.79 at episode 10, frame 10978, total profit: 1.4577441708885945 epsilon 0.006737946999085467\n",
      "running reward: 190.25 at episode 11, frame 11976, total profit: 1.6689251309556885 epsilon 0.004086771438464067\n",
      "running reward: 187.05 at episode 12, frame 12974, total profit: 1.614571185592271 epsilon 0.0024787521766663585\n",
      "running reward: 13.61 at episode 13, frame 13972, total profit: 2.022501055728401 epsilon 0.0015034391929775724\n",
      "running reward: 143.79 at episode 14, frame 14970, total profit: 1.9274976646416246 epsilon 0.0009118819655545162\n",
      "running reward: 0.46 at episode 15, frame 15968, total profit: 1.0785044730685476 epsilon 0.0005530843701478336\n",
      "running reward: 150.15 at episode 16, frame 16966, total profit: 2.5449400643776676 epsilon 0.00033546262790251185\n",
      "running reward: 40.24 at episode 17, frame 17964, total profit: 1.7412624809020727 epsilon 0.00020346836901064417\n",
      "running reward: 33.58 at episode 18, frame 18962, total profit: 1.1056660839007781 epsilon 0.00012340980408667956\n",
      "running reward: 93.35 at episode 19, frame 19960, total profit: 1.8236336103255562 epsilon 7.48518298877006e-05\n"
     ]
    },
    {
     "data": {
      "image/png": "[encoded data removed]",
      "text/plain": [
       "<Figure size 432x288 with 1 Axes>"
      ]
     },
     "metadata": {
      "needs_background": "light"
     },
     "output_type": "display_data"
    }
   ],
   "source": [
    "# train on Google stock data from timestep 1 to 1000\n",
    "running_rewards_history = train(model, env_training, 20, 1, True)\n"
   ]
  },
  {
   "cell_type": "code",
   "execution_count": 179,
   "id": "5575fa1c",
   "metadata": {},
   "outputs": [
    {
     "name": "stdout",
     "output_type": "stream",
     "text": [
      "INFO:tensorflow:Assets written to: trained_model/assets\n"
     ]
    }
   ],
   "source": [
    "model.save(\"trained_model\")"
   ]
  },
  {
   "cell_type": "code",
   "execution_count": 180,
   "id": "f618ca6a",
   "metadata": {},
   "outputs": [
    {
     "data": {
      "text/plain": [
       "Text(0, 0.5, 'Running Reward')"
      ]
     },
     "execution_count": 180,
     "metadata": {},
     "output_type": "execute_result"
    },
    {
     "data": {
      "image/png": "[encoded data removed]",
      "text/plain": [
       "<Figure size 432x288 with 1 Axes>"
      ]
     },
     "metadata": {
      "needs_background": "light"
     },
     "output_type": "display_data"
    }
   ],
   "source": [
    "# plot the running rewards\n",
    "plt.plot(running_rewards_history)\n",
    "plt.title(\"Running rewards during training\")\n",
    "plt.xlabel(\"Episodes\")\n",
    "plt.ylabel(\"Running Reward\")"
   ]
  },
  {
   "cell_type": "code",
   "execution_count": null,
   "id": "3ff35d9e",
   "metadata": {},
   "outputs": [],
   "source": [
    "# test model results on the next leg of the stock data from time 1000 to 1500\n",
    "_ = train(model, env_training, 1, 0.1, False)"
   ]
  },
  {
   "cell_type": "markdown",
   "id": "79b1a1ad",
   "metadata": {},
   "source": [
    "*The reward of the Deep Q Learning function after training for 1000 timesteps is: 186.441452 and the total profit is 1.5480215108859194. The initial money increased by 155%.*"
   ]
  },
  {
   "cell_type": "code",
   "execution_count": null,
   "id": "72ab0674",
   "metadata": {},
   "outputs": [],
   "source": []
  }
 ],
 "metadata": {
  "kernelspec": {
   "display_name": "Python 3",
   "language": "python",
   "name": "python3"
  },
  "language_info": {
   "codemirror_mode": {
    "name": "ipython",
    "version": 3
   },
   "file_extension": ".py",
   "mimetype": "text/x-python",
   "name": "python",
   "nbconvert_exporter": "python",
   "pygments_lexer": "ipython3",
   "version": "3.7.6"
  }
 },
 "nbformat": 4,
 "nbformat_minor": 5
}
