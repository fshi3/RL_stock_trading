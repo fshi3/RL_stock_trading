{
  "cells": [
    {
      "cell_type": "markdown",
      "metadata": {
        "id": "view-in-github",
        "colab_type": "text"
      },
      "source": [
        "<a href=\"https://colab.research.google.com/github/fshi3/RL_stock_trading/blob/master/RL_Stock_Trading_Custom_Reward.ipynb\" target=\"_parent\"><img src=\"https://colab.research.google.com/assets/colab-badge.svg\" alt=\"Open In Colab\"/></a>"
      ]
    },
    {
      "cell_type": "markdown",
      "id": "b2bb87f7",
      "metadata": {
        "id": "b2bb87f7"
      },
      "source": [
        "<h1>Reinforcement Learning Final Project - Stock Trading Algorithm</h1>\n",
        "    \n",
        "<br>\n",
        "Implementation using the \n",
        "\"anytrading\" environment in OpenAIGym\n",
        "<br>\n",
        "https://github.com/AminHP/gym-anytrading"
      ]
    },
    {
      "cell_type": "code",
      "execution_count": 1,
      "id": "3780bdab",
      "metadata": {
        "scrolled": true,
        "colab": {
          "base_uri": "https://localhost:8080/"
        },
        "id": "3780bdab",
        "outputId": "ccacd458-48ec-45a7-aad1-7af2f779daa1"
      },
      "outputs": [
        {
          "output_type": "stream",
          "name": "stdout",
          "text": [
            "Collecting gym-anytrading\n",
            "  Downloading gym_anytrading-1.2.0-py3-none-any.whl (171 kB)\n",
            "\u001b[?25l\r\u001b[K     |██                              | 10 kB 16.9 MB/s eta 0:00:01\r\u001b[K     |███▉                            | 20 kB 13.8 MB/s eta 0:00:01\r\u001b[K     |█████▊                          | 30 kB 10.0 MB/s eta 0:00:01\r\u001b[K     |███████▋                        | 40 kB 7.1 MB/s eta 0:00:01\r\u001b[K     |█████████▌                      | 51 kB 6.7 MB/s eta 0:00:01\r\u001b[K     |███████████▌                    | 61 kB 7.8 MB/s eta 0:00:01\r\u001b[K     |█████████████▍                  | 71 kB 7.6 MB/s eta 0:00:01\r\u001b[K     |███████████████▎                | 81 kB 6.8 MB/s eta 0:00:01\r\u001b[K     |█████████████████▏              | 92 kB 7.5 MB/s eta 0:00:01\r\u001b[K     |███████████████████             | 102 kB 7.9 MB/s eta 0:00:01\r\u001b[K     |█████████████████████           | 112 kB 7.9 MB/s eta 0:00:01\r\u001b[K     |███████████████████████         | 122 kB 7.9 MB/s eta 0:00:01\r\u001b[K     |████████████████████████▉       | 133 kB 7.9 MB/s eta 0:00:01\r\u001b[K     |██████████████████████████▊     | 143 kB 7.9 MB/s eta 0:00:01\r\u001b[K     |████████████████████████████▋   | 153 kB 7.9 MB/s eta 0:00:01\r\u001b[K     |██████████████████████████████▌ | 163 kB 7.9 MB/s eta 0:00:01\r\u001b[K     |████████████████████████████████| 171 kB 7.9 MB/s \n",
            "\u001b[?25hRequirement already satisfied: matplotlib>=3.1.1 in /usr/local/lib/python3.7/dist-packages (from gym-anytrading) (3.2.2)\n",
            "Requirement already satisfied: gym>=0.12.5 in /usr/local/lib/python3.7/dist-packages (from gym-anytrading) (0.17.3)\n",
            "Requirement already satisfied: numpy>=1.16.4 in /usr/local/lib/python3.7/dist-packages (from gym-anytrading) (1.21.6)\n",
            "Requirement already satisfied: pandas>=0.24.2 in /usr/local/lib/python3.7/dist-packages (from gym-anytrading) (1.3.5)\n",
            "Requirement already satisfied: pyglet<=1.5.0,>=1.4.0 in /usr/local/lib/python3.7/dist-packages (from gym>=0.12.5->gym-anytrading) (1.5.0)\n",
            "Requirement already satisfied: cloudpickle<1.7.0,>=1.2.0 in /usr/local/lib/python3.7/dist-packages (from gym>=0.12.5->gym-anytrading) (1.3.0)\n",
            "Requirement already satisfied: scipy in /usr/local/lib/python3.7/dist-packages (from gym>=0.12.5->gym-anytrading) (1.4.1)\n",
            "Requirement already satisfied: cycler>=0.10 in /usr/local/lib/python3.7/dist-packages (from matplotlib>=3.1.1->gym-anytrading) (0.11.0)\n",
            "Requirement already satisfied: kiwisolver>=1.0.1 in /usr/local/lib/python3.7/dist-packages (from matplotlib>=3.1.1->gym-anytrading) (1.4.2)\n",
            "Requirement already satisfied: pyparsing!=2.0.4,!=2.1.2,!=2.1.6,>=2.0.1 in /usr/local/lib/python3.7/dist-packages (from matplotlib>=3.1.1->gym-anytrading) (3.0.8)\n",
            "Requirement already satisfied: python-dateutil>=2.1 in /usr/local/lib/python3.7/dist-packages (from matplotlib>=3.1.1->gym-anytrading) (2.8.2)\n",
            "Requirement already satisfied: typing-extensions in /usr/local/lib/python3.7/dist-packages (from kiwisolver>=1.0.1->matplotlib>=3.1.1->gym-anytrading) (4.2.0)\n",
            "Requirement already satisfied: pytz>=2017.3 in /usr/local/lib/python3.7/dist-packages (from pandas>=0.24.2->gym-anytrading) (2022.1)\n",
            "Requirement already satisfied: future in /usr/local/lib/python3.7/dist-packages (from pyglet<=1.5.0,>=1.4.0->gym>=0.12.5->gym-anytrading) (0.16.0)\n",
            "Requirement already satisfied: six>=1.5 in /usr/local/lib/python3.7/dist-packages (from python-dateutil>=2.1->matplotlib>=3.1.1->gym-anytrading) (1.15.0)\n",
            "Installing collected packages: gym-anytrading\n",
            "Successfully installed gym-anytrading-1.2.0\n"
          ]
        }
      ],
      "source": [
        "pip install gym-anytrading"
      ]
    },
    {
      "cell_type": "code",
      "execution_count": 2,
      "id": "1eeff598",
      "metadata": {
        "id": "1eeff598"
      },
      "outputs": [],
      "source": [
        "# importing the OpenAIGym Environment for stock trading\n",
        "import gym\n",
        "import gym_anytrading\n",
        "from gym_anytrading.envs import Positions, Actions, StocksEnv\n",
        "import matplotlib.pyplot as plt\n",
        "import tensorflow as tf\n",
        "import numpy as np\n",
        "from tensorflow import keras\n",
        "from tensorflow.keras import layers\n",
        "from gym_anytrading.datasets import STOCKS_GOOGL\n",
        "from gym.envs.registration import register\n",
        "import random\n",
        "from copy import deepcopy\n"
      ]
    },
    {
      "cell_type": "code",
      "source": [
        "class AdvancedEnv(StocksEnv):\n",
        "\n",
        "  def __init__(self, df, window_size, frame_bound):\n",
        "      super().__init__(df, window_size, frame_bound)\n",
        "      self.trade_fee_bid_percent = 0  # unit\n",
        "      self.trade_fee_ask_percent = 0  # unit\n",
        "\n",
        "  def reset(self):\n",
        "    obs = super().reset()\n",
        "    self._total_reward = 1\n",
        "    return obs\n",
        "\n",
        "  def _update_mdd():\n",
        "    pass\n",
        "\n",
        "  def update_sharpe():\n",
        "    pass\n",
        "\n",
        "  def _get_observation(self):\n",
        "      obs = self.signal_features[(self._current_tick-self.window_size):self._current_tick]\n",
        "      obs = np.array(obs)\n",
        "      prices = obs[1:, 1]\n",
        "      changes = obs[:-1, 0]\n",
        "      opt = prices/changes\n",
        "      return opt\n",
        "\n",
        "  def step(self, action):\n",
        "    self._done = False\n",
        "    self._current_tick += 1\n",
        "\n",
        "    if self._current_tick == self._end_tick:\n",
        "            self._done = True\n",
        "\n",
        "    step_reward = self._calculate_reward(action)\n",
        "    self._total_reward *= (1+step_reward)\n",
        "\n",
        "    self._update_profit(action)\n",
        "\n",
        "    trade = False\n",
        "    if ((action == Actions.Buy.value and self._position == Positions.Short) or\n",
        "            (action == Actions.Sell.value and self._position == Positions.Long)):\n",
        "            trade = True\n",
        "    if trade:\n",
        "        self._position = self._position.opposite()\n",
        "        self._last_trade_tick = self._current_tick\n",
        "\n",
        "    self._position_history.append(self._position)\n",
        "    observation = self._get_observation()\n",
        "    info = dict(\n",
        "            total_reward = self._total_reward,\n",
        "            total_profit = self._total_profit,\n",
        "            position = self._position.value\n",
        "    )\n",
        "    self._update_history(info)\n",
        "\n",
        "    return observation, step_reward, self._done, info\n",
        "    \n",
        "  def _calculate_reward(self, action):\n",
        "        \n",
        "        current_price = self.prices[self._current_tick]\n",
        "        last_price = self.prices[self._current_tick-1]\n",
        "    \n",
        "        percent_diff = (current_price-last_price)/last_price\n",
        "        \n",
        "        if self._position == Positions.Short:\n",
        "            return float(-percent_diff)\n",
        "        else:\n",
        "            return float(percent_diff)\n",
        "            \n",
        "        "
      ],
      "metadata": {
        "id": "n1QJRRCWQHvk"
      },
      "id": "n1QJRRCWQHvk",
      "execution_count": 3,
      "outputs": []
    },
    {
      "cell_type": "code",
      "source": [
        "register(\n",
        "    id='advanced-stocks-v0',\n",
        "    entry_point=AdvancedEnv,\n",
        "    kwargs={\n",
        "        'df': deepcopy(STOCKS_GOOGL),\n",
        "        'window_size': 30,\n",
        "        'frame_bound': (30, len(STOCKS_GOOGL))\n",
        "    }\n",
        ")"
      ],
      "metadata": {
        "id": "AfNIwFA5QJ7i"
      },
      "id": "AfNIwFA5QJ7i",
      "execution_count": 4,
      "outputs": []
    },
    {
      "cell_type": "code",
      "execution_count": 5,
      "id": "943245b2",
      "metadata": {
        "colab": {
          "base_uri": "https://localhost:8080/",
          "height": 455
        },
        "id": "943245b2",
        "outputId": "b037ce54-327a-462d-f633-e44771c6143d"
      },
      "outputs": [
        {
          "output_type": "execute_result",
          "data": {
            "text/plain": [
              "                   Open         High          Low        Close    Adj Close  \\\n",
              "Date                                                                          \n",
              "2009-05-22   198.528534   199.524521   196.196198   196.946945   196.946945   \n",
              "2009-05-26   196.171173   202.702698   195.195190   202.382385   202.382385   \n",
              "2009-05-27   203.023026   206.136139   202.607605   202.982986   202.982986   \n",
              "2009-05-28   204.544540   206.016022   202.507507   205.405411   205.405411   \n",
              "2009-05-29   206.261261   208.823822   205.555557   208.823822   208.823822   \n",
              "...                 ...          ...          ...          ...          ...   \n",
              "2018-08-23  1219.880005  1235.170044  1219.349976  1221.160034  1221.160034   \n",
              "2018-08-24  1226.000000  1237.400024  1221.420044  1236.750000  1236.750000   \n",
              "2018-08-27  1244.140015  1257.869995  1240.680054  1256.270020  1256.270020   \n",
              "2018-08-28  1255.900024  1256.560059  1242.969971  1245.859985  1245.859985   \n",
              "2018-08-29  1255.000000  1267.170044  1252.800049  1264.650024  1264.650024   \n",
              "\n",
              "             Volume  \n",
              "Date                 \n",
              "2009-05-22  3433700  \n",
              "2009-05-26  6202700  \n",
              "2009-05-27  6062500  \n",
              "2009-05-28  5332200  \n",
              "2009-05-29  5291100  \n",
              "...             ...  \n",
              "2018-08-23  1233300  \n",
              "2018-08-24  1222700  \n",
              "2018-08-27  1429000  \n",
              "2018-08-28  1366500  \n",
              "2018-08-29  1846300  \n",
              "\n",
              "[2335 rows x 6 columns]"
            ],
            "text/html": [
              "\n",
              "  <div id=\"df-8ed80552-134a-4b1c-987d-8112c8eee672\">\n",
              "    <div class=\"colab-df-container\">\n",
              "      <div>\n",
              "<style scoped>\n",
              "    .dataframe tbody tr th:only-of-type {\n",
              "        vertical-align: middle;\n",
              "    }\n",
              "\n",
              "    .dataframe tbody tr th {\n",
              "        vertical-align: top;\n",
              "    }\n",
              "\n",
              "    .dataframe thead th {\n",
              "        text-align: right;\n",
              "    }\n",
              "</style>\n",
              "<table border=\"1\" class=\"dataframe\">\n",
              "  <thead>\n",
              "    <tr style=\"text-align: right;\">\n",
              "      <th></th>\n",
              "      <th>Open</th>\n",
              "      <th>High</th>\n",
              "      <th>Low</th>\n",
              "      <th>Close</th>\n",
              "      <th>Adj Close</th>\n",
              "      <th>Volume</th>\n",
              "    </tr>\n",
              "    <tr>\n",
              "      <th>Date</th>\n",
              "      <th></th>\n",
              "      <th></th>\n",
              "      <th></th>\n",
              "      <th></th>\n",
              "      <th></th>\n",
              "      <th></th>\n",
              "    </tr>\n",
              "  </thead>\n",
              "  <tbody>\n",
              "    <tr>\n",
              "      <th>2009-05-22</th>\n",
              "      <td>198.528534</td>\n",
              "      <td>199.524521</td>\n",
              "      <td>196.196198</td>\n",
              "      <td>196.946945</td>\n",
              "      <td>196.946945</td>\n",
              "      <td>3433700</td>\n",
              "    </tr>\n",
              "    <tr>\n",
              "      <th>2009-05-26</th>\n",
              "      <td>196.171173</td>\n",
              "      <td>202.702698</td>\n",
              "      <td>195.195190</td>\n",
              "      <td>202.382385</td>\n",
              "      <td>202.382385</td>\n",
              "      <td>6202700</td>\n",
              "    </tr>\n",
              "    <tr>\n",
              "      <th>2009-05-27</th>\n",
              "      <td>203.023026</td>\n",
              "      <td>206.136139</td>\n",
              "      <td>202.607605</td>\n",
              "      <td>202.982986</td>\n",
              "      <td>202.982986</td>\n",
              "      <td>6062500</td>\n",
              "    </tr>\n",
              "    <tr>\n",
              "      <th>2009-05-28</th>\n",
              "      <td>204.544540</td>\n",
              "      <td>206.016022</td>\n",
              "      <td>202.507507</td>\n",
              "      <td>205.405411</td>\n",
              "      <td>205.405411</td>\n",
              "      <td>5332200</td>\n",
              "    </tr>\n",
              "    <tr>\n",
              "      <th>2009-05-29</th>\n",
              "      <td>206.261261</td>\n",
              "      <td>208.823822</td>\n",
              "      <td>205.555557</td>\n",
              "      <td>208.823822</td>\n",
              "      <td>208.823822</td>\n",
              "      <td>5291100</td>\n",
              "    </tr>\n",
              "    <tr>\n",
              "      <th>...</th>\n",
              "      <td>...</td>\n",
              "      <td>...</td>\n",
              "      <td>...</td>\n",
              "      <td>...</td>\n",
              "      <td>...</td>\n",
              "      <td>...</td>\n",
              "    </tr>\n",
              "    <tr>\n",
              "      <th>2018-08-23</th>\n",
              "      <td>1219.880005</td>\n",
              "      <td>1235.170044</td>\n",
              "      <td>1219.349976</td>\n",
              "      <td>1221.160034</td>\n",
              "      <td>1221.160034</td>\n",
              "      <td>1233300</td>\n",
              "    </tr>\n",
              "    <tr>\n",
              "      <th>2018-08-24</th>\n",
              "      <td>1226.000000</td>\n",
              "      <td>1237.400024</td>\n",
              "      <td>1221.420044</td>\n",
              "      <td>1236.750000</td>\n",
              "      <td>1236.750000</td>\n",
              "      <td>1222700</td>\n",
              "    </tr>\n",
              "    <tr>\n",
              "      <th>2018-08-27</th>\n",
              "      <td>1244.140015</td>\n",
              "      <td>1257.869995</td>\n",
              "      <td>1240.680054</td>\n",
              "      <td>1256.270020</td>\n",
              "      <td>1256.270020</td>\n",
              "      <td>1429000</td>\n",
              "    </tr>\n",
              "    <tr>\n",
              "      <th>2018-08-28</th>\n",
              "      <td>1255.900024</td>\n",
              "      <td>1256.560059</td>\n",
              "      <td>1242.969971</td>\n",
              "      <td>1245.859985</td>\n",
              "      <td>1245.859985</td>\n",
              "      <td>1366500</td>\n",
              "    </tr>\n",
              "    <tr>\n",
              "      <th>2018-08-29</th>\n",
              "      <td>1255.000000</td>\n",
              "      <td>1267.170044</td>\n",
              "      <td>1252.800049</td>\n",
              "      <td>1264.650024</td>\n",
              "      <td>1264.650024</td>\n",
              "      <td>1846300</td>\n",
              "    </tr>\n",
              "  </tbody>\n",
              "</table>\n",
              "<p>2335 rows × 6 columns</p>\n",
              "</div>\n",
              "      <button class=\"colab-df-convert\" onclick=\"convertToInteractive('df-8ed80552-134a-4b1c-987d-8112c8eee672')\"\n",
              "              title=\"Convert this dataframe to an interactive table.\"\n",
              "              style=\"display:none;\">\n",
              "        \n",
              "  <svg xmlns=\"http://www.w3.org/2000/svg\" height=\"24px\"viewBox=\"0 0 24 24\"\n",
              "       width=\"24px\">\n",
              "    <path d=\"M0 0h24v24H0V0z\" fill=\"none\"/>\n",
              "    <path d=\"M18.56 5.44l.94 2.06.94-2.06 2.06-.94-2.06-.94-.94-2.06-.94 2.06-2.06.94zm-11 1L8.5 8.5l.94-2.06 2.06-.94-2.06-.94L8.5 2.5l-.94 2.06-2.06.94zm10 10l.94 2.06.94-2.06 2.06-.94-2.06-.94-.94-2.06-.94 2.06-2.06.94z\"/><path d=\"M17.41 7.96l-1.37-1.37c-.4-.4-.92-.59-1.43-.59-.52 0-1.04.2-1.43.59L10.3 9.45l-7.72 7.72c-.78.78-.78 2.05 0 2.83L4 21.41c.39.39.9.59 1.41.59.51 0 1.02-.2 1.41-.59l7.78-7.78 2.81-2.81c.8-.78.8-2.07 0-2.86zM5.41 20L4 18.59l7.72-7.72 1.47 1.35L5.41 20z\"/>\n",
              "  </svg>\n",
              "      </button>\n",
              "      \n",
              "  <style>\n",
              "    .colab-df-container {\n",
              "      display:flex;\n",
              "      flex-wrap:wrap;\n",
              "      gap: 12px;\n",
              "    }\n",
              "\n",
              "    .colab-df-convert {\n",
              "      background-color: #E8F0FE;\n",
              "      border: none;\n",
              "      border-radius: 50%;\n",
              "      cursor: pointer;\n",
              "      display: none;\n",
              "      fill: #1967D2;\n",
              "      height: 32px;\n",
              "      padding: 0 0 0 0;\n",
              "      width: 32px;\n",
              "    }\n",
              "\n",
              "    .colab-df-convert:hover {\n",
              "      background-color: #E2EBFA;\n",
              "      box-shadow: 0px 1px 2px rgba(60, 64, 67, 0.3), 0px 1px 3px 1px rgba(60, 64, 67, 0.15);\n",
              "      fill: #174EA6;\n",
              "    }\n",
              "\n",
              "    [theme=dark] .colab-df-convert {\n",
              "      background-color: #3B4455;\n",
              "      fill: #D2E3FC;\n",
              "    }\n",
              "\n",
              "    [theme=dark] .colab-df-convert:hover {\n",
              "      background-color: #434B5C;\n",
              "      box-shadow: 0px 1px 3px 1px rgba(0, 0, 0, 0.15);\n",
              "      filter: drop-shadow(0px 1px 2px rgba(0, 0, 0, 0.3));\n",
              "      fill: #FFFFFF;\n",
              "    }\n",
              "  </style>\n",
              "\n",
              "      <script>\n",
              "        const buttonEl =\n",
              "          document.querySelector('#df-8ed80552-134a-4b1c-987d-8112c8eee672 button.colab-df-convert');\n",
              "        buttonEl.style.display =\n",
              "          google.colab.kernel.accessAllowed ? 'block' : 'none';\n",
              "\n",
              "        async function convertToInteractive(key) {\n",
              "          const element = document.querySelector('#df-8ed80552-134a-4b1c-987d-8112c8eee672');\n",
              "          const dataTable =\n",
              "            await google.colab.kernel.invokeFunction('convertToInteractive',\n",
              "                                                     [key], {});\n",
              "          if (!dataTable) return;\n",
              "\n",
              "          const docLinkHtml = 'Like what you see? Visit the ' +\n",
              "            '<a target=\"_blank\" href=https://colab.research.google.com/notebooks/data_table.ipynb>data table notebook</a>'\n",
              "            + ' to learn more about interactive tables.';\n",
              "          element.innerHTML = '';\n",
              "          dataTable['output_type'] = 'display_data';\n",
              "          await google.colab.output.renderOutput(dataTable, element);\n",
              "          const docLink = document.createElement('div');\n",
              "          docLink.innerHTML = docLinkHtml;\n",
              "          element.appendChild(docLink);\n",
              "        }\n",
              "      </script>\n",
              "    </div>\n",
              "  </div>\n",
              "  "
            ]
          },
          "metadata": {},
          "execution_count": 5
        }
      ],
      "source": [
        "# Google Stock dataset\n",
        "STOCKS_GOOGL"
      ]
    },
    {
      "cell_type": "code",
      "execution_count": 6,
      "id": "6cf2e657",
      "metadata": {
        "id": "6cf2e657"
      },
      "outputs": [],
      "source": [
        "env = gym.make('advanced-stocks-v0')\n",
        "env_1 = gym.make('advanced-stocks-v0',\n",
        "               df = STOCKS_GOOGL,\n",
        "               window_size = 10,\n",
        "               frame_bound = (1000, 1500))"
      ]
    },
    {
      "cell_type": "code",
      "execution_count": 7,
      "id": "90715533",
      "metadata": {
        "colab": {
          "base_uri": "https://localhost:8080/",
          "height": 294
        },
        "id": "90715533",
        "outputId": "fd836dd0-51aa-45d4-ac82-443675ccaf25"
      },
      "outputs": [
        {
          "output_type": "display_data",
          "data": {
            "text/plain": [
              "<Figure size 432x288 with 1 Axes>"
            ],
            "image/png": "[encoded data removed]"
          },
          "metadata": {
            "needs_background": "light"
          }
        }
      ],
      "source": [
        "env_1.reset()\n",
        "env_1.render()"
      ]
    },
    {
      "cell_type": "code",
      "execution_count": 7,
      "id": "28637e41",
      "metadata": {
        "id": "28637e41"
      },
      "outputs": [],
      "source": [
        ""
      ]
    },
    {
      "cell_type": "markdown",
      "id": "1197aa9f",
      "metadata": {
        "id": "1197aa9f"
      },
      "source": [
        "Max_possible_profit signifies that if the market didn't have trade fees, you could have earned 12.468122338293616 units of currency by starting with 1.0. In other words, your money increased over 1200%."
      ]
    },
    {
      "cell_type": "code",
      "execution_count": 8,
      "id": "b75c3469",
      "metadata": {
        "colab": {
          "base_uri": "https://localhost:8080/"
        },
        "id": "b75c3469",
        "outputId": "8c029fbf-daaa-4a02-8a5a-4551a926bcfb"
      },
      "outputs": [
        {
          "output_type": "execute_result",
          "data": {
            "text/plain": [
              "12.46812233829367"
            ]
          },
          "metadata": {},
          "execution_count": 8
        }
      ],
      "source": [
        "env_1.max_possible_profit()"
      ]
    },
    {
      "cell_type": "code",
      "execution_count": 9,
      "id": "c8ed3866",
      "metadata": {
        "colab": {
          "base_uri": "https://localhost:8080/"
        },
        "id": "c8ed3866",
        "outputId": "e93f1ff4-aff4-4a4f-c18f-e5ce3390c128"
      },
      "outputs": [
        {
          "output_type": "stream",
          "name": "stdout",
          "text": [
            "(array([ 0.0111892 ,  0.0194188 ,  0.01871775, -0.00501424,  0.01913142,\n",
            "       -0.00246101,  0.01004036, -0.00306737,  0.01090562]), -0.0324540971036752, False, {'total_reward': 0.9675459028963248, 'total_profit': 1.0, 'position': 1})\n"
          ]
        }
      ],
      "source": [
        "action = 1\n",
        "print(env_1.step(action))"
      ]
    },
    {
      "cell_type": "code",
      "execution_count": 10,
      "id": "0de3e68f",
      "metadata": {
        "id": "0de3e68f"
      },
      "outputs": [],
      "source": [
        "observation, reward, done, info = env_1.step(action)"
      ]
    },
    {
      "cell_type": "markdown",
      "id": "d1826502",
      "metadata": {
        "id": "d1826502"
      },
      "source": [
        "<h2>Random and Heuristic Methods:</h2>"
      ]
    },
    {
      "cell_type": "markdown",
      "id": "c43cb901",
      "metadata": {
        "id": "c43cb901"
      },
      "source": [
        "<h3>Method 1: Random Buy/Sell</h3>"
      ]
    },
    {
      "cell_type": "code",
      "execution_count": 11,
      "id": "6acba4f4",
      "metadata": {
        "colab": {
          "base_uri": "https://localhost:8080/",
          "height": 346
        },
        "id": "6acba4f4",
        "outputId": "0f9d4ca6-2cdd-4168-d3b3-045b4dff03f9"
      },
      "outputs": [
        {
          "output_type": "stream",
          "name": "stdout",
          "text": [
            "[-0.00502075  0.0111892   0.0194188   0.01871775 -0.00501424  0.01913142\n",
            " -0.00246101  0.01004036 -0.00306737]\n",
            "info:  {'total_reward': 1.126847053846374, 'total_profit': 1.2073908859786089, 'position': 0}\n"
          ]
        },
        {
          "output_type": "display_data",
          "data": {
            "text/plain": [
              "<Figure size 432x288 with 1 Axes>"
            ],
            "image/png": "[encoded data removed]"
          },
          "metadata": {
            "needs_background": "light"
          }
        }
      ],
      "source": [
        "state = env_1.reset()\n",
        "print(state)\n",
        "while True:\n",
        "    action = env_1.action_space.sample()\n",
        "    state, reward, done, info = env_1.step(action)\n",
        "\n",
        "    if done:\n",
        "        print(\"info: \", info)\n",
        "        break\n",
        "\n",
        "env_1.render_all()"
      ]
    },
    {
      "cell_type": "markdown",
      "id": "309d61fd",
      "metadata": {
        "id": "309d61fd"
      },
      "source": [
        "<h3>Method 2: Buy low sell high (last ten days moving average)</h3>"
      ]
    },
    {
      "cell_type": "code",
      "execution_count": 12,
      "id": "5b15f637",
      "metadata": {
        "scrolled": true,
        "colab": {
          "base_uri": "https://localhost:8080/",
          "height": 235
        },
        "id": "5b15f637",
        "outputId": "eaf27ef8-5e34-43f3-e765-48d2054f178c"
      },
      "outputs": [
        {
          "output_type": "error",
          "ename": "IndexError",
          "evalue": "ignored",
          "traceback": [
            "\u001b[0;31m---------------------------------------------------------------------------\u001b[0m",
            "\u001b[0;31mIndexError\u001b[0m                                Traceback (most recent call last)",
            "\u001b[0;32m<ipython-input-12-531c87c56590>\u001b[0m in \u001b[0;36m<module>\u001b[0;34m()\u001b[0m\n\u001b[1;32m      5\u001b[0m \u001b[0;32mwhile\u001b[0m \u001b[0;32mTrue\u001b[0m\u001b[0;34m:\u001b[0m\u001b[0;34m\u001b[0m\u001b[0;34m\u001b[0m\u001b[0m\n\u001b[1;32m      6\u001b[0m     \u001b[0;32mif\u001b[0m \u001b[0mlen\u001b[0m\u001b[0;34m(\u001b[0m\u001b[0mlast_ten_days\u001b[0m\u001b[0;34m)\u001b[0m \u001b[0;34m<\u001b[0m \u001b[0;36m10\u001b[0m\u001b[0;34m:\u001b[0m\u001b[0;34m\u001b[0m\u001b[0;34m\u001b[0m\u001b[0m\n\u001b[0;32m----> 7\u001b[0;31m         \u001b[0mlast_ten_days\u001b[0m\u001b[0;34m.\u001b[0m\u001b[0mappend\u001b[0m\u001b[0;34m(\u001b[0m\u001b[0mobservation\u001b[0m\u001b[0;34m[\u001b[0m\u001b[0;36m0\u001b[0m\u001b[0;34m]\u001b[0m\u001b[0;34m[\u001b[0m\u001b[0;36m0\u001b[0m\u001b[0;34m]\u001b[0m\u001b[0;34m)\u001b[0m\u001b[0;34m\u001b[0m\u001b[0;34m\u001b[0m\u001b[0m\n\u001b[0m\u001b[1;32m      8\u001b[0m     \u001b[0;32melse\u001b[0m\u001b[0;34m:\u001b[0m\u001b[0;34m\u001b[0m\u001b[0;34m\u001b[0m\u001b[0m\n\u001b[1;32m      9\u001b[0m         \u001b[0mlast_ten_days\u001b[0m\u001b[0;34m.\u001b[0m\u001b[0mpop\u001b[0m\u001b[0;34m(\u001b[0m\u001b[0;36m0\u001b[0m\u001b[0;34m)\u001b[0m\u001b[0;34m\u001b[0m\u001b[0;34m\u001b[0m\u001b[0m\n",
            "\u001b[0;31mIndexError\u001b[0m: invalid index to scalar variable."
          ]
        }
      ],
      "source": [
        "observation = env_1.reset()\n",
        "\n",
        "last_ten_days = [] # moving average\n",
        "moving_avg = 0\n",
        "while True:\n",
        "    if len(last_ten_days) < 10:\n",
        "        last_ten_days.append(observation[0][0])\n",
        "    else:\n",
        "        last_ten_days.pop(0)\n",
        "        last_ten_days.append(observation[0][0])\n",
        "    moving_avg = sum(last_ten_days) / len(last_ten_days)\n",
        "    \n",
        "    \n",
        "    if observation[0][0] < moving_avg:\n",
        "        action = 1 # buy)\n",
        "    elif observation[0][0] > moving_avg:\n",
        "        action = 0 # sell\n",
        "    \n",
        "    observation, reward, done, info = env_1.step(action)\n",
        "    #print(type(reward))\n",
        "    if done:\n",
        "        print(\"info: \", info)\n",
        "        break\n",
        "\n",
        "env_1.render_all()\n",
        "    "
      ]
    },
    {
      "cell_type": "markdown",
      "id": "f885fa41",
      "metadata": {
        "id": "f885fa41"
      },
      "source": [
        "<h3>Method 3: Buy and Hold Strategy</h3>\n",
        "<br>\n",
        "Buy the stock at the beginning and hold throughout the period and sell stock at the very end."
      ]
    },
    {
      "cell_type": "code",
      "execution_count": null,
      "id": "e3b0a9d4",
      "metadata": {
        "id": "e3b0a9d4"
      },
      "outputs": [],
      "source": [
        "state = env_1.reset()\n",
        "count = 0\n",
        "while True:\n",
        "    count += 1\n",
        "    action = 1\n",
        "    if count > 495:\n",
        "        action = 0\n",
        "    state, reward, done, info = env_1.step(action)\n",
        "    print(reward)\n",
        "    if done:\n",
        "        print(\"info: \", info)\n",
        "        break\n",
        "\n",
        "env_1.render_all()"
      ]
    },
    {
      "cell_type": "markdown",
      "id": "7df050ff",
      "metadata": {
        "id": "7df050ff"
      },
      "source": [
        "<h2>Reinforcement Learning Methods:</h2>"
      ]
    },
    {
      "cell_type": "markdown",
      "id": "5c5becd4",
      "metadata": {
        "id": "5c5becd4"
      },
      "source": [
        "<h3>Method 4: Deep Q-Learning (DQN)</h3>"
      ]
    },
    {
      "cell_type": "code",
      "execution_count": 13,
      "id": "d5dfa0ae",
      "metadata": {
        "id": "d5dfa0ae"
      },
      "outputs": [],
      "source": [
        "# Parameters\n",
        "gamma = 0.99\n",
        "actsize = env_1.action_space.n\n",
        "obssize = env_1.observation_space.low.size\n",
        "window_size = 10"
      ]
    },
    {
      "cell_type": "code",
      "execution_count": 14,
      "id": "3994d96b",
      "metadata": {
        "id": "3994d96b"
      },
      "outputs": [],
      "source": [
        "def model_creator():\n",
        "    model = keras.Sequential()\n",
        "    model.add(layers.Dense(128,activation=\"relu\",  dtype='float64', input_shape=(window_size,)))\n",
        "    model.add(layers.Dense(500,activation=\"relu\"))\n",
        "    model.add(layers.Dense(1000,activation=\"relu\"))\n",
        "    model.add(layers.Dense(actsize,activation=\"linear\"))\n",
        "    return model"
      ]
    },
    {
      "cell_type": "code",
      "execution_count": 15,
      "id": "0b0d9905",
      "metadata": {
        "id": "0b0d9905"
      },
      "outputs": [],
      "source": [
        "batch_size = 10\n",
        "# Model used for selecting actions (principal)\n",
        "model = model_creator()\n",
        "# Then create the target model. This will periodically be copied from the principal network \n",
        "model_target = model_creator()\n",
        "\n",
        "model.build((batch_size,obssize,))\n",
        "model_target.build((batch_size,obssize,))"
      ]
    },
    {
      "cell_type": "markdown",
      "id": "f6cdc499",
      "metadata": {
        "id": "f6cdc499"
      },
      "source": [
        "**Training the Model:**"
      ]
    },
    {
      "cell_type": "code",
      "execution_count": 19,
      "id": "57730d1a",
      "metadata": {
        "id": "57730d1a"
      },
      "outputs": [],
      "source": [
        "# environment for training\n",
        "env_training = gym.make('advanced-stocks-v0', df = STOCKS_GOOGL, window_size = window_size+1, frame_bound = (window_size+1, 1500))"
      ]
    },
    {
      "cell_type": "code",
      "execution_count": null,
      "id": "d1820fde",
      "metadata": {
        "id": "d1820fde"
      },
      "outputs": [],
      "source": [
        "#tf.keras.backend.set_floatx('float64')"
      ]
    },
    {
      "cell_type": "code",
      "execution_count": 17,
      "id": "7dc9132e",
      "metadata": {
        "id": "7dc9132e"
      },
      "outputs": [],
      "source": [
        "optimizer = keras.optimizers.Adam(learning_rate=0.0005)\n",
        "\n",
        "\n",
        "    # Our Experience Replay memory \n",
        "action_history = []\n",
        "state_history = []\n",
        "state_next_history = []\n",
        "rewards_history = []\n",
        "done_history = []\n",
        "running_rewards_history = []\n",
        "\n",
        "# Replay memory size\n",
        "max_memory = 100 # You can experiment with different sizes.\n",
        "\n",
        "\n",
        "\n",
        "update_after_actions = 4\n",
        "\n",
        "# How often to update the target network\n",
        "target_update_every = 50\n",
        "loss_function = keras.losses.MeanSquaredError()\n",
        "\n",
        "epochs = 20\n",
        "\n",
        "\n",
        "def train(model, env, epsilon, adpative=True):\n",
        "\n",
        "    for epoch in range(epochs):\n",
        "      running_reward = 0\n",
        "      timestep_count = 0\n",
        "\n",
        "      #epsilon = 1\n",
        "      #adpative = True\n",
        "      #if adpative:\n",
        "      #  epsilon = np.exp(-1e-2 * timestep_count)\n",
        "      epsilon = 1 - (epoch+1)/epochs\n",
        "      state = env_training.reset()\n",
        "      while True:\n",
        "          timestep_count += 1\n",
        "\n",
        "          # adpative epsilon decay\n",
        "\n",
        "\n",
        "          # exploration\n",
        "          rand = np.random.uniform(0, 1)\n",
        "          if rand < epsilon:\n",
        "              # Take random action\n",
        "              action = np.random.choice(actsize)\n",
        "          else:\n",
        "              # Predict action Q-values\n",
        "              # From environment state\n",
        "              state_t = tf.convert_to_tensor(state)\n",
        "              state_t = tf.expand_dims(state_t, 0)\n",
        "              action_vals = model(state_t, training=False)\n",
        "              # Choose the best action\n",
        "              action = int(tf.keras.backend.argmax(action_vals))\n",
        "\n",
        "          state_next, reward, done, info = env_training.step(action)\n",
        "          #state_next = state_next[0]\n",
        "\n",
        "\n",
        "          # Save action/states and other information in replay buffer\n",
        "          action_history.append(action)\n",
        "          state_history.append(state)\n",
        "          state_next_history.append(state_next)\n",
        "          rewards_history.append(reward)\n",
        "          done_history.append(done)\n",
        "          running_rewards_history.append(info['total_reward'])\n",
        "\n",
        "          running_reward = info['total_reward']\n",
        "\n",
        "          state = state_next\n",
        "\n",
        "          # Update every Xth frame to speed up (optional)\n",
        "          # and if you have sufficient history\n",
        "          if timestep_count % update_after_actions == 0 and len(action_history) > batch_size:\n",
        "              # Sample a set of batch_size memories from the history\n",
        "              rand_samples = np.random.randint(0, len(action_history), batch_size)\n",
        "\n",
        "              action_sample = np.array(action_history)[rand_samples]\n",
        "              state_sample = np.array(state_history)[rand_samples]\n",
        "              state_next_sample = np.array(state_next_history)[rand_samples]\n",
        "              rewards_sample = np.array(rewards_history)[rand_samples]\n",
        "              done_sample = np.array(done_history)[rand_samples]\n",
        "\n",
        "              # Create for the sample states the targets (r+gamma * max Q(...)\n",
        "              state_next_sample_t = tf.convert_to_tensor(state_next_sample)\n",
        "              Q_next_state = np.max(model_target.predict(state_next_sample_t), axis=1)   \n",
        "              Q_targets = rewards_sample + gamma * Q_next_state\n",
        "\n",
        "              # What actions are relevant and need updating\n",
        "              relevant_actions = tf.cast(tf.one_hot(action_sample, actsize), tf.float32)\n",
        "\n",
        "              # we will use Gradient tape to do a custom gradient \n",
        "              # in the `with` environment we will record a set of operations\n",
        "              # and then we will take gradients with respect to the trainable parameters\n",
        "              # in the neural network\n",
        "              with tf.GradientTape() as tape:\n",
        "                  # Train the model on your action selecting network\n",
        "                  state_sample_t = tf.convert_to_tensor(np.asarray(state_sample))\n",
        "                  q_values = model(state_sample_t) \n",
        "                  #print(q_values, relevant_actions)\n",
        "                  # We consider only the relevant actions\n",
        "                  Q_of_actions = tf.reduce_sum(tf.multiply(q_values, relevant_actions), axis=1)\n",
        "                  # Calculate loss between principal network and target network\n",
        "                  loss = loss_function(Q_targets, Q_of_actions)\n",
        "\n",
        "                  # Nudge the weights of the trainable variables towards \n",
        "                  grads = tape.gradient(loss, model.trainable_variables)\n",
        "                  optimizer.apply_gradients(zip(grads, model.trainable_variables))\n",
        "\n",
        "          if timestep_count % target_update_every == 0:\n",
        "              # update the the target network with new weights\n",
        "              model_target.set_weights(model.get_weights())\n",
        "              # Log details\n",
        "              template = \"running reward: {:.2f} at episode {}, info: {} epsilon {}\"\n",
        "              print(template.format(running_reward, timestep_count, info, epsilon))\n",
        "\n",
        "          # Don't let the memory grow beyond the limit\n",
        "          if len(rewards_history) > max_memory:\n",
        "              del action_history[:1]\n",
        "              del state_history[:1]\n",
        "              del state_next_history[:1]\n",
        "              del rewards_history[:1]\n",
        "              del done_history[:1]\n",
        "\n",
        "          if done:\n",
        "              print(\"info: \", info)\n",
        "              break\n",
        "      print(\"Epoch \" + str(epoch))\n",
        "      env_training.render_all()"
      ]
    },
    {
      "cell_type": "code",
      "execution_count": null,
      "id": "321ea504",
      "metadata": {
        "id": "321ea504"
      },
      "outputs": [],
      "source": [
        "# train on Google stock data from timestep 1 to 1000\n",
        "train(model, env_training, 1, True)\n"
      ]
    },
    {
      "cell_type": "code",
      "execution_count": null,
      "id": "5575fa1c",
      "metadata": {
        "id": "5575fa1c"
      },
      "outputs": [],
      "source": [
        "model.save(\"trained_model\")"
      ]
    },
    {
      "cell_type": "code",
      "execution_count": null,
      "id": "f618ca6a",
      "metadata": {
        "id": "f618ca6a"
      },
      "outputs": [],
      "source": [
        "# plot the running rewards\n",
        "plt.plot(running_rewards_history)\n",
        "plt.title(\"Running rewards during training\")\n",
        "plt.xlabel(\"Episodes\")\n",
        "plt.ylabel(\"Running Reward\")"
      ]
    },
    {
      "cell_type": "code",
      "execution_count": null,
      "id": "3ff35d9e",
      "metadata": {
        "id": "3ff35d9e"
      },
      "outputs": [],
      "source": [
        "# test model results on the next leg of the stock data from time 1000 to 1500\n",
        "train(model, env_1, 0, False)"
      ]
    },
    {
      "cell_type": "markdown",
      "id": "79b1a1ad",
      "metadata": {
        "id": "79b1a1ad"
      },
      "source": [
        "*The reward of the Deep Q Learning function after training for 1000 timesteps is: 186.441452 and the total profit is 1.5480215108859194. The initial money increased by 155%.*"
      ]
    },
    {
      "cell_type": "code",
      "execution_count": null,
      "id": "72ab0674",
      "metadata": {
        "id": "72ab0674"
      },
      "outputs": [],
      "source": [
        ""
      ]
    }
  ],
  "metadata": {
    "kernelspec": {
      "display_name": "Python 3",
      "language": "python",
      "name": "python3"
    },
    "language_info": {
      "codemirror_mode": {
        "name": "ipython",
        "version": 3
      },
      "file_extension": ".py",
      "mimetype": "text/x-python",
      "name": "python",
      "nbconvert_exporter": "python",
      "pygments_lexer": "ipython3",
      "version": "3.7.6"
    },
    "colab": {
      "name": "RL - Stock Trading - Custom Reward.ipynb",
      "provenance": [],
      "collapsed_sections": [],
      "include_colab_link": true
    }
  },
  "nbformat": 4,
  "nbformat_minor": 5
}