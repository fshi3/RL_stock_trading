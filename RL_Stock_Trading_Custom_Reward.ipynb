{
 "cells": [
  {
   "cell_type": "markdown",
   "id": "57acab24",
   "metadata": {
    "colab_type": "text",
    "id": "view-in-github"
   },
   "source": [
    "<a href=\"https://colab.research.google.com/github/fshi3/RL_stock_trading/blob/master/RL_Stock_Trading_Custom_Reward.ipynb\" target=\"_parent\"><img src=\"https://colab.research.google.com/assets/colab-badge.svg\" alt=\"Open In Colab\"/></a>"
   ]
  },
  {
   "cell_type": "markdown",
   "id": "b2bb87f7",
   "metadata": {
    "id": "b2bb87f7"
   },
   "source": [
    "<h1>Reinforcement Learning Final Project - Stock Trading Algorithm</h1>\n",
    "    \n",
    "<br>\n",
    "Implementation using the \n",
    "\"anytrading\" environment in OpenAIGym\n",
    "<br>\n",
    "https://github.com/AminHP/gym-anytrading"
   ]
  },
  {
   "cell_type": "code",
   "execution_count": 14,
   "id": "3780bdab",
   "metadata": {
    "colab": {
     "base_uri": "https://localhost:8080/"
    },
    "id": "3780bdab",
    "outputId": "f0e1a918-339d-41f1-aff8-ea4551885fa9",
    "scrolled": true
   },
   "outputs": [
    {
     "name": "stdout",
     "output_type": "stream",
     "text": [
      "Requirement already satisfied: gym-anytrading in /Users/forestshi/opt/anaconda3/lib/python3.7/site-packages (1.2.0)\n",
      "Requirement already satisfied: matplotlib>=3.1.1 in /Users/forestshi/opt/anaconda3/lib/python3.7/site-packages (from gym-anytrading) (3.1.3)\n",
      "Requirement already satisfied: numpy>=1.16.4 in /Users/forestshi/opt/anaconda3/lib/python3.7/site-packages (from gym-anytrading) (1.21.5)\n",
      "Requirement already satisfied: pandas>=0.24.2 in /Users/forestshi/opt/anaconda3/lib/python3.7/site-packages (from gym-anytrading) (1.0.1)\n",
      "Requirement already satisfied: gym>=0.12.5 in /Users/forestshi/opt/anaconda3/lib/python3.7/site-packages (from gym-anytrading) (0.21.0)\n",
      "Requirement already satisfied: importlib-metadata>=4.8.1 in /Users/forestshi/opt/anaconda3/lib/python3.7/site-packages (from gym>=0.12.5->gym-anytrading) (4.11.3)\n",
      "Requirement already satisfied: cloudpickle>=1.2.0 in /Users/forestshi/opt/anaconda3/lib/python3.7/site-packages (from gym>=0.12.5->gym-anytrading) (2.0.0)\n",
      "Requirement already satisfied: python-dateutil>=2.1 in /Users/forestshi/opt/anaconda3/lib/python3.7/site-packages (from matplotlib>=3.1.1->gym-anytrading) (2.8.2)\n",
      "Requirement already satisfied: pyparsing!=2.0.4,!=2.1.2,!=2.1.6,>=2.0.1 in /Users/forestshi/opt/anaconda3/lib/python3.7/site-packages (from matplotlib>=3.1.1->gym-anytrading) (3.0.4)\n",
      "Requirement already satisfied: cycler>=0.10 in /Users/forestshi/opt/anaconda3/lib/python3.7/site-packages (from matplotlib>=3.1.1->gym-anytrading) (0.11.0)\n",
      "Requirement already satisfied: kiwisolver>=1.0.1 in /Users/forestshi/opt/anaconda3/lib/python3.7/site-packages (from matplotlib>=3.1.1->gym-anytrading) (1.3.2)\n",
      "Requirement already satisfied: pytz>=2017.2 in /Users/forestshi/opt/anaconda3/lib/python3.7/site-packages (from pandas>=0.24.2->gym-anytrading) (2021.3)\n",
      "Requirement already satisfied: zipp>=0.5 in /Users/forestshi/opt/anaconda3/lib/python3.7/site-packages (from importlib-metadata>=4.8.1->gym>=0.12.5->gym-anytrading) (3.7.0)\n",
      "Requirement already satisfied: typing-extensions>=3.6.4 in /Users/forestshi/opt/anaconda3/lib/python3.7/site-packages (from importlib-metadata>=4.8.1->gym>=0.12.5->gym-anytrading) (4.1.1)\n",
      "Requirement already satisfied: six>=1.5 in /Users/forestshi/opt/anaconda3/lib/python3.7/site-packages (from python-dateutil>=2.1->matplotlib>=3.1.1->gym-anytrading) (1.16.0)\n",
      "Note: you may need to restart the kernel to use updated packages.\n"
     ]
    }
   ],
   "source": [
    "pip install gym-anytrading"
   ]
  },
  {
   "cell_type": "code",
   "execution_count": 15,
   "id": "1eeff598",
   "metadata": {
    "id": "1eeff598"
   },
   "outputs": [],
   "source": [
    "# importing the OpenAIGym Environment for stock trading\n",
    "import gym\n",
    "import gym_anytrading\n",
    "from gym_anytrading.envs import Positions, Actions, StocksEnv\n",
    "import matplotlib.pyplot as plt\n",
    "import tensorflow as tf\n",
    "import numpy as np\n",
    "from tensorflow import keras\n",
    "from tensorflow.keras import layers\n",
    "from gym_anytrading.datasets import STOCKS_GOOGL\n",
    "from gym.envs.registration import register\n",
    "import random\n",
    "from copy import deepcopy\n"
   ]
  },
  {
   "cell_type": "code",
   "execution_count": 32,
   "id": "n1QJRRCWQHvk",
   "metadata": {
    "id": "n1QJRRCWQHvk"
   },
   "outputs": [],
   "source": [
    "class AdvancedEnv(StocksEnv):\n",
    "\n",
    "  def __init__(self, df, window_size, frame_bound):\n",
    "      super().__init__(df, window_size, frame_bound)\n",
    "      self.trade_fee_bid_percent = 0  # unit\n",
    "      self.trade_fee_ask_percent = 0  # unit\n",
    "\n",
    "  def reset(self):\n",
    "    obs = super().reset()\n",
    "    self._total_reward = 1\n",
    "    return obs\n",
    "\n",
    "  def _update_mdd():\n",
    "    pass\n",
    "\n",
    "  def update_sharpe():\n",
    "    pass\n",
    "\n",
    "  def _get_observation(self):\n",
    "      obs = self.signal_features[(self._current_tick-self.window_size):self._current_tick]\n",
    "      obs = np.array(obs)\n",
    "      prices = obs[1:, 1]\n",
    "      changes = obs[:-1, 0]\n",
    "      opt = prices/changes\n",
    "      return opt\n",
    "\n",
    "  def step(self, action):\n",
    "    self._done = False\n",
    "    self._current_tick += 1\n",
    "\n",
    "    if self._current_tick == self._end_tick:\n",
    "            self._done = True\n",
    "\n",
    "    step_reward = self._calculate_reward(action)\n",
    "    self._total_reward *= (1+step_reward)\n",
    "\n",
    "    self._update_profit(action)\n",
    "\n",
    "    trade = False\n",
    "    if ((action == Actions.Buy.value and self._position == Positions.Short) or\n",
    "            (action == Actions.Sell.value and self._position == Positions.Long)):\n",
    "            trade = True\n",
    "    if trade:\n",
    "        self._position = self._position.opposite()\n",
    "        self._last_trade_tick = self._current_tick\n",
    "\n",
    "    self._position_history.append(self._position)\n",
    "    observation = self._get_observation()\n",
    "    info = dict(\n",
    "            total_reward = self._total_reward,\n",
    "            total_profit = self._total_profit,\n",
    "            position = self._position.value\n",
    "    )\n",
    "    self._update_history(info)\n",
    "\n",
    "    return observation, step_reward, self._done, info\n",
    "    \n",
    "  def _calculate_reward(self, action):\n",
    "        \n",
    "        current_price = self.prices[self._current_tick]\n",
    "        last_price = self.prices[self._current_tick-1]\n",
    "    \n",
    "        percent_diff = (current_price-last_price)/last_price\n",
    "        \n",
    "        if self._position == Positions.Short:\n",
    "            return float(-percent_diff)\n",
    "        else:\n",
    "            return float(percent_diff)\n",
    "            \n",
    "        "
   ]
  },
  {
   "cell_type": "code",
   "execution_count": 33,
   "id": "AfNIwFA5QJ7i",
   "metadata": {
    "id": "AfNIwFA5QJ7i"
   },
   "outputs": [
    {
     "name": "stderr",
     "output_type": "stream",
     "text": [
      "/Users/forestshi/opt/anaconda3/lib/python3.7/site-packages/gym/envs/registration.py:216: UserWarning: \u001b[33mWARN: Overriding environment advanced-stocks-v0\u001b[0m\n",
      "  logger.warn(\"Overriding environment {}\".format(id))\n"
     ]
    }
   ],
   "source": [
    "register(\n",
    "    id='advanced-stocks-v0',\n",
    "    entry_point=AdvancedEnv,\n",
    "    kwargs={\n",
    "        'df': deepcopy(STOCKS_GOOGL),\n",
    "        'window_size': 11,\n",
    "        'frame_bound': (11, len(STOCKS_GOOGL))\n",
    "    }\n",
    ")"
   ]
  },
  {
   "cell_type": "code",
   "execution_count": 34,
   "id": "943245b2",
   "metadata": {
    "colab": {
     "base_uri": "https://localhost:8080/",
     "height": 455
    },
    "id": "943245b2",
    "outputId": "2efab325-333a-4027-f41b-527ea1f390f6"
   },
   "outputs": [
    {
     "data": {
      "text/html": [
       "<div>\n",
       "<style scoped>\n",
       "    .dataframe tbody tr th:only-of-type {\n",
       "        vertical-align: middle;\n",
       "    }\n",
       "\n",
       "    .dataframe tbody tr th {\n",
       "        vertical-align: top;\n",
       "    }\n",
       "\n",
       "    .dataframe thead th {\n",
       "        text-align: right;\n",
       "    }\n",
       "</style>\n",
       "<table border=\"1\" class=\"dataframe\">\n",
       "  <thead>\n",
       "    <tr style=\"text-align: right;\">\n",
       "      <th></th>\n",
       "      <th>Open</th>\n",
       "      <th>High</th>\n",
       "      <th>Low</th>\n",
       "      <th>Close</th>\n",
       "      <th>Adj Close</th>\n",
       "      <th>Volume</th>\n",
       "    </tr>\n",
       "    <tr>\n",
       "      <th>Date</th>\n",
       "      <th></th>\n",
       "      <th></th>\n",
       "      <th></th>\n",
       "      <th></th>\n",
       "      <th></th>\n",
       "      <th></th>\n",
       "    </tr>\n",
       "  </thead>\n",
       "  <tbody>\n",
       "    <tr>\n",
       "      <th>2009-05-22</th>\n",
       "      <td>198.528534</td>\n",
       "      <td>199.524521</td>\n",
       "      <td>196.196198</td>\n",
       "      <td>196.946945</td>\n",
       "      <td>196.946945</td>\n",
       "      <td>3433700</td>\n",
       "    </tr>\n",
       "    <tr>\n",
       "      <th>2009-05-26</th>\n",
       "      <td>196.171173</td>\n",
       "      <td>202.702698</td>\n",
       "      <td>195.195190</td>\n",
       "      <td>202.382385</td>\n",
       "      <td>202.382385</td>\n",
       "      <td>6202700</td>\n",
       "    </tr>\n",
       "    <tr>\n",
       "      <th>2009-05-27</th>\n",
       "      <td>203.023026</td>\n",
       "      <td>206.136139</td>\n",
       "      <td>202.607605</td>\n",
       "      <td>202.982986</td>\n",
       "      <td>202.982986</td>\n",
       "      <td>6062500</td>\n",
       "    </tr>\n",
       "    <tr>\n",
       "      <th>2009-05-28</th>\n",
       "      <td>204.544540</td>\n",
       "      <td>206.016022</td>\n",
       "      <td>202.507507</td>\n",
       "      <td>205.405411</td>\n",
       "      <td>205.405411</td>\n",
       "      <td>5332200</td>\n",
       "    </tr>\n",
       "    <tr>\n",
       "      <th>2009-05-29</th>\n",
       "      <td>206.261261</td>\n",
       "      <td>208.823822</td>\n",
       "      <td>205.555557</td>\n",
       "      <td>208.823822</td>\n",
       "      <td>208.823822</td>\n",
       "      <td>5291100</td>\n",
       "    </tr>\n",
       "    <tr>\n",
       "      <th>...</th>\n",
       "      <td>...</td>\n",
       "      <td>...</td>\n",
       "      <td>...</td>\n",
       "      <td>...</td>\n",
       "      <td>...</td>\n",
       "      <td>...</td>\n",
       "    </tr>\n",
       "    <tr>\n",
       "      <th>2018-08-23</th>\n",
       "      <td>1219.880005</td>\n",
       "      <td>1235.170044</td>\n",
       "      <td>1219.349976</td>\n",
       "      <td>1221.160034</td>\n",
       "      <td>1221.160034</td>\n",
       "      <td>1233300</td>\n",
       "    </tr>\n",
       "    <tr>\n",
       "      <th>2018-08-24</th>\n",
       "      <td>1226.000000</td>\n",
       "      <td>1237.400024</td>\n",
       "      <td>1221.420044</td>\n",
       "      <td>1236.750000</td>\n",
       "      <td>1236.750000</td>\n",
       "      <td>1222700</td>\n",
       "    </tr>\n",
       "    <tr>\n",
       "      <th>2018-08-27</th>\n",
       "      <td>1244.140015</td>\n",
       "      <td>1257.869995</td>\n",
       "      <td>1240.680054</td>\n",
       "      <td>1256.270020</td>\n",
       "      <td>1256.270020</td>\n",
       "      <td>1429000</td>\n",
       "    </tr>\n",
       "    <tr>\n",
       "      <th>2018-08-28</th>\n",
       "      <td>1255.900024</td>\n",
       "      <td>1256.560059</td>\n",
       "      <td>1242.969971</td>\n",
       "      <td>1245.859985</td>\n",
       "      <td>1245.859985</td>\n",
       "      <td>1366500</td>\n",
       "    </tr>\n",
       "    <tr>\n",
       "      <th>2018-08-29</th>\n",
       "      <td>1255.000000</td>\n",
       "      <td>1267.170044</td>\n",
       "      <td>1252.800049</td>\n",
       "      <td>1264.650024</td>\n",
       "      <td>1264.650024</td>\n",
       "      <td>1846300</td>\n",
       "    </tr>\n",
       "  </tbody>\n",
       "</table>\n",
       "<p>2335 rows × 6 columns</p>\n",
       "</div>"
      ],
      "text/plain": [
       "                   Open         High          Low        Close    Adj Close  \\\n",
       "Date                                                                          \n",
       "2009-05-22   198.528534   199.524521   196.196198   196.946945   196.946945   \n",
       "2009-05-26   196.171173   202.702698   195.195190   202.382385   202.382385   \n",
       "2009-05-27   203.023026   206.136139   202.607605   202.982986   202.982986   \n",
       "2009-05-28   204.544540   206.016022   202.507507   205.405411   205.405411   \n",
       "2009-05-29   206.261261   208.823822   205.555557   208.823822   208.823822   \n",
       "...                 ...          ...          ...          ...          ...   \n",
       "2018-08-23  1219.880005  1235.170044  1219.349976  1221.160034  1221.160034   \n",
       "2018-08-24  1226.000000  1237.400024  1221.420044  1236.750000  1236.750000   \n",
       "2018-08-27  1244.140015  1257.869995  1240.680054  1256.270020  1256.270020   \n",
       "2018-08-28  1255.900024  1256.560059  1242.969971  1245.859985  1245.859985   \n",
       "2018-08-29  1255.000000  1267.170044  1252.800049  1264.650024  1264.650024   \n",
       "\n",
       "             Volume  \n",
       "Date                 \n",
       "2009-05-22  3433700  \n",
       "2009-05-26  6202700  \n",
       "2009-05-27  6062500  \n",
       "2009-05-28  5332200  \n",
       "2009-05-29  5291100  \n",
       "...             ...  \n",
       "2018-08-23  1233300  \n",
       "2018-08-24  1222700  \n",
       "2018-08-27  1429000  \n",
       "2018-08-28  1366500  \n",
       "2018-08-29  1846300  \n",
       "\n",
       "[2335 rows x 6 columns]"
      ]
     },
     "execution_count": 34,
     "metadata": {},
     "output_type": "execute_result"
    }
   ],
   "source": [
    "# Google Stock dataset\n",
    "STOCKS_GOOGL"
   ]
  },
  {
   "cell_type": "code",
   "execution_count": 35,
   "id": "6cf2e657",
   "metadata": {
    "id": "6cf2e657"
   },
   "outputs": [],
   "source": [
    "env = gym.make('advanced-stocks-v0')\n",
    "env_1 = gym.make('advanced-stocks-v0',\n",
    "               df = STOCKS_GOOGL,\n",
    "               window_size = 21,\n",
    "               frame_bound = (1000, 1500))"
   ]
  },
  {
   "cell_type": "code",
   "execution_count": 36,
   "id": "90715533",
   "metadata": {
    "colab": {
     "base_uri": "https://localhost:8080/",
     "height": 294
    },
    "id": "90715533",
    "outputId": "32ad39e3-1d04-48f7-c839-b398931c829d"
   },
   "outputs": [
    {
     "data": {
      "image/png": "[encoded data removed]",
      "text/plain": [
       "<Figure size 432x288 with 1 Axes>"
      ]
     },
     "metadata": {
      "needs_background": "light"
     },
     "output_type": "display_data"
    }
   ],
   "source": [
    "env_1.reset()\n",
    "env_1.render()"
   ]
  },
  {
   "cell_type": "code",
   "execution_count": null,
   "id": "28637e41",
   "metadata": {
    "id": "28637e41"
   },
   "outputs": [],
   "source": []
  },
  {
   "cell_type": "markdown",
   "id": "1197aa9f",
   "metadata": {
    "id": "1197aa9f"
   },
   "source": [
    "Max_possible_profit signifies that if the market didn't have trade fees, you could have earned 12.468122338293616 units of currency by starting with 1.0. In other words, your money increased over 1200%."
   ]
  },
  {
   "cell_type": "code",
   "execution_count": 37,
   "id": "b75c3469",
   "metadata": {
    "colab": {
     "base_uri": "https://localhost:8080/"
    },
    "id": "b75c3469",
    "outputId": "ed500eba-48c0-4368-c16a-9abdcde6f751"
   },
   "outputs": [
    {
     "data": {
      "text/plain": [
       "12.468122338293616"
      ]
     },
     "execution_count": 37,
     "metadata": {},
     "output_type": "execute_result"
    }
   ],
   "source": [
    "env_1.max_possible_profit()"
   ]
  },
  {
   "cell_type": "code",
   "execution_count": 38,
   "id": "c8ed3866",
   "metadata": {
    "colab": {
     "base_uri": "https://localhost:8080/"
    },
    "id": "c8ed3866",
    "outputId": "f31e8d31-2f41-4fbb-8152-e9ed97879f68"
   },
   "outputs": [
    {
     "name": "stdout",
     "output_type": "stream",
     "text": [
      "(array([-0.01362547, -0.02127627,  0.04433937,  0.00030004,  0.00973615,\n",
      "        0.00686972, -0.00534761, -0.00949202,  0.02201092,  0.00672721,\n",
      "       -0.00502075,  0.0111892 ,  0.0194188 ,  0.01871775, -0.00501424,\n",
      "        0.01913142, -0.00246101,  0.01004036, -0.00306737,  0.01090562]), -0.0324540971036752, False, {'total_reward': 0.9675459028963248, 'total_profit': 1.0, 'position': 1})\n"
     ]
    }
   ],
   "source": [
    "action = 1\n",
    "print(env_1.step(action))"
   ]
  },
  {
   "cell_type": "code",
   "execution_count": 39,
   "id": "0de3e68f",
   "metadata": {
    "id": "0de3e68f"
   },
   "outputs": [],
   "source": [
    "observation, reward, done, info = env_1.step(action)"
   ]
  },
  {
   "cell_type": "markdown",
   "id": "d1826502",
   "metadata": {
    "id": "d1826502"
   },
   "source": [
    "<h2>Random and Heuristic Methods:</h2>"
   ]
  },
  {
   "cell_type": "markdown",
   "id": "c43cb901",
   "metadata": {
    "id": "c43cb901"
   },
   "source": [
    "<h3>Method 1: Random Buy/Sell</h3>"
   ]
  },
  {
   "cell_type": "code",
   "execution_count": 40,
   "id": "6acba4f4",
   "metadata": {
    "colab": {
     "base_uri": "https://localhost:8080/",
     "height": 606
    },
    "id": "6acba4f4",
    "outputId": "e526ae5f-3fab-401d-d495-34908ea234ac"
   },
   "outputs": [
    {
     "name": "stdout",
     "output_type": "stream",
     "text": [
      "[ 0.0146305  -0.01362547 -0.02127627  0.04433937  0.00030004  0.00973615\n",
      "  0.00686972 -0.00534761 -0.00949202  0.02201092  0.00672721 -0.00502075\n",
      "  0.0111892   0.0194188   0.01871775 -0.00501424  0.01913142 -0.00246101\n",
      "  0.01004036 -0.00306737]\n",
      "info:  {'total_reward': 0.8717448432097823, 'total_profit': 1.0646435401561891, 'position': 1}\n"
     ]
    },
    {
     "data": {
      "image/png": "[encoded data removed]",
      "text/plain": [
       "<Figure size 432x288 with 1 Axes>"
      ]
     },
     "metadata": {
      "needs_background": "light"
     },
     "output_type": "display_data"
    }
   ],
   "source": [
    "state = env_1.reset()\n",
    "print(state)\n",
    "while True:\n",
    "    action = env_1.action_space.sample()\n",
    "    state, reward, done, info = env_1.step(action)\n",
    "\n",
    "    if done:\n",
    "        print(\"info: \", info)\n",
    "        break\n",
    "\n",
    "env_1.render_all()"
   ]
  },
  {
   "cell_type": "markdown",
   "id": "309d61fd",
   "metadata": {
    "id": "309d61fd"
   },
   "source": [
    "<h3>Method 2: Buy low sell high (last ten days moving average)</h3>"
   ]
  },
  {
   "cell_type": "code",
   "execution_count": 41,
   "id": "5b15f637",
   "metadata": {
    "colab": {
     "base_uri": "https://localhost:8080/",
     "height": 88
    },
    "id": "5b15f637",
    "outputId": "ecd4aae1-dece-4e06-ed19-69b6dd33c00b",
    "scrolled": true
   },
   "outputs": [
    {
     "data": {
      "text/plain": [
       "'\\nobservation = env_1.reset()\\n\\nlast_ten_days = [] # moving average\\nmoving_avg = 0\\nwhile True:\\n    if len(last_ten_days) < 10:\\n        last_ten_days.append(observation[0][0])\\n    else:\\n        last_ten_days.pop(0)\\n        last_ten_days.append(observation[0][0])\\n    moving_avg = sum(last_ten_days) / len(last_ten_days)\\n    \\n    \\n    if observation[0][0] < moving_avg:\\n        action = 1 # buy)\\n    elif observation[0][0] > moving_avg:\\n        action = 0 # sell\\n    \\n    observation, reward, done, info = env_1.step(action)\\n    #print(type(reward))\\n    if done:\\n        print(\"info: \", info)\\n        break\\n\\nenv_1.render_all()\\n'"
      ]
     },
     "execution_count": 41,
     "metadata": {},
     "output_type": "execute_result"
    }
   ],
   "source": [
    "\"\"\"\n",
    "observation = env_1.reset()\n",
    "\n",
    "last_ten_days = [] # moving average\n",
    "moving_avg = 0\n",
    "while True:\n",
    "    if len(last_ten_days) < 10:\n",
    "        last_ten_days.append(observation[0][0])\n",
    "    else:\n",
    "        last_ten_days.pop(0)\n",
    "        last_ten_days.append(observation[0][0])\n",
    "    moving_avg = sum(last_ten_days) / len(last_ten_days)\n",
    "    \n",
    "    \n",
    "    if observation[0][0] < moving_avg:\n",
    "        action = 1 # buy)\n",
    "    elif observation[0][0] > moving_avg:\n",
    "        action = 0 # sell\n",
    "    \n",
    "    observation, reward, done, info = env_1.step(action)\n",
    "    #print(type(reward))\n",
    "    if done:\n",
    "        print(\"info: \", info)\n",
    "        break\n",
    "\n",
    "env_1.render_all()\n",
    "\"\"\""
   ]
  },
  {
   "cell_type": "markdown",
   "id": "f885fa41",
   "metadata": {
    "id": "f885fa41"
   },
   "source": [
    "<h3>Method 3: Buy and Hold Strategy</h3>\n",
    "<br>\n",
    "Buy the stock at the beginning and hold throughout the period and sell stock at the very end."
   ]
  },
  {
   "cell_type": "code",
   "execution_count": 42,
   "id": "e3b0a9d4",
   "metadata": {
    "colab": {
     "base_uri": "https://localhost:8080/",
     "height": 1000
    },
    "id": "e3b0a9d4",
    "outputId": "7e325e2f-6d5e-4c4f-b59d-9451b37b270b"
   },
   "outputs": [
    {
     "name": "stdout",
     "output_type": "stream",
     "text": [
      "-0.0324540971036752\n",
      "-0.013123859558008622\n",
      "0.005874730504756066\n",
      "-0.0007149116429010947\n",
      "-0.001717086270154312\n",
      "-0.019350142369590116\n",
      "-0.007454317876690034\n",
      "-0.010727299657412181\n",
      "0.009103178530074186\n",
      "-0.01470603438753689\n",
      "0.002821572352398539\n",
      "0.0005282621379610445\n",
      "-0.0041206977929952255\n",
      "-0.009831351758943997\n",
      "0.000698388329614945\n",
      "0.005746194178881114\n",
      "0.01745234675540962\n",
      "0.011924099082723169\n",
      "-0.011693727288437528\n",
      "-0.0088996400568221\n",
      "0.0057570116595735315\n",
      "-0.00223490541397262\n",
      "0.012810878392395244\n",
      "0.01621440390007061\n",
      "6.661848545525388e-05\n",
      "-0.01769778124266156\n",
      "-0.004306314041663791\n",
      "-0.01264576369460985\n",
      "-0.004127401444827464\n",
      "0.00860078555537081\n",
      "0.003914586565699556\n",
      "0.003762573903328564\n",
      "0.008530502200165877\n",
      "-0.006273422303468473\n",
      "0.004669585445257233\n",
      "0.00796454416563269\n",
      "0.012982753277002622\n",
      "0.00016572479860865177\n",
      "0.0008285573210389542\n",
      "0.015728601356181635\n",
      "0.0029992776551496145\n",
      "0.0018309407392242418\n",
      "-0.005493729794528157\n",
      "-0.001152635332835137\n",
      "-0.008567840645308154\n",
      "-0.015460997867406867\n",
      "0.015726100664851007\n",
      "-0.00757660580711721\n",
      "-0.0009957702088325526\n",
      "-0.01683470619134376\n",
      "-0.002647294935583329\n",
      "-0.003478833271679618\n",
      "0.009804290589521463\n",
      "-0.0035581698968001427\n",
      "0.018552549725472836\n",
      "0.0025989290793321635\n",
      "-0.0017318270018816832\n",
      "-0.009314892583256556\n",
      "-0.006602917889832451\n",
      "0.002256724847434939\n",
      "-0.0025204958957979673\n",
      "-0.0055030839009295495\n",
      "-0.004810806863092647\n",
      "-0.012981590234357373\n",
      "-0.011669210561451067\n",
      "-0.0031989313147201778\n",
      "0.010199471684038564\n",
      "-0.00026568910040657856\n",
      "0.00451799818110028\n",
      "0.0050383785480092045\n",
      "-0.004005947536734273\n",
      "-0.004389706310843266\n",
      "-0.018744481798886554\n",
      "-0.0018819743398271155\n",
      "0.008107966507261992\n",
      "-0.009971634300880314\n",
      "0.015916843338522148\n",
      "0.013075653915817645\n",
      "0.009097885658556164\n",
      "2.2738619579215954e-05\n",
      "0.009629636402180265\n",
      "0.0006981424204956312\n",
      "0.008462084219947394\n",
      "-0.0034925460493023023\n",
      "-0.004467813880083855\n",
      "-0.0014734820204719919\n",
      "-0.0018585636243940887\n",
      "0.019421975278135457\n",
      "-0.005457648401650231\n",
      "0.005253850978185676\n",
      "-0.01839202412916518\n",
      "0.00038352133897248995\n",
      "-0.010836237014574326\n",
      "0.001071597000904181\n",
      "-0.0020269630635591815\n",
      "-0.0005476871363327083\n",
      "0.012661086993275422\n",
      "0.0011161634532419445\n",
      "-0.013401067254036057\n",
      "-0.004269002237689759\n",
      "-0.0075771898347833395\n",
      "-0.013941841211027513\n",
      "0.00256540322441961\n",
      "0.014464984141502848\n",
      "0.004319047942805303\n",
      "0.004724849936162034\n",
      "0.006734289105767833\n",
      "0.018163100292923083\n",
      "-0.010289209106308985\n",
      "0.13796283949780352\n",
      "-0.008018492881583891\n",
      "0.00368780051909403\n",
      "0.024240270014683398\n",
      "-0.005681521896298834\n",
      "-0.010092137913247375\n",
      "-0.00019699942075121642\n",
      "0.02092607810055039\n",
      "-0.005616440693421547\n",
      "0.0001552724612284747\n",
      "-0.003434874226091083\n",
      "-0.0009056131451896513\n",
      "-0.004473153653558412\n",
      "0.00120411811677944\n",
      "-0.014470794175546165\n",
      "0.008016256486398466\n",
      "-0.005354161301747729\n",
      "0.0011775010752651412\n",
      "0.020449152369851054\n",
      "0.0026731364655025814\n",
      "-0.0016131298520856614\n",
      "-0.0019446863459572155\n",
      "-0.006155871444525023\n",
      "-0.002818953571128882\n",
      "0.011503378089972826\n",
      "-0.0021081221566618463\n",
      "0.013606003887759375\n",
      "0.011932024160135004\n",
      "0.004440630032229633\n",
      "-0.0033110744649384547\n",
      "-0.004822617208749958\n",
      "-0.0011569387998296148\n",
      "0.004671212228195473\n",
      "-0.0007937961075833673\n",
      "0.011850433210862165\n",
      "0.007729950234285587\n",
      "0.006047418142855362\n",
      "-0.006794703225394434\n",
      "-0.006804170027206401\n",
      "-0.008570433487525043\n",
      "0.011491501856521555\n",
      "-0.0029078331007462046\n",
      "0.013917712047208911\n",
      "0.0013551164718626713\n",
      "0.01325699796446684\n",
      "0.013156231980476024\n",
      "-0.002923433686886091\n",
      "0.005054671661688053\n",
      "0.0008411728851451209\n",
      "-0.007993586305736648\n",
      "0.010140041926341204\n",
      "-0.006772437794390808\n",
      "-0.007294850239444936\n",
      "0.011149379090294863\n",
      "0.01927823877904569\n",
      "0.002080977192982421\n",
      "-0.00962993926339133\n",
      "-5.308425092878423e-05\n",
      "-0.006370619764350067\n",
      "0.023526656817911402\n",
      "-0.0006785986136319745\n",
      "0.006616580257020048\n",
      "-0.004921195449034557\n",
      "0.011446937714488417\n",
      "0.0011342860758335534\n",
      "-0.004223106204969986\n",
      "-0.03126451918144208\n",
      "-0.02010985406957056\n",
      "0.01977795667846363\n",
      "-0.014327542592701026\n",
      "0.025719938526178564\n",
      "0.04014478360288817\n",
      "-0.040254992568215235\n",
      "0.004173178063334935\n",
      "0.004428198919413695\n",
      "0.014660564237848653\n",
      "0.015069537613619505\n",
      "-0.003830353433096639\n",
      "0.014706712648074112\n",
      "-0.0029322578851565797\n",
      "0.011131736406618666\n",
      "0.002416910668751853\n",
      "0.006717597127507416\n",
      "-0.0070526508745117\n",
      "0.001472092934100433\n",
      "-0.00026574954941153934\n",
      "0.007243812653973662\n",
      "0.006177219466366399\n",
      "0.00013934085087520198\n",
      "-0.0007867568357235496\n",
      "-0.0029199517986449046\n",
      "-0.010660905339401205\n",
      "0.01016051148426763\n",
      "0.002757439385204264\n",
      "0.001108110475711052\n",
      "-0.003952085711204977\n",
      "-0.00265060044745756\n",
      "-0.009557913961110852\n",
      "0.006091771427802248\n",
      "-0.015108126533857744\n",
      "-0.013674640338910032\n",
      "0.016456355932925285\n",
      "0.016072391803036663\n",
      "-0.009915254055281366\n",
      "-0.001742714176521933\n",
      "-0.01179459669460261\n",
      "-0.021224976711420977\n",
      "0.0006822339989335229\n",
      "-0.023085780187710885\n",
      "-0.015627671673139377\n",
      "0.005267956164918292\n",
      "-0.005035026136940766\n",
      "0.01828605386712126\n",
      "0.0001850362579729434\n",
      "0.005952806260074378\n",
      "-0.045931758530183726\n",
      "-0.008473168271435154\n",
      "0.031222841580907046\n",
      "0.017093806082513305\n",
      "-0.03588807983482266\n",
      "-0.01633465394891193\n",
      "0.013835171566587947\n",
      "0.006419662367872435\n",
      "0.02770186197845393\n",
      "-0.036460358441126904\n",
      "-0.00730671734589498\n",
      "0.011365120523621234\n",
      "-0.014647094408799329\n",
      "-0.0057115364232938285\n",
      "-0.021218520240930558\n",
      "-0.000229394007848348\n",
      "0.025526860511945495\n",
      "-0.002703581664346814\n",
      "0.0068240053205952805\n",
      "-0.008653248192404877\n",
      "0.0027347893938110923\n",
      "-0.02383578277845751\n",
      "-0.008745253150359301\n",
      "0.004189156370656375\n",
      "0.01239981585019683\n",
      "0.022426034165299688\n",
      "0.005776024813684649\n",
      "-0.01316616554576878\n",
      "-0.00989872619761162\n",
      "-0.0015497562136165962\n",
      "0.019931912245282908\n",
      "0.0028951579362366223\n",
      "0.01722829205125108\n",
      "0.010460250817676896\n",
      "0.015032812709706035\n",
      "0.0196346350401129\n",
      "-0.007688665330323949\n",
      "0.00019280567567075271\n",
      "0.0019104493897589472\n",
      "-0.012787539041544877\n",
      "-0.017418606743625505\n",
      "-0.0013525454662216107\n",
      "0.020171162233256972\n",
      "0.0019472076427707841\n",
      "0.008303359820508642\n",
      "-0.004257691176482389\n",
      "-0.001407686111019212\n",
      "-0.014096916299559472\n",
      "0.0015191706881143336\n",
      "-0.014366000436841253\n",
      "-0.003041812486876186\n",
      "0.018233950984653254\n",
      "0.007723071395360692\n",
      "0.002708065677411401\n",
      "0.01371523993097362\n",
      "-0.0030472410577222367\n",
      "0.023387039358847964\n",
      "-0.0019797126173056695\n",
      "0.001573237287369641\n",
      "-0.0017415680590701528\n",
      "0.011664712056887025\n",
      "-0.0012002925019914895\n",
      "0.0038931376944023014\n",
      "-0.003911794249510235\n",
      "-0.02092217785696079\n",
      "0.008575312576404573\n",
      "-0.005691180549519383\n",
      "0.01139584554635648\n",
      "0.012971935035666059\n",
      "-0.0020193383027740696\n",
      "-0.004114259953847109\n",
      "-0.01659271288301031\n",
      "0.041820146873831614\n",
      "-0.011022761424107061\n",
      "0.008572296275074368\n",
      "0.002684021706201023\n",
      "-0.0036021612928099403\n",
      "-0.008175640401060618\n",
      "0.0015717010655449586\n",
      "-0.00846383731882622\n",
      "0.0025086117853297066\n",
      "-0.02668617148096804\n",
      "-0.01026660706271987\n",
      "0.015115140102446719\n",
      "-0.01568001903996359\n",
      "0.002355401759899755\n",
      "-0.004664993379606092\n",
      "0.01072035120309294\n",
      "-0.0011938990165279058\n",
      "-0.00888697271546121\n",
      "0.021743695568619388\n",
      "0.00015400643271516875\n",
      "-0.001607802893034773\n",
      "0.01540146590116288\n",
      "0.007440480699703314\n",
      "-0.0028470667761482864\n",
      "-0.005021733151251792\n",
      "0.00020255056116163652\n",
      "-0.0033246212460621293\n",
      "-0.0041485547368815415\n",
      "-0.008705697890785055\n",
      "-0.0045969005145797045\n",
      "0.003515263949877753\n",
      "0.010766570783533566\n",
      "0.0015120109278154486\n",
      "0.00614058026392389\n",
      "0.007822797118147476\n",
      "0.006440456042736031\n",
      "-0.016056436546910583\n",
      "0.002449468843074162\n",
      "-0.0038926865730439415\n",
      "-0.010505593134245412\n",
      "-0.005573617483729096\n",
      "0.01227565816633154\n",
      "0.007659819929116526\n",
      "0.006708426145030931\n",
      "0.013611940542403224\n",
      "-0.013429143834986014\n",
      "-0.010196438455089503\n",
      "0.012246676284256519\n",
      "-0.022007926496665806\n",
      "0.004528020504058147\n",
      "-0.00015313147869503436\n",
      "0.0010206954662924466\n",
      "-0.014921514595062876\n",
      "0.00215654812417794\n",
      "0.009244585721279935\n",
      "0.002609857569296398\n",
      "-0.023274103108392685\n",
      "0.016791524826679432\n",
      "-0.02215025905626231\n",
      "-0.02736461529182978\n",
      "-0.018804376812246587\n",
      "0.007232679210646968\n",
      "-0.014507321020950517\n",
      "-0.007046025078912683\n",
      "-0.02598154742175058\n",
      "0.017993449952788964\n",
      "0.010612765218333153\n",
      "0.008661176419206747\n",
      "0.020195732295801714\n",
      "-0.008579427064198952\n",
      "0.0017853542669911643\n",
      "0.016476316501088183\n",
      "-0.0008766414968451672\n",
      "0.0032590347585130497\n",
      "0.013564843251830558\n",
      "-0.007219918354728307\n",
      "0.0007449527025220156\n",
      "-0.014604991174586468\n",
      "-0.007662577404531253\n",
      "0.0002356486424056975\n",
      "0.011616057625108766\n",
      "0.005481608135772401\n",
      "-0.0054160560835811306\n",
      "-0.00324227138378874\n",
      "-0.002246423685405709\n",
      "-0.015400109816818846\n",
      "-0.0038965405779891474\n",
      "0.004940225065834969\n",
      "-0.00628655322471018\n",
      "0.003917178462609077\n",
      "0.002912610519171875\n",
      "0.003196463914534373\n",
      "-0.0027310963614914103\n",
      "0.002464785659532537\n",
      "-0.017174168988196792\n",
      "-0.0019642304324257133\n",
      "-0.003007957664986576\n",
      "0.010447597264242568\n",
      "-0.026724168870376958\n",
      "0.005018108837093067\n",
      "0.010136990942173614\n",
      "-0.015052894416805013\n",
      "0.007707762990627044\n",
      "-0.019920646668564156\n",
      "-0.010872241934531617\n",
      "-0.03427423634188037\n",
      "0.016641255687801063\n",
      "0.01613186456001111\n",
      "0.010532010129143936\n",
      "0.02357512983357592\n",
      "0.012154860315345453\n",
      "-0.0034152364305647096\n",
      "0.008548650773547078\n",
      "-0.00777445310332198\n",
      "-0.003778022012536701\n",
      "-0.008631101011990074\n",
      "-0.002091706660528646\n",
      "-0.019053849926628653\n",
      "-0.024679487269570706\n",
      "-0.0029409856227009877\n",
      "0.003484133467098419\n",
      "-0.01221124647601164\n",
      "-0.007309480333700319\n",
      "0.009536052024045436\n",
      "0.008230380826553514\n",
      "-0.0037949578529929183\n",
      "0.012797327180069373\n",
      "-0.0010186674943542568\n",
      "0.020492632386192224\n",
      "0.032494806803700725\n",
      "0.008654427887312795\n",
      "-0.009650412185985942\n",
      "-0.02893495647472386\n",
      "-0.016807707297501015\n",
      "0.0015611634973130611\n",
      "0.047386179583663514\n",
      "-0.009952518127486164\n",
      "0.002066847003378064\n",
      "-0.013500866607932524\n",
      "0.007089985117201428\n",
      "0.007643938376560467\n",
      "-0.008616123392746223\n",
      "0.020556120397280327\n",
      "-0.003998765380566317\n",
      "0.014888494423791757\n",
      "0.009431993746781438\n",
      "-0.011158217761216253\n",
      "-0.004330170009170906\n",
      "0.007002649648827777\n",
      "-0.008509513949832305\n",
      "-0.012550734866387603\n",
      "0.0068224747663551966\n",
      "0.016114346260569307\n",
      "0.021851461875879576\n",
      "0.005971905686462995\n",
      "0.022021603700286236\n",
      "0.006556220425160108\n",
      "-0.0007946941334219528\n",
      "0.005360219786067182\n",
      "-0.01467067248455471\n",
      "0.002094522516549832\n",
      "-0.024821460713664967\n",
      "-0.007430515635138715\n",
      "0.009861579262316953\n",
      "-0.01455883822638461\n",
      "0.015623896925859063\n",
      "-0.007175468079852045\n",
      "0.015333276358026659\n",
      "-0.004398032568084841\n",
      "0.002270883741559843\n",
      "0.0007433985150530486\n",
      "0.021525696636943037\n",
      "-0.018249780796992757\n",
      "-0.005925899470899361\n",
      "-0.01080481661686152\n",
      "0.006438932969719797\n",
      "-0.011476641885893748\n",
      "-0.009392503853055588\n",
      "-0.014886516859024073\n",
      "0.0048770833898396804\n",
      "0.0016728982074182262\n",
      "0.00730470599708295\n",
      "-0.0014940728803657733\n",
      "0.0009487938050145944\n",
      "0.00018236957015381475\n",
      "-0.01614899707962433\n",
      "0.0023341897297204485\n",
      "0.004583842416169893\n",
      "-0.01983373123955951\n",
      "0.02213094421539479\n",
      "-0.0029567625553300956\n",
      "0.011530262646456993\n",
      "0.015077076924759736\n",
      "0.029060291968345052\n",
      "-0.01314363622159153\n",
      "-0.003091217437038238\n",
      "-0.005280188575581441\n",
      "-0.02247990641586316\n",
      "0.004355108538910328\n",
      "0.0030482148238292466\n",
      "0.017726735622201874\n",
      "0.01465814916484845\n",
      "-0.013007327462950314\n",
      "info:  {'total_reward': 1.189290845617156, 'total_profit': 1.2060120246225392, 'position': 0}\n"
     ]
    },
    {
     "data": {
      "image/png": "[encoded data removed]",
      "text/plain": [
       "<Figure size 432x288 with 1 Axes>"
      ]
     },
     "metadata": {
      "needs_background": "light"
     },
     "output_type": "display_data"
    }
   ],
   "source": [
    "state = env_1.reset()\n",
    "count = 0\n",
    "while True:\n",
    "    count += 1\n",
    "    action = 1\n",
    "    if count > 495:\n",
    "        action = 0\n",
    "    state, reward, done, info = env_1.step(action)\n",
    "    print(reward)\n",
    "    if done:\n",
    "        print(\"info: \", info)\n",
    "        break\n",
    "\n",
    "env_1.render_all()"
   ]
  },
  {
   "cell_type": "markdown",
   "id": "7df050ff",
   "metadata": {
    "id": "7df050ff"
   },
   "source": [
    "<h2>Reinforcement Learning Methods:</h2>"
   ]
  },
  {
   "cell_type": "markdown",
   "id": "5c5becd4",
   "metadata": {
    "id": "5c5becd4"
   },
   "source": [
    "<h3>Method 4: Deep Q-Learning (DQN)</h3>"
   ]
  },
  {
   "cell_type": "code",
   "execution_count": 27,
   "id": "d5dfa0ae",
   "metadata": {
    "id": "d5dfa0ae"
   },
   "outputs": [],
   "source": [
    "# Parameters\n",
    "gamma = 0.99\n",
    "actsize = env_1.action_space.n\n",
    "obssize = env_1.observation_space.low.size\n",
    "window_size = 20\n",
    "\n",
    "tf.random.set_seed(69420)"
   ]
  },
  {
   "cell_type": "code",
   "execution_count": 30,
   "id": "3994d96b",
   "metadata": {
    "id": "3994d96b"
   },
   "outputs": [],
   "source": [
    "def model_creator():\n",
    "    model = keras.Sequential()\n",
    "    model.add(layers.Reshape((1,window_size), input_shape=(window_size,)))\n",
    "    model.add(layers.LSTM(1, return_sequences=True))\n",
    "    model.add(layers.LSTM(1, return_sequences=False))\n",
    "    #model.add(layers.Dense(128,activation=\"relu\",  dtype='float64', input_shape=(window_size,)))\n",
    "    #model.add(layers.Dense(500,activation=\"relu\"))\n",
    "    #model.add(layers.Dense(1000,activation=\"relu\"))\n",
    "    #model.add(layers.Dense(30))\n",
    "    model.add(layers.Dense(actsize))\n",
    "    return model"
   ]
  },
  {
   "cell_type": "code",
   "execution_count": 31,
   "id": "0b0d9905",
   "metadata": {
    "id": "0b0d9905"
   },
   "outputs": [
    {
     "ename": "ValueError",
     "evalue": "Input 0 of layer lstm_2 is incompatible with the layer: expected ndim=3, found ndim=2. Full shape received: [10, 42]",
     "output_type": "error",
     "traceback": [
      "\u001b[0;31m---------------------------------------------------------------------------\u001b[0m",
      "\u001b[0;31mValueError\u001b[0m                                Traceback (most recent call last)",
      "\u001b[0;32m<ipython-input-31-25225ccc69bc>\u001b[0m in \u001b[0;36m<module>\u001b[0;34m\u001b[0m\n\u001b[1;32m      5\u001b[0m \u001b[0mmodel_target\u001b[0m \u001b[0;34m=\u001b[0m \u001b[0mmodel_creator\u001b[0m\u001b[0;34m(\u001b[0m\u001b[0;34m)\u001b[0m\u001b[0;34m\u001b[0m\u001b[0;34m\u001b[0m\u001b[0m\n\u001b[1;32m      6\u001b[0m \u001b[0;34m\u001b[0m\u001b[0m\n\u001b[0;32m----> 7\u001b[0;31m \u001b[0mmodel\u001b[0m\u001b[0;34m.\u001b[0m\u001b[0mbuild\u001b[0m\u001b[0;34m(\u001b[0m\u001b[0;34m(\u001b[0m\u001b[0mbatch_size\u001b[0m\u001b[0;34m,\u001b[0m\u001b[0mobssize\u001b[0m\u001b[0;34m,\u001b[0m\u001b[0;34m)\u001b[0m\u001b[0;34m)\u001b[0m\u001b[0;34m\u001b[0m\u001b[0;34m\u001b[0m\u001b[0m\n\u001b[0m\u001b[1;32m      8\u001b[0m \u001b[0mmodel_target\u001b[0m\u001b[0;34m.\u001b[0m\u001b[0mbuild\u001b[0m\u001b[0;34m(\u001b[0m\u001b[0;34m(\u001b[0m\u001b[0mbatch_size\u001b[0m\u001b[0;34m,\u001b[0m\u001b[0mobssize\u001b[0m\u001b[0;34m,\u001b[0m\u001b[0;34m)\u001b[0m\u001b[0;34m)\u001b[0m\u001b[0;34m\u001b[0m\u001b[0;34m\u001b[0m\u001b[0m\n",
      "\u001b[0;32m~/opt/anaconda3/lib/python3.7/site-packages/tensorflow/python/keras/engine/sequential.py\u001b[0m in \u001b[0;36mbuild\u001b[0;34m(self, input_shape)\u001b[0m\n\u001b[1;32m    347\u001b[0m         \u001b[0minput_shape\u001b[0m \u001b[0;34m=\u001b[0m \u001b[0mtuple\u001b[0m\u001b[0;34m(\u001b[0m\u001b[0minput_shape\u001b[0m\u001b[0;34m)\u001b[0m\u001b[0;34m\u001b[0m\u001b[0;34m\u001b[0m\u001b[0m\n\u001b[1;32m    348\u001b[0m         \u001b[0mself\u001b[0m\u001b[0;34m.\u001b[0m\u001b[0m_build_input_shape\u001b[0m \u001b[0;34m=\u001b[0m \u001b[0minput_shape\u001b[0m\u001b[0;34m\u001b[0m\u001b[0;34m\u001b[0m\u001b[0m\n\u001b[0;32m--> 349\u001b[0;31m         \u001b[0msuper\u001b[0m\u001b[0;34m(\u001b[0m\u001b[0mSequential\u001b[0m\u001b[0;34m,\u001b[0m \u001b[0mself\u001b[0m\u001b[0;34m)\u001b[0m\u001b[0;34m.\u001b[0m\u001b[0mbuild\u001b[0m\u001b[0;34m(\u001b[0m\u001b[0minput_shape\u001b[0m\u001b[0;34m)\u001b[0m\u001b[0;34m\u001b[0m\u001b[0;34m\u001b[0m\u001b[0m\n\u001b[0m\u001b[1;32m    350\u001b[0m     \u001b[0mself\u001b[0m\u001b[0;34m.\u001b[0m\u001b[0mbuilt\u001b[0m \u001b[0;34m=\u001b[0m \u001b[0;32mTrue\u001b[0m\u001b[0;34m\u001b[0m\u001b[0;34m\u001b[0m\u001b[0m\n\u001b[1;32m    351\u001b[0m \u001b[0;34m\u001b[0m\u001b[0m\n",
      "\u001b[0;32m~/opt/anaconda3/lib/python3.7/site-packages/tensorflow/python/keras/engine/training.py\u001b[0m in \u001b[0;36mbuild\u001b[0;34m(self, input_shape)\u001b[0m\n\u001b[1;32m    430\u001b[0m                            'method accepts an `inputs` argument.')\n\u001b[1;32m    431\u001b[0m         \u001b[0;32mtry\u001b[0m\u001b[0;34m:\u001b[0m\u001b[0;34m\u001b[0m\u001b[0;34m\u001b[0m\u001b[0m\n\u001b[0;32m--> 432\u001b[0;31m           \u001b[0mself\u001b[0m\u001b[0;34m.\u001b[0m\u001b[0mcall\u001b[0m\u001b[0;34m(\u001b[0m\u001b[0mx\u001b[0m\u001b[0;34m,\u001b[0m \u001b[0;34m**\u001b[0m\u001b[0mkwargs\u001b[0m\u001b[0;34m)\u001b[0m\u001b[0;34m\u001b[0m\u001b[0;34m\u001b[0m\u001b[0m\n\u001b[0m\u001b[1;32m    433\u001b[0m         \u001b[0;32mexcept\u001b[0m \u001b[0;34m(\u001b[0m\u001b[0merrors\u001b[0m\u001b[0;34m.\u001b[0m\u001b[0mInvalidArgumentError\u001b[0m\u001b[0;34m,\u001b[0m \u001b[0mTypeError\u001b[0m\u001b[0;34m)\u001b[0m\u001b[0;34m:\u001b[0m\u001b[0;34m\u001b[0m\u001b[0;34m\u001b[0m\u001b[0m\n\u001b[1;32m    434\u001b[0m           raise ValueError('You cannot build your model by calling `build` '\n",
      "\u001b[0;32m~/opt/anaconda3/lib/python3.7/site-packages/tensorflow/python/keras/engine/sequential.py\u001b[0m in \u001b[0;36mcall\u001b[0;34m(self, inputs, training, mask)\u001b[0m\n\u001b[1;32m    384\u001b[0m         \u001b[0mkwargs\u001b[0m\u001b[0;34m[\u001b[0m\u001b[0;34m'training'\u001b[0m\u001b[0;34m]\u001b[0m \u001b[0;34m=\u001b[0m \u001b[0mtraining\u001b[0m\u001b[0;34m\u001b[0m\u001b[0;34m\u001b[0m\u001b[0m\n\u001b[1;32m    385\u001b[0m \u001b[0;34m\u001b[0m\u001b[0m\n\u001b[0;32m--> 386\u001b[0;31m       \u001b[0moutputs\u001b[0m \u001b[0;34m=\u001b[0m \u001b[0mlayer\u001b[0m\u001b[0;34m(\u001b[0m\u001b[0minputs\u001b[0m\u001b[0;34m,\u001b[0m \u001b[0;34m**\u001b[0m\u001b[0mkwargs\u001b[0m\u001b[0;34m)\u001b[0m\u001b[0;34m\u001b[0m\u001b[0;34m\u001b[0m\u001b[0m\n\u001b[0m\u001b[1;32m    387\u001b[0m \u001b[0;34m\u001b[0m\u001b[0m\n\u001b[1;32m    388\u001b[0m       \u001b[0;32mif\u001b[0m \u001b[0mlen\u001b[0m\u001b[0;34m(\u001b[0m\u001b[0mnest\u001b[0m\u001b[0;34m.\u001b[0m\u001b[0mflatten\u001b[0m\u001b[0;34m(\u001b[0m\u001b[0moutputs\u001b[0m\u001b[0;34m)\u001b[0m\u001b[0;34m)\u001b[0m \u001b[0;34m!=\u001b[0m \u001b[0;36m1\u001b[0m\u001b[0;34m:\u001b[0m\u001b[0;34m\u001b[0m\u001b[0;34m\u001b[0m\u001b[0m\n",
      "\u001b[0;32m~/opt/anaconda3/lib/python3.7/site-packages/tensorflow/python/keras/layers/recurrent.py\u001b[0m in \u001b[0;36m__call__\u001b[0;34m(self, inputs, initial_state, constants, **kwargs)\u001b[0m\n\u001b[1;32m    661\u001b[0m \u001b[0;34m\u001b[0m\u001b[0m\n\u001b[1;32m    662\u001b[0m     \u001b[0;32mif\u001b[0m \u001b[0minitial_state\u001b[0m \u001b[0;32mis\u001b[0m \u001b[0;32mNone\u001b[0m \u001b[0;32mand\u001b[0m \u001b[0mconstants\u001b[0m \u001b[0;32mis\u001b[0m \u001b[0;32mNone\u001b[0m\u001b[0;34m:\u001b[0m\u001b[0;34m\u001b[0m\u001b[0;34m\u001b[0m\u001b[0m\n\u001b[0;32m--> 663\u001b[0;31m       \u001b[0;32mreturn\u001b[0m \u001b[0msuper\u001b[0m\u001b[0;34m(\u001b[0m\u001b[0mRNN\u001b[0m\u001b[0;34m,\u001b[0m \u001b[0mself\u001b[0m\u001b[0;34m)\u001b[0m\u001b[0;34m.\u001b[0m\u001b[0m__call__\u001b[0m\u001b[0;34m(\u001b[0m\u001b[0minputs\u001b[0m\u001b[0;34m,\u001b[0m \u001b[0;34m**\u001b[0m\u001b[0mkwargs\u001b[0m\u001b[0;34m)\u001b[0m\u001b[0;34m\u001b[0m\u001b[0;34m\u001b[0m\u001b[0m\n\u001b[0m\u001b[1;32m    664\u001b[0m \u001b[0;34m\u001b[0m\u001b[0m\n\u001b[1;32m    665\u001b[0m     \u001b[0;31m# If any of `initial_state` or `constants` are specified and are Keras\u001b[0m\u001b[0;34m\u001b[0m\u001b[0;34m\u001b[0m\u001b[0;34m\u001b[0m\u001b[0m\n",
      "\u001b[0;32m~/opt/anaconda3/lib/python3.7/site-packages/tensorflow/python/keras/engine/base_layer.py\u001b[0m in \u001b[0;36m__call__\u001b[0;34m(self, *args, **kwargs)\u001b[0m\n\u001b[1;32m    974\u001b[0m       \u001b[0;32melse\u001b[0m\u001b[0;34m:\u001b[0m\u001b[0;34m\u001b[0m\u001b[0;34m\u001b[0m\u001b[0m\n\u001b[1;32m    975\u001b[0m         input_spec.assert_input_compatibility(self.input_spec, inputs,\n\u001b[0;32m--> 976\u001b[0;31m                                               self.name)\n\u001b[0m\u001b[1;32m    977\u001b[0m         \u001b[0mname_scope\u001b[0m \u001b[0;34m=\u001b[0m \u001b[0mself\u001b[0m\u001b[0;34m.\u001b[0m\u001b[0m_name_scope\u001b[0m\u001b[0;34m(\u001b[0m\u001b[0;34m)\u001b[0m  \u001b[0;31m# Avoid autoincrementing.\u001b[0m\u001b[0;34m\u001b[0m\u001b[0;34m\u001b[0m\u001b[0m\n\u001b[1;32m    978\u001b[0m         \u001b[0mcall_fn\u001b[0m \u001b[0;34m=\u001b[0m \u001b[0mself\u001b[0m\u001b[0;34m.\u001b[0m\u001b[0m_autographed_call\u001b[0m\u001b[0;34m(\u001b[0m\u001b[0;34m)\u001b[0m\u001b[0;34m\u001b[0m\u001b[0;34m\u001b[0m\u001b[0m\n",
      "\u001b[0;32m~/opt/anaconda3/lib/python3.7/site-packages/tensorflow/python/keras/engine/input_spec.py\u001b[0m in \u001b[0;36massert_input_compatibility\u001b[0;34m(input_spec, inputs, layer_name)\u001b[0m\n\u001b[1;32m    178\u001b[0m                          \u001b[0;34m'expected ndim='\u001b[0m \u001b[0;34m+\u001b[0m \u001b[0mstr\u001b[0m\u001b[0;34m(\u001b[0m\u001b[0mspec\u001b[0m\u001b[0;34m.\u001b[0m\u001b[0mndim\u001b[0m\u001b[0;34m)\u001b[0m \u001b[0;34m+\u001b[0m \u001b[0;34m', found ndim='\u001b[0m \u001b[0;34m+\u001b[0m\u001b[0;34m\u001b[0m\u001b[0;34m\u001b[0m\u001b[0m\n\u001b[1;32m    179\u001b[0m                          \u001b[0mstr\u001b[0m\u001b[0;34m(\u001b[0m\u001b[0mndim\u001b[0m\u001b[0;34m)\u001b[0m \u001b[0;34m+\u001b[0m \u001b[0;34m'. Full shape received: '\u001b[0m \u001b[0;34m+\u001b[0m\u001b[0;34m\u001b[0m\u001b[0;34m\u001b[0m\u001b[0m\n\u001b[0;32m--> 180\u001b[0;31m                          str(x.shape.as_list()))\n\u001b[0m\u001b[1;32m    181\u001b[0m     \u001b[0;32mif\u001b[0m \u001b[0mspec\u001b[0m\u001b[0;34m.\u001b[0m\u001b[0mmax_ndim\u001b[0m \u001b[0;32mis\u001b[0m \u001b[0;32mnot\u001b[0m \u001b[0;32mNone\u001b[0m\u001b[0;34m:\u001b[0m\u001b[0;34m\u001b[0m\u001b[0;34m\u001b[0m\u001b[0m\n\u001b[1;32m    182\u001b[0m       \u001b[0mndim\u001b[0m \u001b[0;34m=\u001b[0m \u001b[0mx\u001b[0m\u001b[0;34m.\u001b[0m\u001b[0mshape\u001b[0m\u001b[0;34m.\u001b[0m\u001b[0mndims\u001b[0m\u001b[0;34m\u001b[0m\u001b[0;34m\u001b[0m\u001b[0m\n",
      "\u001b[0;31mValueError\u001b[0m: Input 0 of layer lstm_2 is incompatible with the layer: expected ndim=3, found ndim=2. Full shape received: [10, 42]"
     ]
    }
   ],
   "source": [
    "batch_size = 10\n",
    "# Model used for selecting actions (principal)\n",
    "model = model_creator()\n",
    "# Then create the target model. This will periodically be copied from the principal network \n",
    "model_target = model_creator()\n",
    "\n",
    "model.build((batch_size,obssize,))\n",
    "model_target.build((batch_size,obssize,))"
   ]
  },
  {
   "cell_type": "markdown",
   "id": "f6cdc499",
   "metadata": {
    "id": "f6cdc499"
   },
   "source": [
    "**Training the Model:**"
   ]
  },
  {
   "cell_type": "code",
   "execution_count": 17,
   "id": "57730d1a",
   "metadata": {
    "id": "57730d1a"
   },
   "outputs": [],
   "source": [
    "# environment for training\n",
    "env_training = gym.make('advanced-stocks-v0', df = STOCKS_GOOGL, window_size = window_size+1, frame_bound = (window_size+1, 1000))"
   ]
  },
  {
   "cell_type": "code",
   "execution_count": 18,
   "id": "d1820fde",
   "metadata": {
    "id": "d1820fde"
   },
   "outputs": [],
   "source": [
    "#tf.keras.backend.set_floatx('float64')"
   ]
  },
  {
   "cell_type": "code",
   "execution_count": 37,
   "id": "7dc9132e",
   "metadata": {
    "id": "7dc9132e"
   },
   "outputs": [],
   "source": [
    "optimizer = keras.optimizers.SGD(learning_rate=0.0005)\n",
    "\n",
    "\n",
    "    # Our Experience Replay memory \n",
    "action_history = []\n",
    "state_history = []\n",
    "state_next_history = []\n",
    "rewards_history = []\n",
    "done_history = []\n",
    "running_rewards_history = []\n",
    "\n",
    "# Replay memory size\n",
    "max_memory = 100 # You can experiment with different sizes.\n",
    "\n",
    "\n",
    "\n",
    "update_after_actions = 4\n",
    "\n",
    "# How often to update the target network\n",
    "target_update_every = 50\n",
    "loss_function = keras.losses.MeanSquaredError()\n",
    "\n",
    "def train(model, env, eps = 0.3, epochs=5):\n",
    "\n",
    "    for epoch in range(epochs):\n",
    "      running_reward = 0\n",
    "      timestep_count = 0\n",
    "\n",
    "      #epsilon = 1\n",
    "      #adpative = True\n",
    "      #if adpative:\n",
    "      #  epsilon = np.exp(-1e-2 * timestep_count)\n",
    "      epsilon = eps#1 - (epoch+1)/epochs\n",
    "      state = env.reset()\n",
    "      while True:\n",
    "          timestep_count += 1\n",
    "\n",
    "          # adpative epsilon decay\n",
    "\n",
    "\n",
    "          # exploration\n",
    "          rand = np.random.uniform(0, 1)\n",
    "          if rand < epsilon:\n",
    "              # Take random action\n",
    "              action = np.random.choice(actsize)\n",
    "          else:\n",
    "              # Predict action Q-values\n",
    "              # From environment state\n",
    "              state_t = tf.convert_to_tensor(state)\n",
    "              state_t = tf.expand_dims(state_t, 0)\n",
    "              action_vals = model(state_t, training=False)\n",
    "              # Choose the best action\n",
    "              action = int(tf.keras.backend.argmax(action_vals))\n",
    "\n",
    "          state_next, reward, done, info = env.step(action)\n",
    "          #state_next = state_next[0]\n",
    "\n",
    "\n",
    "          # Save action/states and other information in replay buffer\n",
    "          action_history.append(action)\n",
    "          state_history.append(state)\n",
    "          state_next_history.append(state_next)\n",
    "          rewards_history.append(reward)\n",
    "          done_history.append(done)\n",
    "          running_rewards_history.append(info['total_reward'])\n",
    "\n",
    "          running_reward = info['total_reward']\n",
    "\n",
    "          state = state_next\n",
    "\n",
    "          # Update every Xth frame to speed up (optional)\n",
    "          # and if you have sufficient history\n",
    "          if timestep_count % update_after_actions == 0 and len(action_history) > batch_size:\n",
    "              # Sample a set of batch_size memories from the history\n",
    "              rand_samples = np.random.randint(0, len(action_history), batch_size)\n",
    "\n",
    "              action_sample = np.array(action_history)[rand_samples]\n",
    "              state_sample = np.array(state_history)[rand_samples]\n",
    "              state_next_sample = np.array(state_next_history)[rand_samples]\n",
    "              rewards_sample = np.array(rewards_history)[rand_samples]\n",
    "              done_sample = np.array(done_history)[rand_samples]\n",
    "\n",
    "              # Create for the sample states the targets (r+gamma * max Q(...)\n",
    "              state_next_sample_t = tf.convert_to_tensor(state_next_sample)\n",
    "              Q_next_state = np.max(model_target.predict(state_next_sample_t), axis=1)   \n",
    "              Q_targets = rewards_sample + gamma * Q_next_state\n",
    "\n",
    "              # What actions are relevant and need updating\n",
    "              relevant_actions = tf.cast(tf.one_hot(action_sample, actsize), tf.float32)\n",
    "\n",
    "              # we will use Gradient tape to do a custom gradient \n",
    "              # in the `with` environment we will record a set of operations\n",
    "              # and then we will take gradients with respect to the trainable parameters\n",
    "              # in the neural network\n",
    "              with tf.GradientTape() as tape:\n",
    "                  # Train the model on your action selecting network\n",
    "                  state_sample_t = tf.convert_to_tensor(np.asarray(state_sample))\n",
    "                  q_values = model(state_sample_t) \n",
    "                  #print(q_values, relevant_actions)\n",
    "                  # We consider only the relevant actions\n",
    "                  Q_of_actions = tf.reduce_sum(tf.multiply(q_values, relevant_actions), axis=1)\n",
    "                  # Calculate loss between principal network and target network\n",
    "                  loss = loss_function(Q_targets, Q_of_actions)\n",
    "\n",
    "                  # Nudge the weights of the trainable variables towards \n",
    "                  grads = tape.gradient(loss, model.trainable_variables)\n",
    "                  optimizer.apply_gradients(zip(grads, model.trainable_variables))\n",
    "\n",
    "          if timestep_count % target_update_every == 0:\n",
    "              # update the the target network with new weights\n",
    "              model_target.set_weights(model.get_weights())\n",
    "              # Log details\n",
    "              template = \"running reward: {:.2f} at episode {}, info: {} epsilon {}\"\n",
    "              print(template.format(running_reward, timestep_count, info, epsilon))\n",
    "\n",
    "          # Don't let the memory grow beyond the limit\n",
    "          if len(rewards_history) > max_memory:\n",
    "              del action_history[:1]\n",
    "              del state_history[:1]\n",
    "              del state_next_history[:1]\n",
    "              del rewards_history[:1]\n",
    "              del done_history[:1]\n",
    "\n",
    "          if done:\n",
    "              print(\"info: \", info)\n",
    "              break\n",
    "      print(\"Epoch \" + str(epoch))\n",
    "      env.render_all()"
   ]
  },
  {
   "cell_type": "code",
   "execution_count": 38,
   "id": "321ea504",
   "metadata": {
    "colab": {
     "base_uri": "https://localhost:8080/",
     "height": 1000
    },
    "id": "321ea504",
    "outputId": "462c4e26-a19e-4945-dc87-93c58f8528b8"
   },
   "outputs": [
    {
     "name": "stdout",
     "output_type": "stream",
     "text": [
      "running reward: 0.91 at episode 50, info: {'total_reward': 0.9091395367703474, 'total_profit': 1.042845055899907, 'position': 1} epsilon 0.3\n",
      "running reward: 1.04 at episode 100, info: {'total_reward': 1.0395263365971437, 'total_profit': 1.2090838808398376, 'position': 0} epsilon 0.3\n",
      "running reward: 0.90 at episode 150, info: {'total_reward': 0.8983930256449256, 'total_profit': 1.2700869042110798, 'position': 1} epsilon 0.3\n",
      "running reward: 1.01 at episode 200, info: {'total_reward': 1.012289400290927, 'total_profit': 1.1967179065564302, 'position': 1} epsilon 0.3\n",
      "running reward: 1.05 at episode 250, info: {'total_reward': 1.0507506067477825, 'total_profit': 1.1598760035535751, 'position': 1} epsilon 0.3\n",
      "running reward: 0.99 at episode 300, info: {'total_reward': 0.9904716399663671, 'total_profit': 1.059251772159015, 'position': 1} epsilon 0.3\n",
      "running reward: 1.31 at episode 350, info: {'total_reward': 1.3084039120513118, 'total_profit': 1.433788853557663, 'position': 1} epsilon 0.3\n",
      "running reward: 1.25 at episode 400, info: {'total_reward': 1.2454247673063237, 'total_profit': 1.3962122584858363, 'position': 1} epsilon 0.3\n",
      "running reward: 1.17 at episode 450, info: {'total_reward': 1.1693851530196882, 'total_profit': 1.2942946654653467, 'position': 0} epsilon 0.3\n",
      "running reward: 1.03 at episode 500, info: {'total_reward': 1.0344574163881062, 'total_profit': 1.1415478657266442, 'position': 1} epsilon 0.3\n",
      "running reward: 1.35 at episode 550, info: {'total_reward': 1.352029223773462, 'total_profit': 1.3246402684910101, 'position': 1} epsilon 0.3\n",
      "running reward: 1.50 at episode 600, info: {'total_reward': 1.5013950671503908, 'total_profit': 1.5252435954327657, 'position': 1} epsilon 0.3\n",
      "running reward: 1.38 at episode 650, info: {'total_reward': 1.3766796543815094, 'total_profit': 1.4345409735852723, 'position': 0} epsilon 0.3\n",
      "running reward: 1.47 at episode 700, info: {'total_reward': 1.4742462480251182, 'total_profit': 1.5288698223607653, 'position': 1} epsilon 0.3\n",
      "running reward: 1.35 at episode 750, info: {'total_reward': 1.3481314312136334, 'total_profit': 1.5181350895234216, 'position': 1} epsilon 0.3\n",
      "running reward: 1.50 at episode 800, info: {'total_reward': 1.4956302600701448, 'total_profit': 1.6097580918813499, 'position': 1} epsilon 0.3\n",
      "running reward: 1.60 at episode 850, info: {'total_reward': 1.5969915762332336, 'total_profit': 1.708371203857506, 'position': 1} epsilon 0.3\n",
      "running reward: 1.67 at episode 900, info: {'total_reward': 1.6731893255300807, 'total_profit': 1.7917138052703692, 'position': 1} epsilon 0.3\n",
      "running reward: 1.78 at episode 950, info: {'total_reward': 1.776202488126687, 'total_profit': 1.924714283138266, 'position': 1} epsilon 0.3\n",
      "info:  {'total_reward': 2.0685405056252635, 'total_profit': 2.1674935347902964, 'position': 0}\n",
      "Epoch 0\n",
      "running reward: 1.12 at episode 50, info: {'total_reward': 1.1182152170092565, 'total_profit': 1.146469830005631, 'position': 1} epsilon 0.3\n",
      "running reward: 1.28 at episode 100, info: {'total_reward': 1.2817847906910886, 'total_profit': 1.3400755853459267, 'position': 0} epsilon 0.3\n",
      "running reward: 1.18 at episode 150, info: {'total_reward': 1.1797159339784675, 'total_profit': 1.2518438026210934, 'position': 1} epsilon 0.3\n",
      "running reward: 1.17 at episode 200, info: {'total_reward': 1.16979976861286, 'total_profit': 1.2837843029213705, 'position': 1} epsilon 0.3\n",
      "running reward: 1.20 at episode 250, info: {'total_reward': 1.2008379450582645, 'total_profit': 1.2371627712767164, 'position': 1} epsilon 0.3\n",
      "running reward: 1.02 at episode 300, info: {'total_reward': 1.0159261610408783, 'total_profit': 1.07914875578261, 'position': 1} epsilon 0.3\n",
      "running reward: 1.37 at episode 350, info: {'total_reward': 1.3652423860639367, 'total_profit': 1.4506851496024065, 'position': 1} epsilon 0.3\n",
      "running reward: 1.36 at episode 400, info: {'total_reward': 1.3597184595219127, 'total_profit': 1.4254322072667136, 'position': 1} epsilon 0.3\n",
      "running reward: 1.34 at episode 450, info: {'total_reward': 1.3442013072136445, 'total_profit': 1.384088967729375, 'position': 1} epsilon 0.3\n",
      "running reward: 1.24 at episode 500, info: {'total_reward': 1.2404291127073734, 'total_profit': 1.2669423208546735, 'position': 1} epsilon 0.3\n",
      "running reward: 1.36 at episode 550, info: {'total_reward': 1.3565001080262857, 'total_profit': 1.3391592806737393, 'position': 0} epsilon 0.3\n",
      "running reward: 1.43 at episode 600, info: {'total_reward': 1.4325425486514807, 'total_profit': 1.4801757473795316, 'position': 1} epsilon 0.3\n",
      "running reward: 1.49 at episode 650, info: {'total_reward': 1.4851888346230402, 'total_profit': 1.4810717812266558, 'position': 0} epsilon 0.3\n",
      "running reward: 1.53 at episode 700, info: {'total_reward': 1.5334095947882316, 'total_profit': 1.5801218598199198, 'position': 1} epsilon 0.3\n",
      "running reward: 1.20 at episode 750, info: {'total_reward': 1.1978095816208152, 'total_profit': 1.415269374660585, 'position': 1} epsilon 0.3\n",
      "running reward: 1.36 at episode 800, info: {'total_reward': 1.3628526785086574, 'total_profit': 1.4492429179503943, 'position': 1} epsilon 0.3\n",
      "running reward: 1.40 at episode 850, info: {'total_reward': 1.404945578665105, 'total_profit': 1.5571145891041809, 'position': 1} epsilon 0.3\n",
      "running reward: 1.30 at episode 900, info: {'total_reward': 1.298081668044219, 'total_profit': 1.5228884425636433, 'position': 0} epsilon 0.3\n",
      "running reward: 1.58 at episode 950, info: {'total_reward': 1.576289357083923, 'total_profit': 1.7875512056328278, 'position': 1} epsilon 0.3\n",
      "info:  {'total_reward': 1.7503383112259914, 'total_profit': 1.973991375421266, 'position': 1}\n",
      "Epoch 1\n",
      "running reward: 0.95 at episode 50, info: {'total_reward': 0.9537473023046584, 'total_profit': 1.0752584624625816, 'position': 1} epsilon 0.3\n",
      "running reward: 1.14 at episode 100, info: {'total_reward': 1.1449091243584513, 'total_profit': 1.2065333977421655, 'position': 1} epsilon 0.3\n",
      "running reward: 1.07 at episode 150, info: {'total_reward': 1.0746831979070586, 'total_profit': 1.200641391238763, 'position': 1} epsilon 0.3\n",
      "running reward: 1.22 at episode 200, info: {'total_reward': 1.2171212032468575, 'total_profit': 1.2665412224794725, 'position': 1} epsilon 0.3\n",
      "running reward: 1.11 at episode 250, info: {'total_reward': 1.1137840295344605, 'total_profit': 1.1611786155588264, 'position': 0} epsilon 0.3\n",
      "running reward: 1.07 at episode 300, info: {'total_reward': 1.0672803679414886, 'total_profit': 1.0984143410024334, 'position': 1} epsilon 0.3\n",
      "running reward: 1.49 at episode 350, info: {'total_reward': 1.4926804498754092, 'total_profit': 1.501548542908391, 'position': 1} epsilon 0.3\n",
      "running reward: 1.43 at episode 400, info: {'total_reward': 1.4260820176796385, 'total_profit': 1.4709704483427861, 'position': 1} epsilon 0.3\n",
      "running reward: 1.36 at episode 450, info: {'total_reward': 1.357316499500131, 'total_profit': 1.4006938859680615, 'position': 1} epsilon 0.3\n",
      "running reward: 1.23 at episode 500, info: {'total_reward': 1.2277122199209962, 'total_profit': 1.2360769804322869, 'position': 0} epsilon 0.3\n",
      "running reward: 1.40 at episode 550, info: {'total_reward': 1.4036245916948964, 'total_profit': 1.3605492256306244, 'position': 1} epsilon 0.3\n",
      "running reward: 1.55 at episode 600, info: {'total_reward': 1.5506796646485272, 'total_profit': 1.4126935218072283, 'position': 1} epsilon 0.3\n",
      "running reward: 1.95 at episode 650, info: {'total_reward': 1.953328205629246, 'total_profit': 1.7015927441139875, 'position': 1} epsilon 0.3\n",
      "running reward: 2.10 at episode 700, info: {'total_reward': 2.098302240132658, 'total_profit': 1.8370703310723278, 'position': 1} epsilon 0.3\n",
      "running reward: 2.01 at episode 750, info: {'total_reward': 2.0084174307347573, 'total_profit': 1.702154675701179, 'position': 1} epsilon 0.3\n",
      "running reward: 2.08 at episode 800, info: {'total_reward': 2.0812358510734814, 'total_profit': 1.8919340990606468, 'position': 0} epsilon 0.3\n",
      "running reward: 2.22 at episode 850, info: {'total_reward': 2.2191541955021923, 'total_profit': 1.9618892049425876, 'position': 1} epsilon 0.3\n",
      "running reward: 2.24 at episode 900, info: {'total_reward': 2.2369597068918337, 'total_profit': 2.1041757457773977, 'position': 1} epsilon 0.3\n",
      "running reward: 2.24 at episode 950, info: {'total_reward': 2.240824563380705, 'total_profit': 2.1540788193446936, 'position': 1} epsilon 0.3\n",
      "info:  {'total_reward': 2.204039770687654, 'total_profit': 2.2266835112339005, 'position': 1}\n",
      "Epoch 2\n",
      "running reward: 1.15 at episode 50, info: {'total_reward': 1.145564907878892, 'total_profit': 1.1384277174722839, 'position': 1} epsilon 0.3\n",
      "running reward: 1.37 at episode 100, info: {'total_reward': 1.3659873730018843, 'total_profit': 1.381220882751959, 'position': 1} epsilon 0.3\n",
      "running reward: 1.19 at episode 150, info: {'total_reward': 1.1891836620937997, 'total_profit': 1.262782224453239, 'position': 1} epsilon 0.3\n",
      "running reward: 1.17 at episode 200, info: {'total_reward': 1.165650467569347, 'total_profit': 1.2773847681597081, 'position': 0} epsilon 0.3\n",
      "running reward: 1.07 at episode 250, info: {'total_reward': 1.0653804443241335, 'total_profit': 1.1584912325019925, 'position': 1} epsilon 0.3\n",
      "running reward: 1.04 at episode 300, info: {'total_reward': 1.03895256942866, 'total_profit': 1.091067192079875, 'position': 1} epsilon 0.3\n",
      "running reward: 1.31 at episode 350, info: {'total_reward': 1.3084888338849976, 'total_profit': 1.4276727335942616, 'position': 1} epsilon 0.3\n",
      "running reward: 1.22 at episode 400, info: {'total_reward': 1.222536614670364, 'total_profit': 1.3678918950185561, 'position': 1} epsilon 0.3\n",
      "running reward: 1.16 at episode 450, info: {'total_reward': 1.1622309674995992, 'total_profit': 1.3169383827586525, 'position': 1} epsilon 0.3\n",
      "running reward: 1.17 at episode 500, info: {'total_reward': 1.1678633985970819, 'total_profit': 1.2374904240792681, 'position': 1} epsilon 0.3\n",
      "running reward: 1.06 at episode 550, info: {'total_reward': 1.063890792242944, 'total_profit': 1.1921933301882024, 'position': 1} epsilon 0.3\n",
      "running reward: 1.30 at episode 600, info: {'total_reward': 1.2987064915462267, 'total_profit': 1.4169505449925386, 'position': 1} epsilon 0.3\n",
      "running reward: 1.16 at episode 650, info: {'total_reward': 1.1599392655362581, 'total_profit': 1.5002698949595044, 'position': 1} epsilon 0.3\n",
      "running reward: 1.23 at episode 700, info: {'total_reward': 1.2324478572844277, 'total_profit': 1.3958255134628739, 'position': 1} epsilon 0.3\n",
      "running reward: 1.00 at episode 750, info: {'total_reward': 1.0024523686428444, 'total_profit': 1.1988548613450927, 'position': 0} epsilon 0.3\n",
      "running reward: 1.15 at episode 800, info: {'total_reward': 1.1541504576107546, 'total_profit': 1.3971359338658706, 'position': 1} epsilon 0.3\n",
      "running reward: 1.21 at episode 850, info: {'total_reward': 1.2132263355152435, 'total_profit': 1.4634217835035435, 'position': 1} epsilon 0.3\n",
      "running reward: 1.19 at episode 900, info: {'total_reward': 1.1918547031238729, 'total_profit': 1.4871225032664606, 'position': 1} epsilon 0.3\n",
      "running reward: 1.31 at episode 950, info: {'total_reward': 1.305691481829097, 'total_profit': 1.6600075317219283, 'position': 1} epsilon 0.3\n",
      "info:  {'total_reward': 1.4013965373653472, 'total_profit': 1.783309489660359, 'position': 1}\n",
      "Epoch 3\n",
      "running reward: 0.90 at episode 50, info: {'total_reward': 0.8965530251453949, 'total_profit': 1.0214625472695362, 'position': 1} epsilon 0.3\n",
      "running reward: 1.08 at episode 100, info: {'total_reward': 1.083186065964254, 'total_profit': 1.2316693809951464, 'position': 1} epsilon 0.3\n",
      "running reward: 1.00 at episode 150, info: {'total_reward': 1.0014461725175186, 'total_profit': 1.256853995947667, 'position': 1} epsilon 0.3\n",
      "running reward: 0.96 at episode 200, info: {'total_reward': 0.9620071016857594, 'total_profit': 1.161975439022377, 'position': 0} epsilon 0.3\n",
      "running reward: 0.88 at episode 250, info: {'total_reward': 0.8840961532902238, 'total_profit': 1.0565699252746714, 'position': 1} epsilon 0.3\n",
      "running reward: 0.78 at episode 300, info: {'total_reward': 0.7790389595205338, 'total_profit': 0.9374759839963317, 'position': 1} epsilon 0.3\n",
      "running reward: 1.01 at episode 350, info: {'total_reward': 1.011039534705082, 'total_profit': 1.256891529176329, 'position': 1} epsilon 0.3\n",
      "running reward: 1.05 at episode 400, info: {'total_reward': 1.0528376094647363, 'total_profit': 1.268413393175708, 'position': 1} epsilon 0.3\n",
      "running reward: 1.08 at episode 450, info: {'total_reward': 1.0755246020879516, 'total_profit': 1.249780907616874, 'position': 1} epsilon 0.3\n",
      "running reward: 1.13 at episode 500, info: {'total_reward': 1.127573876648438, 'total_profit': 1.2100569912622243, 'position': 1} epsilon 0.3\n",
      "running reward: 0.82 at episode 550, info: {'total_reward': 0.8163852998540065, 'total_profit': 1.050880440500521, 'position': 0} epsilon 0.3\n",
      "running reward: 0.90 at episode 600, info: {'total_reward': 0.9025569857838811, 'total_profit': 1.1876354689532518, 'position': 0} epsilon 0.3\n",
      "running reward: 0.95 at episode 650, info: {'total_reward': 0.9513993822990491, 'total_profit': 1.3078498048180207, 'position': 1} epsilon 0.3\n",
      "running reward: 1.06 at episode 700, info: {'total_reward': 1.055675720890082, 'total_profit': 1.230819457955909, 'position': 1} epsilon 0.3\n",
      "running reward: 0.90 at episode 750, info: {'total_reward': 0.897636388776139, 'total_profit': 1.160376984080332, 'position': 1} epsilon 0.3\n",
      "running reward: 1.13 at episode 800, info: {'total_reward': 1.128561819596063, 'total_profit': 1.397451286282374, 'position': 1} epsilon 0.3\n",
      "running reward: 1.04 at episode 850, info: {'total_reward': 1.0385207286414673, 'total_profit': 1.4791475809724395, 'position': 1} epsilon 0.3\n",
      "running reward: 0.97 at episode 900, info: {'total_reward': 0.9749140870545869, 'total_profit': 1.4041705803201507, 'position': 1} epsilon 0.3\n",
      "running reward: 1.03 at episode 950, info: {'total_reward': 1.0322519203055764, 'total_profit': 1.4692204818193926, 'position': 0} epsilon 0.3\n",
      "info:  {'total_reward': 1.13983580803613, 'total_profit': 1.611738332915927, 'position': 1}\n",
      "Epoch 4\n"
     ]
    },
    {
     "data": {
      "image/png": "[encoded data removed]",
      "text/plain": [
       "<Figure size 432x288 with 1 Axes>"
      ]
     },
     "metadata": {
      "needs_background": "light"
     },
     "output_type": "display_data"
    }
   ],
   "source": [
    "# train on Google stock data from timestep 1 to 1000\n",
    "train(model, env_training)\n"
   ]
  },
  {
   "cell_type": "code",
   "execution_count": 21,
   "id": "5575fa1c",
   "metadata": {
    "colab": {
     "base_uri": "https://localhost:8080/"
    },
    "id": "5575fa1c",
    "outputId": "5e8bf1fe-3cfa-42ff-8622-876de91f4444"
   },
   "outputs": [
    {
     "name": "stdout",
     "output_type": "stream",
     "text": [
      "WARNING:tensorflow:Compiled the loaded model, but the compiled metrics have yet to be built. `model.compile_metrics` will be empty until you train or evaluate the model.\n"
     ]
    },
    {
     "name": "stderr",
     "output_type": "stream",
     "text": [
      "WARNING:absl:Found untraced functions such as lstm_cell_layer_call_fn, lstm_cell_layer_call_and_return_conditional_losses, lstm_cell_1_layer_call_fn, lstm_cell_1_layer_call_and_return_conditional_losses while saving (showing 4 of 4). These functions will not be directly callable after loading.\n"
     ]
    },
    {
     "name": "stdout",
     "output_type": "stream",
     "text": [
      "INFO:tensorflow:Assets written to: trained_model/assets\n"
     ]
    },
    {
     "name": "stderr",
     "output_type": "stream",
     "text": [
      "INFO:tensorflow:Assets written to: trained_model/assets\n",
      "WARNING:absl:<keras.layers.recurrent.LSTMCell object at 0x7fddc8a5f5d0> has the same name 'LSTMCell' as a built-in Keras object. Consider renaming <class 'keras.layers.recurrent.LSTMCell'> to avoid naming conflicts when loading with `tf.keras.models.load_model`. If renaming is not possible, pass the object in the `custom_objects` parameter of the load function.\n",
      "WARNING:absl:<keras.layers.recurrent.LSTMCell object at 0x7fddc8a5f950> has the same name 'LSTMCell' as a built-in Keras object. Consider renaming <class 'keras.layers.recurrent.LSTMCell'> to avoid naming conflicts when loading with `tf.keras.models.load_model`. If renaming is not possible, pass the object in the `custom_objects` parameter of the load function.\n"
     ]
    }
   ],
   "source": [
    "model.save(\"trained_model\")"
   ]
  },
  {
   "cell_type": "code",
   "execution_count": 28,
   "id": "f618ca6a",
   "metadata": {
    "colab": {
     "base_uri": "https://localhost:8080/",
     "height": 312
    },
    "id": "f618ca6a",
    "outputId": "cc557f90-aa4c-4daa-a353-46af73690e88"
   },
   "outputs": [
    {
     "data": {
      "text/plain": [
       "Text(0, 0.5, 'Running Reward')"
      ]
     },
     "execution_count": 28,
     "metadata": {},
     "output_type": "execute_result"
    },
    {
     "data": {
      "image/png": "[encoded data removed]",
      "text/plain": [
       "<Figure size 432x288 with 1 Axes>"
      ]
     },
     "metadata": {
      "needs_background": "light"
     },
     "output_type": "display_data"
    }
   ],
   "source": [
    "# plot the running rewards\n",
    "plt.plot(running_rewards_history)\n",
    "plt.title(\"Running rewards during training\")\n",
    "plt.xlabel(\"Episodes\")\n",
    "plt.ylabel(\"Running Reward\")"
   ]
  },
  {
   "cell_type": "code",
   "execution_count": 39,
   "id": "3ff35d9e",
   "metadata": {
    "colab": {
     "base_uri": "https://localhost:8080/",
     "height": 485
    },
    "id": "3ff35d9e",
    "outputId": "68211704-c8a7-4f5f-8f45-81ead5c29169"
   },
   "outputs": [
    {
     "name": "stdout",
     "output_type": "stream",
     "text": [
      "running reward: 0.94 at episode 50, info: {'total_reward': 0.937765950271371, 'total_profit': 1.0, 'position': 1} epsilon 0\n",
      "running reward: 0.92 at episode 100, info: {'total_reward': 0.9215502253714615, 'total_profit': 1.0, 'position': 1} epsilon 0\n",
      "running reward: 1.13 at episode 150, info: {'total_reward': 1.1334957326386472, 'total_profit': 1.0, 'position': 1} epsilon 0\n",
      "running reward: 1.28 at episode 200, info: {'total_reward': 1.2842121995337292, 'total_profit': 1.0, 'position': 1} epsilon 0\n",
      "running reward: 1.14 at episode 250, info: {'total_reward': 1.1364569287360526, 'total_profit': 1.0, 'position': 1} epsilon 0\n",
      "running reward: 1.28 at episode 300, info: {'total_reward': 1.2773663798752863, 'total_profit': 1.0, 'position': 1} epsilon 0\n",
      "running reward: 1.23 at episode 350, info: {'total_reward': 1.2260555968814382, 'total_profit': 1.0, 'position': 1} epsilon 0\n",
      "running reward: 1.10 at episode 400, info: {'total_reward': 1.1007441486821272, 'total_profit': 1.0, 'position': 1} epsilon 0\n",
      "running reward: 1.18 at episode 450, info: {'total_reward': 1.1804858179041584, 'total_profit': 1.0, 'position': 1} epsilon 0\n",
      "info:  {'total_reward': 1.1440764754166266, 'total_profit': 1.1824518836696618, 'position': 1}\n",
      "Epoch 0\n"
     ]
    },
    {
     "data": {
      "image/png": "[encoded data removed]",
      "text/plain": [
       "<Figure size 432x288 with 1 Axes>"
      ]
     },
     "metadata": {
      "needs_background": "light"
     },
     "output_type": "display_data"
    }
   ],
   "source": [
    "# test model results on the next leg of the stock data from time 1000 to 1500\n",
    "train(model, env_1, 0, 1)"
   ]
  },
  {
   "cell_type": "markdown",
   "id": "79b1a1ad",
   "metadata": {
    "id": "79b1a1ad"
   },
   "source": [
    "*The reward of the Deep Q Learning function after training for 1000 timesteps is: 186.441452 and the total profit is 1.5480215108859194. The initial money increased by 155%.*"
   ]
  },
  {
   "cell_type": "code",
   "execution_count": null,
   "id": "72ab0674",
   "metadata": {
    "id": "72ab0674"
   },
   "outputs": [],
   "source": []
  }
 ],
 "metadata": {
  "colab": {
   "collapsed_sections": [],
   "include_colab_link": true,
   "name": "RL - Stock Trading - Custom Reward.ipynb",
   "provenance": []
  },
  "kernelspec": {
   "display_name": "Python 3",
   "language": "python",
   "name": "python3"
  },
  "language_info": {
   "codemirror_mode": {
    "name": "ipython",
    "version": 3
   },
   "file_extension": ".py",
   "mimetype": "text/x-python",
   "name": "python",
   "nbconvert_exporter": "python",
   "pygments_lexer": "ipython3",
   "version": "3.7.6"
  }
 },
 "nbformat": 4,
 "nbformat_minor": 5
}
